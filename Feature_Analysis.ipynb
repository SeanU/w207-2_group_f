{
 "cells": [
  {
   "cell_type": "code",
   "execution_count": 94,
   "metadata": {
    "collapsed": true
   },
   "outputs": [],
   "source": [
    "%matplotlib inline\n",
    "\n",
    "import pandas as pd\n",
    "import numpy as np\n",
    "import matplotlib.pyplot as plt\n",
    "\n",
    "from sklearn.grid_search import GridSearchCV\n",
    "from sklearn.linear_model import LogisticRegression\n",
    "from sklearn.svm import SVC, LinearSVC\n",
    "from sklearn.metrics import confusion_matrix, log_loss\n",
    "from sklearn.preprocessing import PolynomialFeatures\n",
    "from sklearn.ensemble import AdaBoostClassifier, RandomForestClassifier\n",
    "from sklearn.cross_validation import cross_val_score, train_test_split\n",
    "\n",
    "from patsy import dmatrices, dmatrix\n",
    "\n",
    "from datetime import date, datetime\n",
    "\n",
    "import mkl\n",
    "import accelerate\n",
    "\n",
    "pd.set_option('display.max_columns', None)\n",
    "\n",
    "\n",
    "# Suppress annoying deprecation warnings\n",
    "import warnings\n",
    "warnings.filterwarnings(\"ignore\", category=DeprecationWarning) "
   ]
  },
  {
   "cell_type": "markdown",
   "metadata": {},
   "source": [
    "# Data Import"
   ]
  },
  {
   "cell_type": "code",
   "execution_count": 95,
   "metadata": {
    "collapsed": true
   },
   "outputs": [],
   "source": [
    "train_data = pd.read_csv('train.csv', parse_dates=['DateTime'])\n",
    "test_data = pd.read_csv('test.csv', parse_dates=['DateTime'])\n",
    "\n",
    "n_train_data = len(train_data.index)"
   ]
  },
  {
   "cell_type": "markdown",
   "metadata": {},
   "source": [
    "# 1 - Feature Engineering"
   ]
  },
  {
   "cell_type": "code",
   "execution_count": 96,
   "metadata": {
    "collapsed": true
   },
   "outputs": [],
   "source": [
    "# Utility functions\n",
    "# From: http://stackoverflow.com/a/28688724\n",
    "Y = 2000 # dummy leap year to allow input X-02-29 (leap day)\n",
    "seasons = [('winter', (date(Y,  1,  1),  date(Y,  3, 20))),\n",
    "           ('spring', (date(Y,  3, 21),  date(Y,  6, 20))),\n",
    "           ('summer', (date(Y,  6, 21),  date(Y,  9, 22))),\n",
    "           ('autumn', (date(Y,  9, 23),  date(Y, 12, 20))),\n",
    "           ('winter', (date(Y, 12, 21),  date(Y, 12, 31)))]\n",
    "\n",
    "def get_season(now):\n",
    "    if isinstance(now, datetime):\n",
    "        now = now.date()\n",
    "    now = now.replace(year=Y)\n",
    "    return next(season for season, (start, end) in seasons\n",
    "                if start <= now <= end)\n"
   ]
  },
  {
   "cell_type": "code",
   "execution_count": 97,
   "metadata": {
    "collapsed": true
   },
   "outputs": [],
   "source": [
    "# Merge for engineering (will split later)\n",
    "\n",
    "feature_columns = ['AnimalID', 'Name', 'DateTime', 'AnimalType', 'SexuponOutcome', \n",
    "                    'AgeuponOutcome', 'Breed', 'Color', 'OutcomeType']\n",
    "\n",
    "train_features = train_data.loc[:, feature_columns]\n",
    "test_features = test_data.loc[:, feature_columns]\n",
    "data = pd.concat((train_features, test_features), ignore_index=True)"
   ]
  },
  {
   "cell_type": "code",
   "execution_count": 98,
   "metadata": {
    "collapsed": true
   },
   "outputs": [],
   "source": [
    "data['Season'] = data.DateTime.map(get_season)\n",
    "data['Sex X Species'] = data.SexuponOutcome + ' ' + data.AnimalType"
   ]
  },
  {
   "cell_type": "code",
   "execution_count": 99,
   "metadata": {
    "collapsed": false
   },
   "outputs": [
    {
     "name": "stdout",
     "output_type": "stream",
     "text": [
      "26729\n",
      "11456\n"
     ]
    }
   ],
   "source": [
    "train_data = data[:n_train_data]\n",
    "test_data = data[n_train_data:]\n",
    "\n",
    "print len(train_data.index)\n",
    "print len(test_data.index)"
   ]
  },
  {
   "cell_type": "markdown",
   "metadata": {},
   "source": [
    "# 2 - Comapring train and test data distributions"
   ]
  },
  {
   "cell_type": "code",
   "execution_count": 100,
   "metadata": {
    "collapsed": false,
    "scrolled": true
   },
   "outputs": [
    {
     "data": {
      "text/html": [
       "<div>\n",
       "<table border=\"1\" class=\"dataframe\">\n",
       "  <thead>\n",
       "    <tr style=\"text-align: right;\">\n",
       "      <th></th>\n",
       "      <th>AnimalID</th>\n",
       "      <th>Name</th>\n",
       "      <th>DateTime</th>\n",
       "      <th>AnimalType</th>\n",
       "      <th>SexuponOutcome</th>\n",
       "      <th>AgeuponOutcome</th>\n",
       "      <th>Breed</th>\n",
       "      <th>Color</th>\n",
       "      <th>OutcomeType</th>\n",
       "      <th>Season</th>\n",
       "      <th>Sex X Species</th>\n",
       "    </tr>\n",
       "  </thead>\n",
       "  <tbody>\n",
       "    <tr>\n",
       "      <th>count</th>\n",
       "      <td>26729</td>\n",
       "      <td>19038</td>\n",
       "      <td>26729</td>\n",
       "      <td>26729</td>\n",
       "      <td>26728</td>\n",
       "      <td>26711</td>\n",
       "      <td>26729</td>\n",
       "      <td>26729</td>\n",
       "      <td>26729</td>\n",
       "      <td>26729</td>\n",
       "      <td>26728</td>\n",
       "    </tr>\n",
       "    <tr>\n",
       "      <th>unique</th>\n",
       "      <td>26729</td>\n",
       "      <td>6374</td>\n",
       "      <td>22918</td>\n",
       "      <td>2</td>\n",
       "      <td>5</td>\n",
       "      <td>44</td>\n",
       "      <td>1380</td>\n",
       "      <td>366</td>\n",
       "      <td>5</td>\n",
       "      <td>4</td>\n",
       "      <td>10</td>\n",
       "    </tr>\n",
       "    <tr>\n",
       "      <th>top</th>\n",
       "      <td>A705677</td>\n",
       "      <td>Max</td>\n",
       "      <td>2015-08-11 00:00:00</td>\n",
       "      <td>Dog</td>\n",
       "      <td>Neutered Male</td>\n",
       "      <td>1 year</td>\n",
       "      <td>Domestic Shorthair Mix</td>\n",
       "      <td>Black/White</td>\n",
       "      <td>Adoption</td>\n",
       "      <td>autumn</td>\n",
       "      <td>Neutered Male Dog</td>\n",
       "    </tr>\n",
       "    <tr>\n",
       "      <th>freq</th>\n",
       "      <td>1</td>\n",
       "      <td>136</td>\n",
       "      <td>19</td>\n",
       "      <td>15595</td>\n",
       "      <td>9779</td>\n",
       "      <td>3969</td>\n",
       "      <td>8810</td>\n",
       "      <td>2824</td>\n",
       "      <td>10769</td>\n",
       "      <td>7777</td>\n",
       "      <td>6714</td>\n",
       "    </tr>\n",
       "    <tr>\n",
       "      <th>first</th>\n",
       "      <td>NaN</td>\n",
       "      <td>NaN</td>\n",
       "      <td>2013-10-01 09:31:00</td>\n",
       "      <td>NaN</td>\n",
       "      <td>NaN</td>\n",
       "      <td>NaN</td>\n",
       "      <td>NaN</td>\n",
       "      <td>NaN</td>\n",
       "      <td>NaN</td>\n",
       "      <td>NaN</td>\n",
       "      <td>NaN</td>\n",
       "    </tr>\n",
       "    <tr>\n",
       "      <th>last</th>\n",
       "      <td>NaN</td>\n",
       "      <td>NaN</td>\n",
       "      <td>2016-02-21 19:17:00</td>\n",
       "      <td>NaN</td>\n",
       "      <td>NaN</td>\n",
       "      <td>NaN</td>\n",
       "      <td>NaN</td>\n",
       "      <td>NaN</td>\n",
       "      <td>NaN</td>\n",
       "      <td>NaN</td>\n",
       "      <td>NaN</td>\n",
       "    </tr>\n",
       "  </tbody>\n",
       "</table>\n",
       "</div>"
      ],
      "text/plain": [
       "       AnimalID   Name             DateTime AnimalType SexuponOutcome  \\\n",
       "count     26729  19038                26729      26729          26728   \n",
       "unique    26729   6374                22918          2              5   \n",
       "top     A705677    Max  2015-08-11 00:00:00        Dog  Neutered Male   \n",
       "freq          1    136                   19      15595           9779   \n",
       "first       NaN    NaN  2013-10-01 09:31:00        NaN            NaN   \n",
       "last        NaN    NaN  2016-02-21 19:17:00        NaN            NaN   \n",
       "\n",
       "       AgeuponOutcome                   Breed        Color OutcomeType  \\\n",
       "count           26711                   26729        26729       26729   \n",
       "unique             44                    1380          366           5   \n",
       "top            1 year  Domestic Shorthair Mix  Black/White    Adoption   \n",
       "freq             3969                    8810         2824       10769   \n",
       "first             NaN                     NaN          NaN         NaN   \n",
       "last              NaN                     NaN          NaN         NaN   \n",
       "\n",
       "        Season      Sex X Species  \n",
       "count    26729              26728  \n",
       "unique       4                 10  \n",
       "top     autumn  Neutered Male Dog  \n",
       "freq      7777               6714  \n",
       "first      NaN                NaN  \n",
       "last       NaN                NaN  "
      ]
     },
     "execution_count": 100,
     "metadata": {},
     "output_type": "execute_result"
    }
   ],
   "source": [
    "train_data.describe()"
   ]
  },
  {
   "cell_type": "code",
   "execution_count": 101,
   "metadata": {
    "collapsed": true
   },
   "outputs": [],
   "source": [
    "# Function to plot bar charts of categorical variables, with \n",
    "# train and test bars side-by-side. Hard-coded to use data from global env\n",
    "def barplot_testvtrain(field_name):\n",
    "    train_size = len(train_data.index) * 1.0\n",
    "    test_size = len(test_data.index) * 1.0\n",
    "\n",
    "    train_dist = train_data.groupby(field_name).size() / train_size\n",
    "    test_dist = test_data.groupby(field_name).size() / test_size\n",
    "    \n",
    "    indices = np.arange(train_dist.size)\n",
    "    width = .35\n",
    "    \n",
    "    fig, ax = plt.subplots()\n",
    "    plt.title('{} distribution'.format(field_name))\n",
    "    \n",
    "    train_rects = ax.bar(indices, train_dist, width, color='r')\n",
    "    test_rects = ax.bar(indices + width, test_dist, width, color='b')\n",
    "\n",
    "    ax.set_xticks(indices + width)\n",
    "    ax.set_xticklabels(train_dist.index, rotation=45)\n",
    "\n",
    "    ax.legend((train_rects[0], test_rects[0]), ('Train', 'Test'), loc=0)\n",
    "    plt.show()"
   ]
  },
  {
   "cell_type": "code",
   "execution_count": 159,
   "metadata": {
    "collapsed": false
   },
   "outputs": [
    {
     "name": "stdout",
     "output_type": "stream",
     "text": [
      "<class 'pandas.core.series.Series'>\n",
      "Cat    0\n",
      "Dog    0\n",
      "dtype: int64\n",
      "\n",
      "\n",
      "Category: Adoption\n",
      "<class 'pandas.core.series.Series'>\n",
      "dist:\n",
      "AnimalType\n",
      "Cat    0.383690\n",
      "Dog    0.416608\n",
      "dtype: float64\n",
      "bottoms:\n",
      "Cat    0.383690\n",
      "Dog    0.416608\n",
      "dtype: float64\n",
      "\n",
      "\n",
      "\n",
      "Category: Transfer\n",
      "<class 'pandas.core.series.Series'>\n",
      "dist:\n",
      "AnimalType\n",
      "Cat    0.494431\n",
      "Dog    0.251170\n",
      "dtype: float64\n",
      "bottoms:\n",
      "Cat    0.878121\n",
      "Dog    0.667778\n",
      "dtype: float64\n",
      "\n",
      "\n",
      "\n",
      "Category: Return_to_owner\n",
      "<class 'pandas.core.series.Series'>\n",
      "dist:\n",
      "AnimalType\n",
      "Cat    0.044907\n",
      "Dog    0.274832\n",
      "dtype: float64\n",
      "bottoms:\n",
      "Cat    0.923029\n",
      "Dog    0.942610\n",
      "dtype: float64\n",
      "\n",
      "\n",
      "\n",
      "Category: Euthanasia\n",
      "<class 'pandas.core.series.Series'>\n",
      "dist:\n",
      "AnimalType\n",
      "Cat    0.063769\n",
      "Dog    0.054184\n",
      "dtype: float64\n",
      "bottoms:\n",
      "Cat    0.986797\n",
      "Dog    0.996794\n",
      "dtype: float64\n",
      "\n",
      "\n",
      "\n",
      "Category: Died\n",
      "<class 'pandas.core.series.Series'>\n",
      "dist:\n",
      "AnimalType\n",
      "Cat    0.013203\n",
      "Dog    0.003206\n",
      "dtype: float64\n",
      "bottoms:\n",
      "Cat    1\n",
      "Dog    1\n",
      "dtype: float64\n",
      "\n"
     ]
    },
    {
     "data": {
      "image/png": "[encoded data removed]",
      "text/plain": [
       "<matplotlib.figure.Figure at 0x114b18e50>"
      ]
     },
     "metadata": {},
     "output_type": "display_data"
    }
   ],
   "source": [
    "# Function to generate stacked bar charts of outcome v. categorical variable,\n",
    "# hard-coded to use data from global env\n",
    "def barplot_stacked(field_name):\n",
    "    plot_data = pd.DataFrame()\n",
    "    plot_data[field_name] = train_data[field_name]\n",
    "    plot_data['OutcomeType'] = train_data.OutcomeType\n",
    "    plot_data = plot_data.dropna()\n",
    "\n",
    "    # List of outcomes in order to stack, togetehr with assigned color\n",
    "    outcomes = [('Adoption', 'r'), \n",
    "                ('Transfer', 'b'), \n",
    "                ('Return_to_owner', 'g'), \n",
    "                ('Euthanasia', 'y'), \n",
    "                ('Died', 'm')]\n",
    "\n",
    "    # Getting information about the categories in the variable\n",
    "    categories = plot_data[field_name].unique()\n",
    "    cat_counts = plot_data.groupby(field_name).size()\n",
    "    indices = np.arange(categories.size)\n",
    "    \n",
    "    width = .75\n",
    "    barsets = []\n",
    "    bottoms = pd.Series({c:0 for c in categories})\n",
    "\n",
    "    print type(bottoms)\n",
    "    print bottoms\n",
    "    \n",
    "    fig, ax = plt.subplots()\n",
    "    plt.title('Outcomes by {}'.format(field_name))\n",
    "\n",
    "    # Loop over outcomes, generate bars, and stack them\n",
    "    for outcome, c in outcomes:\n",
    "        print \"\"\n",
    "        print \"\"\n",
    "        print 'Category: {}'.format(outcome)\n",
    "        dist = plot_data.loc[plot_data.OutcomeType == outcome] \\\n",
    "                         .groupby(field_name) \\\n",
    "                         .size() \\\n",
    "                         / cat_counts\n",
    "        print type(dist)\n",
    "        print \"dist:\"\n",
    "        print dist\n",
    "                    \n",
    "        bs = ax.bar(indices, dist, width, color=c, bottom = bottoms[0])\n",
    "        \n",
    "        # Keep track of what we've done. Move the points from which\n",
    "        # to draw the bars up a notch.\n",
    "        barsets.append(bs)\n",
    "        bottoms = bottoms.add(dist, 'index', fill_value=0.0)\n",
    "        print \"bottoms:\"\n",
    "        print bottoms\n",
    "        print \"\"\n",
    "\n",
    "    # Drawing category labels\n",
    "    ax.set_xticks(indices + (width / 2))\n",
    "    ax.set_xticklabels(categories, rotation=90)\n",
    "\n",
    "    # Drawing legend outside of plot\n",
    "    box = ax.get_position()\n",
    "    ax.set_position([box.x0, box.y0, box.width * 0.8, box.height])\n",
    "    ax.legend([bs[0] for bs in barsets], \n",
    "              [n[0] for n in outcomes], \n",
    "              loc='center left', \n",
    "              bbox_to_anchor=(1, 0.5))\n",
    "    \n",
    "    plt.show()\n",
    "    \n",
    "barplot_stacked('AnimalType')\n",
    "\n"
   ]
  },
  {
   "cell_type": "code",
   "execution_count": 155,
   "metadata": {
    "collapsed": false
   },
   "outputs": [
    {
     "name": "stdout",
     "output_type": "stream",
     "text": [
      "blue     1\n",
      "green    1\n",
      "red      1\n",
      "dtype: int64\n",
      "\n",
      "green    2\n",
      "red      1\n",
      "dtype: int64\n"
     ]
    },
    {
     "data": {
      "text/plain": [
       "blue     1\n",
       "green    3\n",
       "red      2\n",
       "dtype: float64"
      ]
     },
     "execution_count": 155,
     "metadata": {},
     "output_type": "execute_result"
    }
   ],
   "source": [
    "labels = ['red', 'green', 'blue']\n",
    "\n",
    "s1 = pd.Series({l: 1 for l in labels})\n",
    "s2 = pd.Series({'red': 1, 'green':2})\n",
    "\n",
    "print s1\n",
    "print \"\"\n",
    "print s2\n",
    "\n",
    "s1.add(s2, fill_value=0)\n"
   ]
  },
  {
   "cell_type": "code",
   "execution_count": null,
   "metadata": {
    "collapsed": false
   },
   "outputs": [],
   "source": [
    "barplot_testvtrain('AnimalType')\n",
    "barplot_testvtrain('SexuponOutcome')\n",
    "barplot_testvtrain('Season')"
   ]
  },
  {
   "cell_type": "code",
   "execution_count": 137,
   "metadata": {
    "collapsed": false
   },
   "outputs": [
    {
     "name": "stdout",
     "output_type": "stream",
     "text": [
      "[]\n",
      "AnimalType\n",
      "Cat    0.383690\n",
      "Dog    0.416608\n",
      "dtype: float64\n"
     ]
    },
    {
     "ename": "NotImplementedError",
     "evalue": "fill_value 0 not supported.",
     "output_type": "error",
     "traceback": [
      "\u001b[0;31m---------------------------------------------------------------------------\u001b[0m",
      "\u001b[0;31mNotImplementedError\u001b[0m                       Traceback (most recent call last)",
      "\u001b[0;32m<ipython-input-137-e8ed692c152b>\u001b[0m in \u001b[0;36m<module>\u001b[0;34m()\u001b[0m\n\u001b[0;32m----> 1\u001b[0;31m \u001b[0mbarplot_stacked\u001b[0m\u001b[0;34m(\u001b[0m\u001b[0;34m'AnimalType'\u001b[0m\u001b[0;34m)\u001b[0m\u001b[0;34m\u001b[0m\u001b[0m\n\u001b[0m\u001b[1;32m      2\u001b[0m \u001b[0mbarplot_stacked\u001b[0m\u001b[0;34m(\u001b[0m\u001b[0;34m'SexuponOutcome'\u001b[0m\u001b[0;34m)\u001b[0m\u001b[0;34m\u001b[0m\u001b[0m\n\u001b[1;32m      3\u001b[0m \u001b[0mbarplot_stacked\u001b[0m\u001b[0;34m(\u001b[0m\u001b[0;34m'Sex X Species'\u001b[0m\u001b[0;34m)\u001b[0m\u001b[0;34m\u001b[0m\u001b[0m\n\u001b[1;32m      4\u001b[0m \u001b[0mbarplot_stacked\u001b[0m\u001b[0;34m(\u001b[0m\u001b[0;34m'Season'\u001b[0m\u001b[0;34m)\u001b[0m\u001b[0;34m\u001b[0m\u001b[0m\n",
      "\u001b[0;32m<ipython-input-136-2155aaaa8fa4>\u001b[0m in \u001b[0;36mbarplot_stacked\u001b[0;34m(field_name)\u001b[0m\n\u001b[1;32m     41\u001b[0m         \u001b[0;31m# to draw the bars up a notch.\u001b[0m\u001b[0;34m\u001b[0m\u001b[0;34m\u001b[0m\u001b[0m\n\u001b[1;32m     42\u001b[0m         \u001b[0mbarsets\u001b[0m\u001b[0;34m.\u001b[0m\u001b[0mappend\u001b[0m\u001b[0;34m(\u001b[0m\u001b[0mbs\u001b[0m\u001b[0;34m)\u001b[0m\u001b[0;34m\u001b[0m\u001b[0m\n\u001b[0;32m---> 43\u001b[0;31m         \u001b[0mbottoms\u001b[0m \u001b[0;34m=\u001b[0m \u001b[0mbottoms\u001b[0m\u001b[0;34m.\u001b[0m\u001b[0madd\u001b[0m\u001b[0;34m(\u001b[0m\u001b[0mdist\u001b[0m\u001b[0;34m,\u001b[0m \u001b[0;34m'index'\u001b[0m\u001b[0;34m,\u001b[0m \u001b[0mfill_value\u001b[0m\u001b[0;34m=\u001b[0m\u001b[0;36m0\u001b[0m\u001b[0;34m)\u001b[0m\u001b[0;34m\u001b[0m\u001b[0m\n\u001b[0m\u001b[1;32m     44\u001b[0m         \u001b[0;32mprint\u001b[0m \u001b[0mbottoms\u001b[0m\u001b[0;34m\u001b[0m\u001b[0m\n\u001b[1;32m     45\u001b[0m \u001b[0;34m\u001b[0m\u001b[0m\n",
      "\u001b[0;32m//anaconda/lib/python2.7/site-packages/pandas/core/ops.pyc\u001b[0m in \u001b[0;36mf\u001b[0;34m(self, other, axis, level, fill_value)\u001b[0m\n\u001b[1;32m    993\u001b[0m             \u001b[0;32mreturn\u001b[0m \u001b[0mself\u001b[0m\u001b[0;34m.\u001b[0m\u001b[0m_combine_frame\u001b[0m\u001b[0;34m(\u001b[0m\u001b[0mother\u001b[0m\u001b[0;34m,\u001b[0m \u001b[0mna_op\u001b[0m\u001b[0;34m,\u001b[0m \u001b[0mfill_value\u001b[0m\u001b[0;34m,\u001b[0m \u001b[0mlevel\u001b[0m\u001b[0;34m)\u001b[0m\u001b[0;34m\u001b[0m\u001b[0m\n\u001b[1;32m    994\u001b[0m         \u001b[0;32melif\u001b[0m \u001b[0misinstance\u001b[0m\u001b[0;34m(\u001b[0m\u001b[0mother\u001b[0m\u001b[0;34m,\u001b[0m \u001b[0mpd\u001b[0m\u001b[0;34m.\u001b[0m\u001b[0mSeries\u001b[0m\u001b[0;34m)\u001b[0m\u001b[0;34m:\u001b[0m\u001b[0;34m\u001b[0m\u001b[0m\n\u001b[0;32m--> 995\u001b[0;31m             \u001b[0;32mreturn\u001b[0m \u001b[0mself\u001b[0m\u001b[0;34m.\u001b[0m\u001b[0m_combine_series\u001b[0m\u001b[0;34m(\u001b[0m\u001b[0mother\u001b[0m\u001b[0;34m,\u001b[0m \u001b[0mna_op\u001b[0m\u001b[0;34m,\u001b[0m \u001b[0mfill_value\u001b[0m\u001b[0;34m,\u001b[0m \u001b[0maxis\u001b[0m\u001b[0;34m,\u001b[0m \u001b[0mlevel\u001b[0m\u001b[0;34m)\u001b[0m\u001b[0;34m\u001b[0m\u001b[0m\n\u001b[0m\u001b[1;32m    996\u001b[0m         \u001b[0;32melif\u001b[0m \u001b[0misinstance\u001b[0m\u001b[0;34m(\u001b[0m\u001b[0mother\u001b[0m\u001b[0;34m,\u001b[0m \u001b[0;34m(\u001b[0m\u001b[0mlist\u001b[0m\u001b[0;34m,\u001b[0m \u001b[0mtuple\u001b[0m\u001b[0;34m)\u001b[0m\u001b[0;34m)\u001b[0m\u001b[0;34m:\u001b[0m\u001b[0;34m\u001b[0m\u001b[0m\n\u001b[1;32m    997\u001b[0m             \u001b[0;32mif\u001b[0m \u001b[0maxis\u001b[0m \u001b[0;32mis\u001b[0m \u001b[0;32mnot\u001b[0m \u001b[0mNone\u001b[0m \u001b[0;32mand\u001b[0m \u001b[0mself\u001b[0m\u001b[0;34m.\u001b[0m\u001b[0m_get_axis_name\u001b[0m\u001b[0;34m(\u001b[0m\u001b[0maxis\u001b[0m\u001b[0;34m)\u001b[0m \u001b[0;34m==\u001b[0m \u001b[0;34m'index'\u001b[0m\u001b[0;34m:\u001b[0m\u001b[0;34m\u001b[0m\u001b[0m\n",
      "\u001b[0;32m//anaconda/lib/python2.7/site-packages/pandas/core/frame.pyc\u001b[0m in \u001b[0;36m_combine_series\u001b[0;34m(self, other, func, fill_value, axis, level)\u001b[0m\n\u001b[1;32m   3383\u001b[0m             \u001b[0maxis\u001b[0m \u001b[0;34m=\u001b[0m \u001b[0mself\u001b[0m\u001b[0;34m.\u001b[0m\u001b[0m_get_axis_name\u001b[0m\u001b[0;34m(\u001b[0m\u001b[0maxis\u001b[0m\u001b[0;34m)\u001b[0m\u001b[0;34m\u001b[0m\u001b[0m\n\u001b[1;32m   3384\u001b[0m             \u001b[0;32mif\u001b[0m \u001b[0maxis\u001b[0m \u001b[0;34m==\u001b[0m \u001b[0;34m'index'\u001b[0m\u001b[0;34m:\u001b[0m\u001b[0;34m\u001b[0m\u001b[0m\n\u001b[0;32m-> 3385\u001b[0;31m                 \u001b[0;32mreturn\u001b[0m \u001b[0mself\u001b[0m\u001b[0;34m.\u001b[0m\u001b[0m_combine_match_index\u001b[0m\u001b[0;34m(\u001b[0m\u001b[0mother\u001b[0m\u001b[0;34m,\u001b[0m \u001b[0mfunc\u001b[0m\u001b[0;34m,\u001b[0m \u001b[0mlevel\u001b[0m\u001b[0;34m=\u001b[0m\u001b[0mlevel\u001b[0m\u001b[0;34m,\u001b[0m \u001b[0mfill_value\u001b[0m\u001b[0;34m=\u001b[0m\u001b[0mfill_value\u001b[0m\u001b[0;34m)\u001b[0m\u001b[0;34m\u001b[0m\u001b[0m\n\u001b[0m\u001b[1;32m   3386\u001b[0m             \u001b[0;32melse\u001b[0m\u001b[0;34m:\u001b[0m\u001b[0;34m\u001b[0m\u001b[0m\n\u001b[1;32m   3387\u001b[0m                 \u001b[0;32mreturn\u001b[0m \u001b[0mself\u001b[0m\u001b[0;34m.\u001b[0m\u001b[0m_combine_match_columns\u001b[0m\u001b[0;34m(\u001b[0m\u001b[0mother\u001b[0m\u001b[0;34m,\u001b[0m \u001b[0mfunc\u001b[0m\u001b[0;34m,\u001b[0m \u001b[0mlevel\u001b[0m\u001b[0;34m=\u001b[0m\u001b[0mlevel\u001b[0m\u001b[0;34m,\u001b[0m \u001b[0mfill_value\u001b[0m\u001b[0;34m=\u001b[0m\u001b[0mfill_value\u001b[0m\u001b[0;34m)\u001b[0m\u001b[0;34m\u001b[0m\u001b[0m\n",
      "\u001b[0;32m//anaconda/lib/python2.7/site-packages/pandas/core/frame.pyc\u001b[0m in \u001b[0;36m_combine_match_index\u001b[0;34m(self, other, func, level, fill_value)\u001b[0m\n\u001b[1;32m   3403\u001b[0m         \u001b[0;32mif\u001b[0m \u001b[0mfill_value\u001b[0m \u001b[0;32mis\u001b[0m \u001b[0;32mnot\u001b[0m \u001b[0mNone\u001b[0m\u001b[0;34m:\u001b[0m\u001b[0;34m\u001b[0m\u001b[0m\n\u001b[1;32m   3404\u001b[0m             raise NotImplementedError(\"fill_value %r not supported.\" %\n\u001b[0;32m-> 3405\u001b[0;31m                                       fill_value)\n\u001b[0m\u001b[1;32m   3406\u001b[0m         return self._constructor(func(left.values.T, right.values).T,\n\u001b[1;32m   3407\u001b[0m                                  \u001b[0mindex\u001b[0m\u001b[0;34m=\u001b[0m\u001b[0mleft\u001b[0m\u001b[0;34m.\u001b[0m\u001b[0mindex\u001b[0m\u001b[0;34m,\u001b[0m\u001b[0;34m\u001b[0m\u001b[0m\n",
      "\u001b[0;31mNotImplementedError\u001b[0m: fill_value 0 not supported."
     ]
    },
    {
     "data": {
      "image/png": "[encoded data removed]",
      "text/plain": [
       "<matplotlib.figure.Figure at 0x115071290>"
      ]
     },
     "metadata": {},
     "output_type": "display_data"
    }
   ],
   "source": [
    "barplot_stacked('AnimalType')\n",
    "barplot_stacked('SexuponOutcome')\n",
    "barplot_stacked('Sex X Species')\n",
    "barplot_stacked('Season')"
   ]
  }
 ],
 "metadata": {
  "kernelspec": {
   "display_name": "Python 2",
   "language": "python",
   "name": "python2"
  },
  "language_info": {
   "codemirror_mode": {
    "name": "ipython",
    "version": 2
   },
   "file_extension": ".py",
   "mimetype": "text/x-python",
   "name": "python",
   "nbconvert_exporter": "python",
   "pygments_lexer": "ipython2",
   "version": "2.7.11"
  }
 },
 "nbformat": 4,
 "nbformat_minor": 0
}
