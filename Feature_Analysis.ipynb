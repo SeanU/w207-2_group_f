{
 "cells": [
  {
   "cell_type": "code",
   "execution_count": 13,
   "metadata": {
    "collapsed": true
   },
   "outputs": [],
   "source": [
    "%matplotlib inline\n",
    "\n",
    "import pandas as pd\n",
    "import numpy as np\n",
    "import matplotlib.pyplot as plt\n",
    "\n",
    "from sklearn.grid_search import GridSearchCV\n",
    "from sklearn.linear_model import LogisticRegression\n",
    "from sklearn.svm import SVC, LinearSVC\n",
    "from sklearn.metrics import confusion_matrix, log_loss\n",
    "from sklearn.preprocessing import PolynomialFeatures\n",
    "from sklearn.ensemble import AdaBoostClassifier, RandomForestClassifier\n",
    "from sklearn.cross_validation import cross_val_score, train_test_split\n",
    "\n",
    "from patsy import dmatrices, dmatrix\n",
    "\n",
    "from datetime import date, datetime\n",
    "\n",
    "import mkl\n",
    "import accelerate\n",
    "\n",
    "pd.set_option('display.max_columns', None)\n",
    "\n",
    "\n",
    "# Suppress annoying deprecation warnings\n",
    "import warnings\n",
    "warnings.filterwarnings(\"ignore\", category=DeprecationWarning) "
   ]
  },
  {
   "cell_type": "markdown",
   "metadata": {},
   "source": [
    "# Data Import"
   ]
  },
  {
   "cell_type": "code",
   "execution_count": 14,
   "metadata": {
    "collapsed": true
   },
   "outputs": [],
   "source": [
    "train_data = pd.read_csv('train.csv', parse_dates=['DateTime'])\n",
    "test_data = pd.read_csv('test.csv', parse_dates=['DateTime'])\n",
    "\n",
    "n_train_data = len(train_data.index)"
   ]
  },
  {
   "cell_type": "markdown",
   "metadata": {},
   "source": [
    "# 1 - Feature Engineering"
   ]
  },
  {
   "cell_type": "code",
   "execution_count": 15,
   "metadata": {
    "collapsed": true
   },
   "outputs": [],
   "source": [
    "# Utility functions\n",
    "# From: http://stackoverflow.com/a/28688724\n",
    "Y = 2000 # dummy leap year to allow input X-02-29 (leap day)\n",
    "seasons = [('winter', (date(Y,  1,  1),  date(Y,  3, 20))),\n",
    "           ('spring', (date(Y,  3, 21),  date(Y,  6, 20))),\n",
    "           ('summer', (date(Y,  6, 21),  date(Y,  9, 22))),\n",
    "           ('autumn', (date(Y,  9, 23),  date(Y, 12, 20))),\n",
    "           ('winter', (date(Y, 12, 21),  date(Y, 12, 31)))]\n",
    "\n",
    "def get_season(now):\n",
    "    if isinstance(now, datetime):\n",
    "        now = now.date()\n",
    "    now = now.replace(year=Y)\n",
    "    return next(season for season, (start, end) in seasons\n",
    "                if start <= now <= end)\n"
   ]
  },
  {
   "cell_type": "code",
   "execution_count": 16,
   "metadata": {
    "collapsed": true
   },
   "outputs": [],
   "source": [
    "# Merge for engineering (will split later)\n",
    "\n",
    "feature_columns = ['AnimalID', 'Name', 'DateTime', 'AnimalType', 'SexuponOutcome', \n",
    "                    'AgeuponOutcome', 'Breed', 'Color', 'OutcomeType']\n",
    "\n",
    "train_features = train_data.loc[:, feature_columns]\n",
    "test_features = test_data.loc[:, feature_columns]\n",
    "data = pd.concat((train_features, test_features), ignore_index=True)"
   ]
  },
  {
   "cell_type": "code",
   "execution_count": 17,
   "metadata": {
    "collapsed": true
   },
   "outputs": [],
   "source": [
    "data['Season'] = data.DateTime.map(get_season)"
   ]
  },
  {
   "cell_type": "code",
   "execution_count": 18,
   "metadata": {
    "collapsed": false
   },
   "outputs": [
    {
     "name": "stdout",
     "output_type": "stream",
     "text": [
      "26729\n",
      "11456\n"
     ]
    }
   ],
   "source": [
    "train_data = data[:n_train_data]\n",
    "test_data = data[n_train_data:]\n",
    "\n",
    "print len(train_data.index)\n",
    "print len(test_data.index)"
   ]
  },
  {
   "cell_type": "markdown",
   "metadata": {},
   "source": [
    "# 2 - Comapring train and test data distributions"
   ]
  },
  {
   "cell_type": "code",
   "execution_count": 19,
   "metadata": {
    "collapsed": false,
    "scrolled": true
   },
   "outputs": [
    {
     "data": {
      "text/html": [
       "<div>\n",
       "<table border=\"1\" class=\"dataframe\">\n",
       "  <thead>\n",
       "    <tr style=\"text-align: right;\">\n",
       "      <th></th>\n",
       "      <th>AnimalID</th>\n",
       "      <th>Name</th>\n",
       "      <th>DateTime</th>\n",
       "      <th>AnimalType</th>\n",
       "      <th>SexuponOutcome</th>\n",
       "      <th>AgeuponOutcome</th>\n",
       "      <th>Breed</th>\n",
       "      <th>Color</th>\n",
       "      <th>OutcomeType</th>\n",
       "      <th>Season</th>\n",
       "    </tr>\n",
       "  </thead>\n",
       "  <tbody>\n",
       "    <tr>\n",
       "      <th>count</th>\n",
       "      <td>26729</td>\n",
       "      <td>19038</td>\n",
       "      <td>26729</td>\n",
       "      <td>26729</td>\n",
       "      <td>26728</td>\n",
       "      <td>26711</td>\n",
       "      <td>26729</td>\n",
       "      <td>26729</td>\n",
       "      <td>26729</td>\n",
       "      <td>26729</td>\n",
       "    </tr>\n",
       "    <tr>\n",
       "      <th>unique</th>\n",
       "      <td>26729</td>\n",
       "      <td>6374</td>\n",
       "      <td>22918</td>\n",
       "      <td>2</td>\n",
       "      <td>5</td>\n",
       "      <td>44</td>\n",
       "      <td>1380</td>\n",
       "      <td>366</td>\n",
       "      <td>5</td>\n",
       "      <td>4</td>\n",
       "    </tr>\n",
       "    <tr>\n",
       "      <th>top</th>\n",
       "      <td>A705677</td>\n",
       "      <td>Max</td>\n",
       "      <td>2015-08-11 00:00:00</td>\n",
       "      <td>Dog</td>\n",
       "      <td>Neutered Male</td>\n",
       "      <td>1 year</td>\n",
       "      <td>Domestic Shorthair Mix</td>\n",
       "      <td>Black/White</td>\n",
       "      <td>Adoption</td>\n",
       "      <td>autumn</td>\n",
       "    </tr>\n",
       "    <tr>\n",
       "      <th>freq</th>\n",
       "      <td>1</td>\n",
       "      <td>136</td>\n",
       "      <td>19</td>\n",
       "      <td>15595</td>\n",
       "      <td>9779</td>\n",
       "      <td>3969</td>\n",
       "      <td>8810</td>\n",
       "      <td>2824</td>\n",
       "      <td>10769</td>\n",
       "      <td>7777</td>\n",
       "    </tr>\n",
       "    <tr>\n",
       "      <th>first</th>\n",
       "      <td>NaN</td>\n",
       "      <td>NaN</td>\n",
       "      <td>2013-10-01 09:31:00</td>\n",
       "      <td>NaN</td>\n",
       "      <td>NaN</td>\n",
       "      <td>NaN</td>\n",
       "      <td>NaN</td>\n",
       "      <td>NaN</td>\n",
       "      <td>NaN</td>\n",
       "      <td>NaN</td>\n",
       "    </tr>\n",
       "    <tr>\n",
       "      <th>last</th>\n",
       "      <td>NaN</td>\n",
       "      <td>NaN</td>\n",
       "      <td>2016-02-21 19:17:00</td>\n",
       "      <td>NaN</td>\n",
       "      <td>NaN</td>\n",
       "      <td>NaN</td>\n",
       "      <td>NaN</td>\n",
       "      <td>NaN</td>\n",
       "      <td>NaN</td>\n",
       "      <td>NaN</td>\n",
       "    </tr>\n",
       "  </tbody>\n",
       "</table>\n",
       "</div>"
      ],
      "text/plain": [
       "       AnimalID   Name             DateTime AnimalType SexuponOutcome  \\\n",
       "count     26729  19038                26729      26729          26728   \n",
       "unique    26729   6374                22918          2              5   \n",
       "top     A705677    Max  2015-08-11 00:00:00        Dog  Neutered Male   \n",
       "freq          1    136                   19      15595           9779   \n",
       "first       NaN    NaN  2013-10-01 09:31:00        NaN            NaN   \n",
       "last        NaN    NaN  2016-02-21 19:17:00        NaN            NaN   \n",
       "\n",
       "       AgeuponOutcome                   Breed        Color OutcomeType  Season  \n",
       "count           26711                   26729        26729       26729   26729  \n",
       "unique             44                    1380          366           5       4  \n",
       "top            1 year  Domestic Shorthair Mix  Black/White    Adoption  autumn  \n",
       "freq             3969                    8810         2824       10769    7777  \n",
       "first             NaN                     NaN          NaN         NaN     NaN  \n",
       "last              NaN                     NaN          NaN         NaN     NaN  "
      ]
     },
     "execution_count": 19,
     "metadata": {},
     "output_type": "execute_result"
    }
   ],
   "source": [
    "train_data.describe()"
   ]
  },
  {
   "cell_type": "code",
   "execution_count": 20,
   "metadata": {
    "collapsed": true
   },
   "outputs": [],
   "source": [
    "# Function to plot bar charts of categorical variables, with \n",
    "# train and test bars side-by-side. Hard-coded to use data from global env\n",
    "def barplot_testvtrain(field_name):\n",
    "    train_size = len(train_data.index) * 1.0\n",
    "    test_size = len(test_data.index) * 1.0\n",
    "\n",
    "    train_dist = train_data.groupby(field_name).size() / train_size\n",
    "    test_dist = test_data.groupby(field_name).size() / test_size\n",
    "    \n",
    "    indices = np.arange(train_dist.size)\n",
    "    width = .35\n",
    "    \n",
    "    fig, ax = plt.subplots()\n",
    "    plt.title('{} distribution'.format(field_name))\n",
    "    \n",
    "    train_rects = ax.bar(indices, train_dist, width, color='r')\n",
    "    test_rects = ax.bar(indices + width, test_dist, width, color='b')\n",
    "\n",
    "    ax.set_xticks(indices + width)\n",
    "    ax.set_xticklabels(train_dist.index, rotation=45)\n",
    "\n",
    "    ax.legend((train_rects[0], test_rects[0]), ('Train', 'Test'), loc=0)\n",
    "    plt.show()"
   ]
  },
  {
   "cell_type": "code",
   "execution_count": 57,
   "metadata": {
    "collapsed": false
   },
   "outputs": [],
   "source": [
    "# Function to generate stacked bar charts of outcome v. categorical variable,\n",
    "# hard-coded to use data from global env\n",
    "def barplot_stacked(field_name):\n",
    "\n",
    "    # List of outcomes in order to stack, togetehr with assigned color\n",
    "    outcomes = [('Adoption', 'r'), \n",
    "                ('Transfer', 'b'), \n",
    "                ('Return_to_owner', 'g'), \n",
    "                ('Euthanasia', 'y'), \n",
    "                ('Died', 'm')]\n",
    "\n",
    "    # Getting information about the categories in the variable\n",
    "    categories = train_data[field_name].unique()\n",
    "    cat_counts = train_data.groupby(field_name).size()\n",
    "    indices = np.arange(categories.size)\n",
    "    \n",
    "    width = .75\n",
    "    bottoms = 0\n",
    "    barsets = []\n",
    "\n",
    "    fig, ax = plt.subplots()\n",
    "    plt.title('Outcomes by {}'.format(field_name))\n",
    "\n",
    "    # Loop over outcomes, generate bars, and stack them\n",
    "    for outcome, c in outcomes:\n",
    "        dist = train_data.loc[train_data.OutcomeType == outcome] \\\n",
    "                         .groupby(field_name) \\\n",
    "                         .size() \\\n",
    "                         / cat_counts\n",
    "\n",
    "        bs = ax.bar(indices, dist, width, color=c, bottom = bottoms)\n",
    "        \n",
    "        # Keep track of what we've done. Move the points from which\n",
    "        # to draw the bars up a notch.\n",
    "        barsets.append(bs)\n",
    "        bottoms = dist + bottoms\n",
    "\n",
    "    # Drawing category labels\n",
    "    ax.set_xticks(indices + (width / 2))\n",
    "    ax.set_xticklabels(categories, rotation=45)\n",
    "\n",
    "    # Drawing legend outside of plot\n",
    "    box = ax.get_position()\n",
    "    ax.set_position([box.x0, box.y0, box.width * 0.8, box.height])\n",
    "    ax.legend([bs[0] for bs in barsets], \n",
    "              [n[0] for n in outcomes], \n",
    "              loc='center left', \n",
    "              bbox_to_anchor=(1, 0.5))\n",
    "    \n",
    "    plt.show()\n"
   ]
  },
  {
   "cell_type": "code",
   "execution_count": 21,
   "metadata": {
    "collapsed": false
   },
   "outputs": [
    {
     "data": {
      "image/png": "[encoded data removed]",
      "text/plain": [
       "<matplotlib.figure.Figure at 0x114772410>"
      ]
     },
     "metadata": {},
     "output_type": "display_data"
    }
   ],
   "source": [
    "barplot_testvtrain('AnimalType')"
   ]
  },
  {
   "cell_type": "code",
   "execution_count": 22,
   "metadata": {
    "collapsed": false
   },
   "outputs": [
    {
     "data": {
      "image/png": "[encoded data removed]",
      "text/plain": [
       "<matplotlib.figure.Figure at 0x113dcb290>"
      ]
     },
     "metadata": {},
     "output_type": "display_data"
    }
   ],
   "source": [
    "barplot_testvtrain('SexuponOutcome')"
   ]
  },
  {
   "cell_type": "code",
   "execution_count": 23,
   "metadata": {
    "collapsed": false
   },
   "outputs": [
    {
     "data": {
      "image/png": "[encoded data removed]",
      "text/plain": [
       "<matplotlib.figure.Figure at 0x112eee950>"
      ]
     },
     "metadata": {},
     "output_type": "display_data"
    }
   ],
   "source": [
    "barplot_testvtrain('Season')"
   ]
  },
  {
   "cell_type": "code",
   "execution_count": 59,
   "metadata": {
    "collapsed": false
   },
   "outputs": [
    {
     "data": {
      "image/png": "[encoded data removed]",
      "text/plain": [
       "<matplotlib.figure.Figure at 0x1165e8c90>"
      ]
     },
     "metadata": {},
     "output_type": "display_data"
    },
    {
     "data": {
      "image/png": "[encoded data removed]",
      "text/plain": [
       "<matplotlib.figure.Figure at 0x1165e8c50>"
      ]
     },
     "metadata": {},
     "output_type": "display_data"
    }
   ],
   "source": [
    "barplot_stacked('AnimalType')\n",
    "#barplot_stacked('SexuponOutcome')\n",
    "barplot_stacked('Season')"
   ]
  }
 ],
 "metadata": {
  "kernelspec": {
   "display_name": "Python 2",
   "language": "python",
   "name": "python2"
  },
  "language_info": {
   "codemirror_mode": {
    "name": "ipython",
    "version": 2
   },
   "file_extension": ".py",
   "mimetype": "text/x-python",
   "name": "python",
   "nbconvert_exporter": "python",
   "pygments_lexer": "ipython2",
   "version": "2.7.11"
  }
 },
 "nbformat": 4,
 "nbformat_minor": 0
}
