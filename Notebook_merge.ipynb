{
 "cells": [
  {
   "cell_type": "markdown",
   "metadata": {},
   "source": [
    "# Shelter Animal Outcomes\n",
    "### Talieh, John, Sean, Subhashini"
   ]
  },
  {
   "cell_type": "code",
   "execution_count": 194,
   "metadata": {
    "collapsed": false
   },
   "outputs": [],
   "source": [
    "from datetime import date, datetime\n",
    "\n",
    "import numpy as np\n",
    "import matplotlib.pyplot as plt\n",
    "import pandas as pd\n",
    "\n",
    "from sklearn.cross_validation import train_test_split\n",
    "from sklearn.feature_extraction.text import CountVectorizer\n",
    "\n",
    "from sklearn.linear_model import LogisticRegression\n",
    "from sklearn.ensemble import RandomForestClassifier\n",
    "\n",
    "from sklearn.cross_validation import KFold\n",
    "\n",
    "from sklearn.metrics import confusion_matrix\n",
    "from sklearn import metrics\n",
    "from sklearn.metrics import classification_report\n",
    "from sklearn import cross_validation\n",
    "\n",
    "from patsy import dmatrices, dmatrix"
   ]
  },
  {
   "cell_type": "code",
   "execution_count": 2,
   "metadata": {
    "collapsed": true
   },
   "outputs": [],
   "source": [
    "train_data = pd.read_csv('train.csv', parse_dates=['DateTime'])\n",
    "test_data = pd.read_csv('test.csv', parse_dates=['DateTime'])\n",
    "\n",
    "n_train_data = len(train_data.index)"
   ]
  },
  {
   "cell_type": "markdown",
   "metadata": {},
   "source": [
    "## 1. Data Exploration"
   ]
  },
  {
   "cell_type": "code",
   "execution_count": 3,
   "metadata": {
    "collapsed": false
   },
   "outputs": [],
   "source": [
    "# Utility functions\n",
    "# From: http://stackoverflow.com/a/28688724\n",
    "Y = 2000 # dummy leap year to allow input X-02-29 (leap day)\n",
    "seasons = [('4-winter', (date(Y,  1,  1),  date(Y,  3, 20))),\n",
    "           ('1-spring', (date(Y,  3, 21),  date(Y,  6, 20))),\n",
    "           ('2-summer', (date(Y,  6, 21),  date(Y,  9, 22))),\n",
    "           ('3-autumn', (date(Y,  9, 23),  date(Y, 12, 20))),\n",
    "           ('4-winter', (date(Y, 12, 21),  date(Y, 12, 31)))]\n",
    "\n",
    "def get_season(now):\n",
    "    if isinstance(now, datetime):\n",
    "        now = now.date()\n",
    "    now = now.replace(year=Y)\n",
    "    return next(season for season, (start, end) in seasons\n",
    "                if start <= now <= end)"
   ]
  },
  {
   "cell_type": "markdown",
   "metadata": {},
   "source": [
    "### For simplicity sake, and for the exploration of the data set, we are combining the training and submission data."
   ]
  },
  {
   "cell_type": "code",
   "execution_count": 4,
   "metadata": {
    "collapsed": true
   },
   "outputs": [],
   "source": [
    "feature_columns = ['AnimalID', 'Name', 'DateTime', 'AnimalType', 'SexuponOutcome', \n",
    "                    'AgeuponOutcome', 'Breed', 'Color', 'OutcomeType']\n",
    "\n",
    "train_features = train_data.loc[:, feature_columns]\n",
    "test_features = test_data.loc[:, feature_columns]\n",
    "\n",
    "data = pd.concat((train_features, test_features), ignore_index=True)"
   ]
  },
  {
   "cell_type": "code",
   "execution_count": 5,
   "metadata": {
    "collapsed": true
   },
   "outputs": [],
   "source": [
    "data['Season'] = data.DateTime.map(get_season)\n",
    "\n",
    "data['Sex X Species'] = data.SexuponOutcome + ' ' + data.AnimalType\n",
    "\n",
    "data['Month'] = data.DateTime.apply(lambda d: d.strftime('%m-%B'))   # 'January', 'Feburary', . . .\n",
    "data['WeekDay'] = data.DateTime.apply(lambda d: d.strftime('%w-%A')) # 'Sunday', 'Monday', . . .  "
   ]
  },
  {
   "cell_type": "code",
   "execution_count": 6,
   "metadata": {
    "collapsed": false
   },
   "outputs": [
    {
     "name": "stdout",
     "output_type": "stream",
     "text": [
      "Size of training set: 26729\n",
      "Size of submission set: 11456\n"
     ]
    }
   ],
   "source": [
    "train_data = data[:n_train_data]\n",
    "test_data = data[n_train_data:]\n",
    "\n",
    "print 'Size of training set: %d' % len(train_data.index)\n",
    "print 'Size of submission set: %d' % len(test_data.index)"
   ]
  },
  {
   "cell_type": "markdown",
   "metadata": {},
   "source": [
    "### Comparing train and test data distributions"
   ]
  },
  {
   "cell_type": "code",
   "execution_count": 7,
   "metadata": {
    "collapsed": false
   },
   "outputs": [
    {
     "data": {
      "text/html": [
       "<div>\n",
       "<table border=\"1\" class=\"dataframe\">\n",
       "  <thead>\n",
       "    <tr style=\"text-align: right;\">\n",
       "      <th></th>\n",
       "      <th>AnimalID</th>\n",
       "      <th>Name</th>\n",
       "      <th>DateTime</th>\n",
       "      <th>AnimalType</th>\n",
       "      <th>SexuponOutcome</th>\n",
       "      <th>AgeuponOutcome</th>\n",
       "      <th>Breed</th>\n",
       "      <th>Color</th>\n",
       "      <th>OutcomeType</th>\n",
       "      <th>Season</th>\n",
       "      <th>Sex X Species</th>\n",
       "      <th>Month</th>\n",
       "      <th>WeekDay</th>\n",
       "    </tr>\n",
       "  </thead>\n",
       "  <tbody>\n",
       "    <tr>\n",
       "      <th>count</th>\n",
       "      <td>26729</td>\n",
       "      <td>19038</td>\n",
       "      <td>26729</td>\n",
       "      <td>26729</td>\n",
       "      <td>26728</td>\n",
       "      <td>26711</td>\n",
       "      <td>26729</td>\n",
       "      <td>26729</td>\n",
       "      <td>26729</td>\n",
       "      <td>26729</td>\n",
       "      <td>26728</td>\n",
       "      <td>26729</td>\n",
       "      <td>26729</td>\n",
       "    </tr>\n",
       "    <tr>\n",
       "      <th>unique</th>\n",
       "      <td>26729</td>\n",
       "      <td>6374</td>\n",
       "      <td>22918</td>\n",
       "      <td>2</td>\n",
       "      <td>5</td>\n",
       "      <td>44</td>\n",
       "      <td>1380</td>\n",
       "      <td>366</td>\n",
       "      <td>5</td>\n",
       "      <td>4</td>\n",
       "      <td>10</td>\n",
       "      <td>12</td>\n",
       "      <td>7</td>\n",
       "    </tr>\n",
       "    <tr>\n",
       "      <th>top</th>\n",
       "      <td>A705677</td>\n",
       "      <td>Max</td>\n",
       "      <td>2015-08-11 00:00:00</td>\n",
       "      <td>Dog</td>\n",
       "      <td>Neutered Male</td>\n",
       "      <td>1 year</td>\n",
       "      <td>Domestic Shorthair Mix</td>\n",
       "      <td>Black/White</td>\n",
       "      <td>Adoption</td>\n",
       "      <td>3-autumn</td>\n",
       "      <td>Neutered Male Dog</td>\n",
       "      <td>10-October</td>\n",
       "      <td>6-Saturday</td>\n",
       "    </tr>\n",
       "    <tr>\n",
       "      <th>freq</th>\n",
       "      <td>1</td>\n",
       "      <td>136</td>\n",
       "      <td>19</td>\n",
       "      <td>15595</td>\n",
       "      <td>9779</td>\n",
       "      <td>3969</td>\n",
       "      <td>8810</td>\n",
       "      <td>2824</td>\n",
       "      <td>10769</td>\n",
       "      <td>7777</td>\n",
       "      <td>6714</td>\n",
       "      <td>2881</td>\n",
       "      <td>4348</td>\n",
       "    </tr>\n",
       "    <tr>\n",
       "      <th>first</th>\n",
       "      <td>NaN</td>\n",
       "      <td>NaN</td>\n",
       "      <td>2013-10-01 09:31:00</td>\n",
       "      <td>NaN</td>\n",
       "      <td>NaN</td>\n",
       "      <td>NaN</td>\n",
       "      <td>NaN</td>\n",
       "      <td>NaN</td>\n",
       "      <td>NaN</td>\n",
       "      <td>NaN</td>\n",
       "      <td>NaN</td>\n",
       "      <td>NaN</td>\n",
       "      <td>NaN</td>\n",
       "    </tr>\n",
       "    <tr>\n",
       "      <th>last</th>\n",
       "      <td>NaN</td>\n",
       "      <td>NaN</td>\n",
       "      <td>2016-02-21 19:17:00</td>\n",
       "      <td>NaN</td>\n",
       "      <td>NaN</td>\n",
       "      <td>NaN</td>\n",
       "      <td>NaN</td>\n",
       "      <td>NaN</td>\n",
       "      <td>NaN</td>\n",
       "      <td>NaN</td>\n",
       "      <td>NaN</td>\n",
       "      <td>NaN</td>\n",
       "      <td>NaN</td>\n",
       "    </tr>\n",
       "  </tbody>\n",
       "</table>\n",
       "</div>"
      ],
      "text/plain": [
       "       AnimalID   Name             DateTime AnimalType SexuponOutcome  \\\n",
       "count     26729  19038                26729      26729          26728   \n",
       "unique    26729   6374                22918          2              5   \n",
       "top     A705677    Max  2015-08-11 00:00:00        Dog  Neutered Male   \n",
       "freq          1    136                   19      15595           9779   \n",
       "first       NaN    NaN  2013-10-01 09:31:00        NaN            NaN   \n",
       "last        NaN    NaN  2016-02-21 19:17:00        NaN            NaN   \n",
       "\n",
       "       AgeuponOutcome                   Breed        Color OutcomeType  \\\n",
       "count           26711                   26729        26729       26729   \n",
       "unique             44                    1380          366           5   \n",
       "top            1 year  Domestic Shorthair Mix  Black/White    Adoption   \n",
       "freq             3969                    8810         2824       10769   \n",
       "first             NaN                     NaN          NaN         NaN   \n",
       "last              NaN                     NaN          NaN         NaN   \n",
       "\n",
       "          Season      Sex X Species       Month     WeekDay  \n",
       "count      26729              26728       26729       26729  \n",
       "unique         4                 10          12           7  \n",
       "top     3-autumn  Neutered Male Dog  10-October  6-Saturday  \n",
       "freq        7777               6714        2881        4348  \n",
       "first        NaN                NaN         NaN         NaN  \n",
       "last         NaN                NaN         NaN         NaN  "
      ]
     },
     "execution_count": 7,
     "metadata": {},
     "output_type": "execute_result"
    }
   ],
   "source": [
    "train_data.describe()"
   ]
  },
  {
   "cell_type": "markdown",
   "metadata": {},
   "source": [
    "### Utility functions for plotting"
   ]
  },
  {
   "cell_type": "code",
   "execution_count": 8,
   "metadata": {
    "collapsed": true
   },
   "outputs": [],
   "source": [
    "# Function to plot bar charts of categorical variables, with \n",
    "# train and test bars side-by-side. Hard-coded to use data from global env\n",
    "def barplot_testvtrain(field_name):\n",
    "    train_size = len(train_data.index) * 1.0\n",
    "    test_size = len(test_data.index) * 1.0\n",
    "\n",
    "    train_dist = train_data.groupby(field_name).size() / train_size\n",
    "    test_dist = test_data.groupby(field_name).size() / test_size\n",
    "    \n",
    "    indices = np.arange(train_dist.size)\n",
    "    width = .35\n",
    "    \n",
    "    fig, ax = plt.subplots()\n",
    "    plt.title('{} distribution'.format(field_name))\n",
    "    \n",
    "    train_rects = ax.bar(indices, train_dist, width, color='r')\n",
    "    test_rects = ax.bar(indices + width, test_dist, width, color='b')\n",
    "\n",
    "    ax.set_xticks(indices + width)\n",
    "    ax.set_xticklabels(train_dist.index, rotation=45)\n",
    "\n",
    "    ax.legend((train_rects[0], test_rects[0]), ('Train', 'Test'), loc=0)\n",
    "    plt.show()\n",
    "    \n",
    "# Function to generate stacked bar charts of outcome v. categorical variable,\n",
    "# hard-coded to use data from global env\n",
    "def barplot_stacked(field_name):\n",
    "    # Making a copy of the data to use for plotting.\n",
    "    # Copy is needed 'cuz I'm dropping NAs.\n",
    "    plot_data = pd.DataFrame()\n",
    "    plot_data[field_name] = train_data[field_name]\n",
    "    plot_data['OutcomeType'] = train_data.OutcomeType\n",
    "    plot_data = plot_data.dropna()\n",
    "\n",
    "    # List of outcomes in order to stack, together with assigned color\n",
    "    outcomes = [('Adoption', 'r'), \n",
    "                ('Transfer', 'b'), \n",
    "                ('Return_to_owner', 'g'), \n",
    "                ('Euthanasia', 'y'), \n",
    "                ('Died', 'm')]\n",
    "\n",
    "    # Getting information about the categories in the variable\n",
    "    categories = plot_data[field_name].unique()\n",
    "    categories.sort()\n",
    "    cat_counts = plot_data.groupby(field_name).size()\n",
    "    indices = np.arange(categories.size)\n",
    "    \n",
    "    width = .75\n",
    "    barsets = []\n",
    "    \n",
    "    # Series of 0s for all categories, added to distributions\n",
    "    # to ensure that there's an entry for every category.\n",
    "    zero = pd.Series({c:0 for c in categories})\n",
    "    # Keeps track of bottoms. Bottoms are just top of previous one.\n",
    "    bottoms = pd.Series({c:0 for c in categories})\n",
    "\n",
    "    fig, ax = plt.subplots()\n",
    "    plt.title('Outcomes by {}'.format(field_name))\n",
    "\n",
    "    # Loop over outcomes, generate bars, and stack them\n",
    "    for outcome, c in outcomes:\n",
    "        dist = plot_data.loc[plot_data.OutcomeType == outcome] \\\n",
    "                         .groupby(field_name) \\\n",
    "                         .size() \\\n",
    "                         / cat_counts\n",
    "                    \n",
    "        dist = zero.add(dist, 'index', fill_value=0.0)\n",
    "\n",
    "        # Saving barset for later because it's needed to draw the legend\n",
    "        bs = ax.bar(indices, dist, width, color=c, bottom = bottoms)\n",
    "        barsets.append(bs)\n",
    "        \n",
    "        # The bottom of the next round of bars will be the top of this one.\n",
    "        bottoms = bottoms.add(dist, 'index', fill_value=0.0)\n",
    "\n",
    "    # Drawing category labels\n",
    "    ax.set_xticks(indices + (width / 2))\n",
    "    ax.set_xticklabels(categories, rotation=90)\n",
    "    \n",
    "    ax.set_ylim(0, 1)\n",
    "    # Drawing legend outside of plot\n",
    "    box = ax.get_position()\n",
    "    ax.set_position([box.x0, box.y0, box.width * 0.8, box.height])\n",
    "    ax.legend([bs[0] for bs in barsets], \n",
    "              [n[0] for n in outcomes], \n",
    "              loc='center left', \n",
    "              bbox_to_anchor=(1, 0.5))\n",
    "    \n",
    "    plt.show()"
   ]
  },
  {
   "cell_type": "markdown",
   "metadata": {},
   "source": [
    "### Comparing the training to the submission data to see if they are balanced."
   ]
  },
  {
   "cell_type": "code",
   "execution_count": 9,
   "metadata": {
    "collapsed": false
   },
   "outputs": [
    {
     "data": {
      "image/png": "[encoded data removed]",
      "text/plain": [
       "<matplotlib.figure.Figure at 0x7ff4a77b2a90>"
      ]
     },
     "metadata": {},
     "output_type": "display_data"
    },
    {
     "data": {
      "image/png": "[encoded data removed]",
      "text/plain": [
       "<matplotlib.figure.Figure at 0x7ff4a77ada90>"
      ]
     },
     "metadata": {},
     "output_type": "display_data"
    }
   ],
   "source": [
    "barplot_testvtrain('AnimalType')\n",
    "barplot_testvtrain('SexuponOutcome')"
   ]
  },
  {
   "cell_type": "code",
   "execution_count": 10,
   "metadata": {
    "collapsed": false
   },
   "outputs": [
    {
     "data": {
      "image/png": "[encoded data removed]",
      "text/plain": [
       "<matplotlib.figure.Figure at 0x7ff4a79e7350>"
      ]
     },
     "metadata": {},
     "output_type": "display_data"
    },
    {
     "data": {
      "image/png": "[encoded data removed]",
      "text/plain": [
       "<matplotlib.figure.Figure at 0x7ff4a77e8250>"
      ]
     },
     "metadata": {},
     "output_type": "display_data"
    },
    {
     "data": {
      "image/png": "[encoded data removed]",
      "text/plain": [
       "<matplotlib.figure.Figure at 0x7ff4a7829c10>"
      ]
     },
     "metadata": {},
     "output_type": "display_data"
    }
   ],
   "source": [
    "barplot_testvtrain('Season')\n",
    "barplot_testvtrain('Month')\n",
    "barplot_testvtrain('WeekDay')"
   ]
  },
  {
   "cell_type": "markdown",
   "metadata": {},
   "source": [
    "### Are there any immediately apparent trends in the data?"
   ]
  },
  {
   "cell_type": "code",
   "execution_count": 11,
   "metadata": {
    "collapsed": false
   },
   "outputs": [
    {
     "data": {
      "image/png": "[encoded data removed]",
      "text/plain": [
       "<matplotlib.figure.Figure at 0x7ff4a7a06a50>"
      ]
     },
     "metadata": {},
     "output_type": "display_data"
    },
    {
     "data": {
      "image/png": "[encoded data removed]",
      "text/plain": [
       "<matplotlib.figure.Figure at 0x7ff4a6d83250>"
      ]
     },
     "metadata": {},
     "output_type": "display_data"
    },
    {
     "data": {
      "image/png": "[encoded data removed]",
      "text/plain": [
       "<matplotlib.figure.Figure at 0x7ff4a6c42fd0>"
      ]
     },
     "metadata": {},
     "output_type": "display_data"
    }
   ],
   "source": [
    "barplot_stacked('AnimalType')\n",
    "barplot_stacked('SexuponOutcome')\n",
    "barplot_stacked('Sex X Species')"
   ]
  },
  {
   "cell_type": "code",
   "execution_count": 12,
   "metadata": {
    "collapsed": false
   },
   "outputs": [
    {
     "data": {
      "image/png": "[encoded data removed]",
      "text/plain": [
       "<matplotlib.figure.Figure at 0x7ff4a6cbb950>"
      ]
     },
     "metadata": {},
     "output_type": "display_data"
    },
    {
     "data": {
      "image/png": "[encoded data removed]",
      "text/plain": [
       "<matplotlib.figure.Figure at 0x7ff4a6ffb050>"
      ]
     },
     "metadata": {},
     "output_type": "display_data"
    },
    {
     "data": {
      "image/png": "[encoded data removed]",
      "text/plain": [
       "<matplotlib.figure.Figure at 0x7ff4a72dc7d0>"
      ]
     },
     "metadata": {},
     "output_type": "display_data"
    }
   ],
   "source": [
    "barplot_stacked('Season')\n",
    "barplot_stacked('Month')\n",
    "barplot_stacked('WeekDay')"
   ]
  },
  {
   "cell_type": "markdown",
   "metadata": {},
   "source": [
    "## 2. Feature Selection and Model Testing\n",
    "\n",
    "### Multiple approaches to feature engineering were attempted"
   ]
  },
  {
   "cell_type": "markdown",
   "metadata": {},
   "source": [
    "**Common Utility Functions**"
   ]
  },
  {
   "cell_type": "code",
   "execution_count": 149,
   "metadata": {
    "collapsed": false
   },
   "outputs": [],
   "source": [
    "# There are two differing versions of the age function\n",
    "\n",
    "def age_years(x):\n",
    "    # We want to skip nan's\n",
    "    try:\n",
    "        age = int(x.split(' ')[0])\n",
    "\n",
    "        if 'month' in x:\n",
    "            age /= 12.0\n",
    "\n",
    "        elif 'week' in x:\n",
    "            age /= 52.0\n",
    "\n",
    "        elif 'day' in x:\n",
    "            age /= 365.0\n",
    "\n",
    "        else:\n",
    "            age = float(age)\n",
    "\n",
    "        return age\n",
    "    except AttributeError:\n",
    "        return x\n",
    "    \n",
    "def age_years_2(x):\n",
    "    if(pd.isnull(x)):\n",
    "        return 0\n",
    "    \n",
    "    age = int(x.split(' ')[0])\n",
    "        \n",
    "    if 'month' in x:\n",
    "        age /= 12.0\n",
    "\n",
    "    elif 'week' in x:\n",
    "        age /= 52.0\n",
    "\n",
    "    elif 'day' in x:\n",
    "        age /= 365.0\n",
    "\n",
    "    elif 'year' in x:\n",
    "        age = age\n",
    "    else:\n",
    "        age = 0\n",
    "\n",
    "    return age\n",
    "\n",
    "\n",
    "# There are two differing versions of the bread function\n",
    "\n",
    "def get_breed_1(line):\n",
    "    #special case this miscoded value : should be Black and Tan hound Mix (Black and Tan hound is a breed)\n",
    "    if line == 'Black/Tan Hound Mix':\n",
    "        return 'purebreed_mix'\n",
    "        \n",
    "    if '/' in line:\n",
    "        breed2 = line.split('/')[1]\n",
    "        if 'unknown' in breed2:\n",
    "            return 'purebreed_unknown'\n",
    "        else:\n",
    "            return 'purebreed_purebreed'\n",
    "    elif 'unknown' in line:\n",
    "        return \"unknown\"\n",
    "    elif 'mix' in line:\n",
    "      return \"purebreed_mix\"\n",
    "    else:\n",
    "        return \"purebreed\"\n",
    "\n",
    "def get_breed_0(line):\n",
    "    # mix is the last word\n",
    "    l = line.split('/')\n",
    "    mix = 1 if 'Mix' in line else 0\n",
    "    \n",
    "    if mix:\n",
    "        l = line.split(' ')\n",
    "        # remove \n",
    "        del l[-1]\n",
    "        l = ' '.join(l).split('/')\n",
    "\n",
    "    if len(l) == 2:\n",
    "        # remember We need to return series to add to multiple columns\n",
    "        return pd.Series({'breed_1': l[0], 'breed_2': l[1], 'is_mix': mix})\n",
    "\n",
    "    return pd.Series({'breed_1': l[0], 'breed_2': 'NaN', 'is_mix': mix})\n",
    "\n",
    "def get_color(x):\n",
    "    if pd.isnull(x):\n",
    "        return x\n",
    "    colors = x.strip().split('/')\n",
    "    if len(colors) == 1:\n",
    "        return \"single_color\"\n",
    "    elif len(colors) == 2:\n",
    "        return \"double_color\"\n",
    "    else:\n",
    "        return \"twoplus_color\"\n",
    "    \n",
    "    \n",
    "def gender(string):\n",
    "    try:\n",
    "        if 'Female' in string:\n",
    "            return 1\n",
    "\n",
    "        if 'Male' in string:\n",
    "            return 0\n",
    "        \n",
    "        return -999\n",
    "\n",
    "    except:\n",
    "        return -999\n",
    "    \n",
    "def fixed(string):\n",
    "    try:\n",
    "        if 'Spayed' in string or 'Neutered' in string:\n",
    "            return 1\n",
    "\n",
    "        if 'Unknown' in string:\n",
    "            return -999\n",
    "\n",
    "        return 0\n",
    "    except:\n",
    "        return -999\n",
    "    \n",
    "def draw_cm(y_true, y_pred,label_names):\n",
    "    \n",
    "    def plot_confusion_matrix(cm, title='Confusion matrix', cmap=plt.cm.Blues):\n",
    "        plt.imshow(cm, interpolation='nearest', cmap=cmap)\n",
    "        plt.title(title)\n",
    "        plt.colorbar()\n",
    "        tick_marks = np.arange(len(label_names))\n",
    "        plt.xticks(tick_marks, label_names, rotation=45)\n",
    "        plt.yticks(tick_marks, label_names)\n",
    "        plt.tight_layout()\n",
    "        plt.ylabel('True label')\n",
    "        plt.xlabel('Predicted label')\n",
    "\n",
    "    cm = confusion_matrix(y_true, y_pred)\n",
    "    np.set_printoptions(precision=2)\n",
    "    print('Confusion matrix, without normalization')\n",
    "    print(cm)\n",
    "    plt.figure()\n",
    "    plot_confusion_matrix(cm)\n",
    "    \n",
    "# use K-fold cross validation with k=6\n",
    "\n",
    "def fit_model(clf):\n",
    "    labels =  train_labels.cat.categories\n",
    "    \n",
    "    kf = KFold(train_data.shape[0], n_folds=6)\n",
    "\n",
    "    ypp = []\n",
    "    mll = []\n",
    "    idx = 0\n",
    "    for train_index, test_index in kf:\n",
    "        X_train, X_test = train_data.iloc[train_index], train_data.iloc[test_index]\n",
    "        y_train, y_test = train_labels.iloc[train_index], train_labels.iloc[test_index]\n",
    "        #print X_train.shape, X_test.shape\n",
    "        clf.fit(X_train, y_train)\n",
    "        ypp.append(clf.predict_proba(X_test))\n",
    "        mll.append(metrics.log_loss(y_test, ypp[idx]))\n",
    "        idx += 1\n",
    "\n",
    "    print \"Log Loss (each iteration) :\\n\", '\\n'.join([str(x) for x in mll])\n",
    "    print \"Std Deviation Log Loss :\\n\", np.std(mll)\n",
    "    \n",
    "    # Get the highest probability value\n",
    "    y_pred = labels[np.argmax(np.vstack(ypp), axis=1)]\n",
    "    \n",
    "    print metrics.classification_report(train_labels, y_pred)\n",
    "    draw_cm(train_labels, y_pred, labels)\n",
    "    \n",
    "def draw_rf_importances(clf, n_features = 50):\n",
    "    importances = clf.feature_importances_\n",
    "    std = np.std([tree.feature_importances_ for tree in clf.estimators_],\n",
    "                 axis=0)\n",
    "\n",
    "    indices = np.argsort(importances)[::-1]\n",
    "\n",
    "    print 'Top features: '\n",
    "    print train_data.columns.values[indices[:n_features]]\n",
    "\n",
    "    # We have some many features let's \n",
    "    # just look at the first n_features\n",
    "    plt.figure(figsize=(10,10))\n",
    "    plt.title(\"Feature importances, first %d\" % n_features)\n",
    "    plt.bar(range(n_features),\n",
    "            importances[indices][:n_features],\n",
    "            color=\"g\",\n",
    "            yerr=std[indices][:n_features],\n",
    "            align=\"center\")\n",
    "\n",
    "    plt.xticks(range(n_features), indices, rotation=70)\n",
    "\n",
    "    plt.xlim([-1, n_features])\n",
    "    plt.xlabel('Feature Indices')\n",
    "    plt.grid()\n",
    "    plt.show()"
   ]
  },
  {
   "cell_type": "markdown",
   "metadata": {},
   "source": [
    "### This is common to all the approches to creating features"
   ]
  },
  {
   "cell_type": "code",
   "execution_count": 47,
   "metadata": {
    "collapsed": false
   },
   "outputs": [],
   "source": [
    "# read in fresh train and test data\n",
    "train = pd.read_csv('train.csv', parse_dates=['DateTime'])\n",
    "test = pd.read_csv('test.csv', parse_dates=['DateTime'])\n",
    "\n",
    "# get number of training elements\n",
    "train_num = train.shape[0]\n",
    "\n",
    "train.rename(columns={'AnimalID': 'ID'}, inplace=True)\n",
    "all_data = pd.concat((train, test), axis=0, ignore_index=True)"
   ]
  },
  {
   "cell_type": "markdown",
   "metadata": {},
   "source": [
    "### Feature Set V1"
   ]
  },
  {
   "cell_type": "code",
   "execution_count": 48,
   "metadata": {
    "collapsed": false
   },
   "outputs": [],
   "source": [
    "# create a new data frame to store our new features.\n",
    "fsv1 = pd.DataFrame()\n",
    "\n",
    "#We need an index to work with\n",
    "fsv1['ID'] = all_data['ID']\n",
    "\n",
    "# is it a cat?\n",
    "fsv1['is_cat'] = all_data['AnimalType'].map(lambda x: 1 if 'Cat' in x else 0) \n",
    "\n",
    "# color stuff\n",
    "fsv1 = fsv1.join(all_data['Color'].apply(\n",
    "        lambda x: pd.Series({'color_1':x.split('/')[0], 'color_2':x.split('/')[1]}\n",
    "                            if len(x.split('/')) == 2 else {'color_1':x, 'color_2':'NaN'})))\n",
    "\n",
    "# Convert the date into seasons\n",
    "\n",
    "fsv1['Season'] = data.DateTime.map(get_season)\n",
    "fsv1 = fsv1.join(pd.get_dummies(all_data['DateTime'].map(get_season)))\n",
    "\n",
    "# Add in the breed information\n",
    "fsv1 = fsv1.join(all_data['Breed'].apply(lambda x: get_breed_1(x)))\n",
    "\n",
    "fsv1['age_years'] = all_data['AgeuponOutcome'].map(age_years)\n",
    "\n",
    "# what is the gender, I am coding all unknowns as -999\n",
    "fsv1['is_female'] = all_data['SexuponOutcome'].map(gender)\n",
    "\n",
    "fsv1['is_fixed'] = all_data['SexuponOutcome'].map(fixed)"
   ]
  },
  {
   "cell_type": "markdown",
   "metadata": {},
   "source": [
    "***In this case it's ok to dummy code the breed across the entire data set because there are only three possible values ***"
   ]
  },
  {
   "cell_type": "code",
   "execution_count": 49,
   "metadata": {
    "collapsed": false
   },
   "outputs": [],
   "source": [
    "fsv1 = fsv1.join(pd.get_dummies(fsv1['Breed']))"
   ]
  },
  {
   "cell_type": "markdown",
   "metadata": {},
   "source": [
    "***But because there are a wide assortment of colors, it seems to make more sense to split the data up and avoid information leakage.***"
   ]
  },
  {
   "cell_type": "code",
   "execution_count": 61,
   "metadata": {
    "collapsed": false
   },
   "outputs": [],
   "source": [
    "# Lets break things back up before continuing \n",
    "X_train_all = fsv1.iloc[:train_num]\n",
    "y_train_all = all_data['OutcomeType'][:train_num]\n",
    "\n",
    "# Submission data\n",
    "X_test_all = fsv1.iloc[train_num:]\n",
    "ids_test = all_data['ID'][train_num:].values\n",
    "\n",
    "X_train_all.shape, y_train_all.shape, X_test_all.shape, ids_test.shape\n",
    "\n",
    "X_train, X_test, y_train, y_test = train_test_split(\n",
    "    X_train_all, y_train_all, test_size=0.30, random_state=23)"
   ]
  },
  {
   "cell_type": "code",
   "execution_count": 62,
   "metadata": {
    "collapsed": false
   },
   "outputs": [
    {
     "data": {
      "text/plain": [
       "CountVectorizer(analyzer='word', binary=False, decode_error=u'strict',\n",
       "        dtype=<type 'numpy.int64'>, encoding=u'utf-8', input=u'content',\n",
       "        lowercase=True, max_df=1.0, max_features=None, min_df=1,\n",
       "        ngram_range=(1, 1), preprocessor=None, stop_words=None,\n",
       "        strip_accents=None, token_pattern=u'(?u)\\\\b\\\\w\\\\w+\\\\b',\n",
       "        tokenizer=None, vocabulary=None)"
      ]
     },
     "execution_count": 62,
     "metadata": {},
     "output_type": "execute_result"
    }
   ],
   "source": [
    "# vectorize the colors using our training data\n",
    "cv = CountVectorizer(analyzer='word')\n",
    "cv.fit(X_train['color_1'])"
   ]
  },
  {
   "cell_type": "code",
   "execution_count": 63,
   "metadata": {
    "collapsed": false
   },
   "outputs": [],
   "source": [
    "X_train = X_train.join(pd.DataFrame(\n",
    "        cv.transform(X_train['color_1']).todense(),\n",
    "        index=X_train.index.values,\n",
    "        columns=[x+'_1' for x in cv.get_feature_names()]))"
   ]
  },
  {
   "cell_type": "code",
   "execution_count": 64,
   "metadata": {
    "collapsed": false
   },
   "outputs": [],
   "source": [
    "X_test = X_test.join(pd.DataFrame(\n",
    "        cv.transform(X_test['color_1']).todense(),\n",
    "        index=X_test.index.values,\n",
    "        columns=[x+'_1' for x in cv.get_feature_names()]))"
   ]
  },
  {
   "cell_type": "code",
   "execution_count": 65,
   "metadata": {
    "collapsed": false
   },
   "outputs": [],
   "source": [
    "# We want to drop the original non-binary columns now.\n",
    "cols_to_drop = ['color_1',\n",
    "                'color_2',\n",
    "                'Breed',\n",
    "                'Season',\n",
    "                'ID']\n",
    "\n",
    "X_train = X_train.drop(cols_to_drop, axis=1)\n",
    "X_test = X_test.drop(cols_to_drop, axis=1)\n",
    "\n",
    "X_train = X_train.fillna(value=-999)\n",
    "X_test = X_test.fillna(value=-999)"
   ]
  },
  {
   "cell_type": "code",
   "execution_count": 66,
   "metadata": {
    "collapsed": false
   },
   "outputs": [
    {
     "name": "stdout",
     "output_type": "stream",
     "text": [
      "0.621149769298\n"
     ]
    }
   ],
   "source": [
    "# Quick Test\n",
    "lr = LogisticRegression(random_state=23, max_iter=100)\n",
    "y_pred = lr.fit(X_train, y_train).predict(X_test)\n",
    "print np.mean(y_pred == y_test)"
   ]
  },
  {
   "cell_type": "code",
   "execution_count": 150,
   "metadata": {
    "collapsed": false
   },
   "outputs": [
    {
     "name": "stdout",
     "output_type": "stream",
     "text": [
      "Log Loss (each iteration) :\n",
      "0.984803614671\n",
      "0.964092348306\n",
      "0.987101090569\n",
      "0.999333174308\n",
      "0.994099100156\n",
      "0.972879980635\n",
      "Std Deviation Log Loss :\n",
      "0.0120198005945\n",
      "             precision    recall  f1-score   support\n",
      "\n",
      "   Adoption       0.59      0.94      0.72      7549\n",
      "       Died       0.00      0.00      0.00       134\n",
      " Euthanasia       1.00      0.00      0.00      1100\n",
      "Return_to_owner       0.51      0.19      0.27      3362\n",
      "   Transfer       0.74      0.61      0.67      6565\n",
      "\n",
      "avg / total       0.65      0.63      0.57     18710\n",
      "\n",
      "Confusion matrix, without normalization\n",
      "[[7082    0    0  218  249]\n",
      " [  22    0    0    4  108]\n",
      " [ 337    0    1  143  619]\n",
      " [2316    0    0  629  417]\n",
      " [2337    0    0  245 3983]]\n"
     ]
    },
    {
     "data": {
      "image/png": "[encoded data removed]",
      "text/plain": [
       "<matplotlib.figure.Figure at 0x7ff4a34eeb50>"
      ]
     },
     "metadata": {},
     "output_type": "display_data"
    }
   ],
   "source": [
    "train_data = X_train\n",
    "# This is to make use of the fit_model function above without too much modification.\n",
    "train_labels = pd.DataFrame(y_train, dtype='category')['OutcomeType']\n",
    "ypp = fit_model(lr)"
   ]
  },
  {
   "cell_type": "markdown",
   "metadata": {},
   "source": [
    "### Feature Set V2"
   ]
  },
  {
   "cell_type": "code",
   "execution_count": 153,
   "metadata": {
    "collapsed": false
   },
   "outputs": [],
   "source": [
    "all_data = pd.concat((train, test), axis=0, ignore_index=True)"
   ]
  },
  {
   "cell_type": "code",
   "execution_count": 154,
   "metadata": {
    "collapsed": false
   },
   "outputs": [
    {
     "name": "stdout",
     "output_type": "stream",
     "text": [
      "Null values in OutcomeType: 11456\n"
     ]
    }
   ],
   "source": [
    "all_data['OutcomeType']= all_data['OutcomeType'].str.lower()\n",
    "all_data['OutcomeType']= all_data['OutcomeType'].str.strip()\n",
    "all_data['OutcomeType']= all_data['OutcomeType'].astype('category')\n",
    "#11456 null values in the outcome type; all correspond to test data\n",
    "print \"Null values in OutcomeType:\", sum(pd.isnull(all_data['OutcomeType'])) "
   ]
  },
  {
   "cell_type": "markdown",
   "metadata": {},
   "source": [
    "**Name, AnimalType,SexUponoutcome*** are recoded to categories and dummy variables created where necessary"
   ]
  },
  {
   "cell_type": "code",
   "execution_count": 155,
   "metadata": {
    "collapsed": false
   },
   "outputs": [
    {
     "name": "stdout",
     "output_type": "stream",
     "text": [
      "1    27269\n",
      "0    10916\n",
      "Name: Hasname, dtype: int64\n"
     ]
    }
   ],
   "source": [
    "#does it have a name?\n",
    "all_data['Name'] = all_data['Name'].str.strip()\n",
    "all_data['Hasname'] = all_data['Name'].map(lambda x: 1 if not pd.isnull(x) and x else 0)\n",
    "print all_data['Hasname'].value_counts()"
   ]
  },
  {
   "cell_type": "code",
   "execution_count": 156,
   "metadata": {
    "collapsed": false
   },
   "outputs": [
    {
     "name": "stdout",
     "output_type": "stream",
     "text": [
      "Null Values in AnimalType: 0\n"
     ]
    }
   ],
   "source": [
    "all_data['AnimalType'] = all_data['AnimalType'].str.lower()\n",
    "all_data['AnimalType'] = all_data['AnimalType'].str.strip()\n",
    "all_data['Iscat'] = all_data['AnimalType'].map(lambda x: 1 if x=='cat' else 0)\n",
    "#no missing values\n",
    "print \"Null Values in AnimalType:\", sum(pd.isnull(all_data['Iscat']))  "
   ]
  },
  {
   "cell_type": "markdown",
   "metadata": {},
   "source": [
    "**For age**, create 2 variables: \n",
    "- one a continuous float value for age in years \n",
    "- the other a categorical value for various life stages."
   ]
  },
  {
   "cell_type": "code",
   "execution_count": 157,
   "metadata": {
    "collapsed": false
   },
   "outputs": [
    {
     "name": "stdout",
     "output_type": "stream",
     "text": [
      "neutered male    14014\n",
      "spayed female    12633\n",
      "intact female     5004\n",
      "intact male       4985\n",
      "unknown           1548\n",
      "dtype: int64\n",
      "Null values in SexuponOutcome: 0\n"
     ]
    }
   ],
   "source": [
    "all_data['SexuponOutcome'] = all_data['SexuponOutcome'].str.lower()\n",
    "all_data['SexuponOutcome'] = all_data['SexuponOutcome'].str.strip()\n",
    "all_data['SexuponOutcome'] = all_data['SexuponOutcome'].astype('category')\n",
    "print all_data['SexuponOutcome'].value_counts()\n",
    "#missing value, convert to Unknown category\n",
    "all_data['SexuponOutcome'][pd.isnull(all_data['SexuponOutcome'])] = \"unknown\"\n",
    "print \"Null values in SexuponOutcome:\", sum(pd.isnull(all_data['SexuponOutcome']))\n",
    "\n",
    "all_data = pd.concat((all_data,pd.get_dummies(all_data['SexuponOutcome'])), axis=1)"
   ]
  },
  {
   "cell_type": "code",
   "execution_count": 158,
   "metadata": {
    "collapsed": false
   },
   "outputs": [
    {
     "name": "stdout",
     "output_type": "stream",
     "text": [
      "Null values in AgeuponOutcome: 24\n",
      "Null values in Ageyears: 0\n"
     ]
    }
   ],
   "source": [
    "all_data['AgeuponOutcome'] = all_data['AgeuponOutcome'].str.lower()\n",
    "all_data['AgeuponOutcome'] = all_data['AgeuponOutcome'].str.strip()\n",
    "all_data['Ageyears'] = map(age_years_2, all_data['AgeuponOutcome'])\n",
    "all_data['Ageyears'].describe()\n",
    "\n",
    "#24 values are unknkown\n",
    "print \"Null values in AgeuponOutcome:\", sum(pd.isnull(all_data['AgeuponOutcome'])) \n",
    "#all nulls were coded to 0\n",
    "print \"Null values in Ageyears:\", sum(pd.isnull(all_data['Ageyears'])) "
   ]
  },
  {
   "cell_type": "code",
   "execution_count": 159,
   "metadata": {
    "collapsed": false
   },
   "outputs": [
    {
     "name": "stdout",
     "output_type": "stream",
     "text": [
      "baby          20346\n",
      "adolescent     7742\n",
      "adult          7030\n",
      "senior         2342\n",
      "mature          624\n",
      "geriatric        42\n",
      "dtype: int64\n",
      "Null values in Agecategory: 59\n"
     ]
    }
   ],
   "source": [
    "\n",
    "#create cat and dog age categories \n",
    "#source - http://www.akc.org/learn/family-dog/how-to-calculate-dog-years-to-human-years/\n",
    "#http://icatcare.org/advice/how-guides/how-tell-your-cat%E2%80%99s-age-human-years\n",
    "age_labels_dogs=['baby', 'adolescent', 'adult', 'senior']\n",
    "age_ranges_dogs=[0.0, 1.0, 2.0, 7.0, 30.0]\n",
    "age_ranges_cats=[0.0, 0.5, 2.0, 6.0, 10.0,15.0, 30.0]\n",
    "age_labels_cats=['baby', 'adolescent', 'adult','mature', 'senior', 'geriatric']\n",
    "\n",
    "\n",
    "#compute the dog age and cat age categories separately, then merge them\n",
    "all_data['dog_ages'] = pd.cut(all_data['Ageyears'][all_data['AnimalType']=='dog'], age_ranges_dogs,  labels=age_labels_dogs)\n",
    "all_data['cat_ages'] = pd.cut(all_data['Ageyears'][all_data['AnimalType']=='cat'], age_ranges_cats,  labels=age_labels_cats)\n",
    "#merge\n",
    "all_data['Agecategory'] = [all_data['dog_ages'][x] \n",
    "                               if not pd.isnull(all_data['dog_ages'][x]) \n",
    "                               else all_data['cat_ages'][x] \n",
    "                                   for x in range(all_data['dog_ages'].size)]\n",
    "\n",
    "all_data['Agecategory'] = all_data['Agecategory'].astype('category')\n",
    "print all_data['Agecategory'].value_counts()\n",
    "\n",
    "#drop the temp columns\n",
    "all_data.drop(['dog_ages', 'cat_ages'], axis=1, inplace=True)\n",
    "\n",
    "#the AgeuponOutcome had 24 missing values, whereas the Agecategory has 59. The extra nulls are due to age=0\n",
    "print \"Null values in Agecategory:\", sum(pd.isnull(all_data['Agecategory']))\n",
    "#all_data['AgeuponOutcome'][pd.isnull(all_data['Agecategory'])]\n",
    "\n",
    "all_data = pd.concat((all_data, pd.get_dummies(all_data['Agecategory'])), axis=1)\n"
   ]
  },
  {
   "cell_type": "markdown",
   "metadata": {},
   "source": [
    "**Datetime field** is split up into several numerical variables, and one categorical variable AM/PM.\n",
    "- Hour of day [00,23]\n",
    "- Day of the week (0=Sunday,1=Monday, ..)\n",
    "- Day of the month [00,32]\n",
    "- Month [00-12]\n",
    "- Week of the year [00,53]\n",
    "- Two digit year"
   ]
  },
  {
   "cell_type": "code",
   "execution_count": 160,
   "metadata": {
    "collapsed": true
   },
   "outputs": [],
   "source": [
    "all_data['Hour'] = all_data.DateTime.apply(lambda d: d.strftime('%H')).astype('int') # [00,23]\n",
    "all_data['Ampm'] = all_data.DateTime.apply(lambda d: d.strftime('%p')) # Am/pm\n",
    "all_data['Dayofweek'] = all_data.DateTime.apply(lambda d: d.strftime('%w')).astype('int') # [0(sunday),6]\n",
    "all_data['Dayofmonth'] = all_data.DateTime.apply(lambda d: d.strftime('%d')).astype('int') # 01,02,..31\n",
    "all_data['Month'] = all_data.DateTime.apply(lambda d: d.strftime('%m')).astype('int')   # Month as a number\n",
    "all_data['Weekofyear'] = all_data.DateTime.apply(lambda d: d.strftime('%U')).astype('int')  # [00,53]\n",
    "all_data['Year'] = all_data.DateTime.apply(lambda d: d.strftime('%y')).astype('int') # two digit year\n",
    "\n",
    "all_data.Hour.value_counts()\n",
    "all_data.Ampm.value_counts()\n",
    "all_data.Dayofweek.value_counts()\n",
    "all_data.Dayofmonth.value_counts()\n",
    "all_data.Month.value_counts()\n",
    "all_data.Weekofyear.value_counts()\n",
    "all_data.Year.value_counts()\n",
    "\n",
    "dummies = pd.get_dummies(all_data['Ampm'])\n",
    "all_data = pd.concat((all_data, dummies), axis=1)"
   ]
  },
  {
   "cell_type": "markdown",
   "metadata": {},
   "source": [
    "**Breed and Color** are coded in 2 separate ways:\n",
    "1. Create a categorical meta variable for breed (purebreed, mixed, etc) and color (single, double, etc)\n",
    "2. Use CountVectorizer to encode Breed and Color. \n",
    "\n",
    "Whereas Breed has around 138 unique categories and color has 366, once they are vectorized we get around 200 breed-related featues and 32 color-related features."
   ]
  },
  {
   "cell_type": "code",
   "execution_count": 161,
   "metadata": {
    "collapsed": false
   },
   "outputs": [
    {
     "name": "stdout",
     "output_type": "stream",
     "text": [
      "Null values in Color: 0\n",
      "Null values in ColorType: 0\n"
     ]
    }
   ],
   "source": [
    "all_data['Breed'] = all_data['Breed'].str.lower()\n",
    "all_data['Breed'] = all_data['Breed'].str.strip()\n",
    "\n",
    "#breed type\n",
    "all_data['Breedtype'] = all_data['Breed'].map(get_breed_1)\n",
    "all_data['Breedtype'].value_counts()\n",
    "\n",
    "all_data = pd.concat((all_data, pd.get_dummies(all_data['Breedtype'])), axis=1)\n",
    "\n",
    "all_data['Color'] = all_data['Color'].str.lower()\n",
    "all_data['Color'] = all_data['Color'].str.strip()\n",
    "\n",
    "all_data['Colortype'] = all_data['Color'].map(get_color)\n",
    "all_data['Colortype'].value_counts()\n",
    "\n",
    "#no missing values\n",
    "print \"Null values in Color:\", sum(pd.isnull(all_data['Color']))\n",
    "print \"Null values in ColorType:\", sum(pd.isnull(all_data['Colortype']))\n",
    "\n",
    "all_data = pd.concat((all_data, pd.get_dummies(all_data['Colortype'], prefix='col')), axis=1)\n"
   ]
  },
  {
   "cell_type": "code",
   "execution_count": 162,
   "metadata": {
    "collapsed": true
   },
   "outputs": [],
   "source": [
    "vec = CountVectorizer(min_df=10)\n",
    "breeds = vec.fit_transform(all_data['Breed'])\n",
    "breeds = breeds.toarray()\n",
    "breeds.shape\n",
    "#create new features from breed names\n",
    "for ii in range(breeds.shape[1]):\n",
    "    colname = 'breed_%d' %ii\n",
    "    all_data[colname] = pd.Series(breeds[:,ii])\n",
    "\n",
    "#--------------------------------------------------------------------------------------------------\n",
    "\n",
    "\n",
    "vec = CountVectorizer(min_df=10)\n",
    "colors = vec.fit_transform(all_data['Color'])\n",
    "colors = colors.toarray()\n",
    "colors.shape\n",
    "#create new features from breed names\n",
    "for ii in range(colors.shape[1]):\n",
    "    colname = 'color_%d' %ii\n",
    "    all_data[colname] = pd.Series(colors[:,ii])"
   ]
  },
  {
   "cell_type": "markdown",
   "metadata": {},
   "source": [
    "######  That's it for feature engineering. Now split the train and test data back."
   ]
  },
  {
   "cell_type": "code",
   "execution_count": 163,
   "metadata": {
    "collapsed": false
   },
   "outputs": [
    {
     "name": "stdout",
     "output_type": "stream",
     "text": [
      "train data: (26729, 258) Test data: (11456, 258)\n"
     ]
    }
   ],
   "source": [
    "train_data = all_data.iloc[:train_num]\n",
    "test_data = all_data.iloc[train_num:]\n",
    "test_ids = all_data['ID'][train_num:].values\n",
    "train_labels = train_data.OutcomeType\n",
    "\n",
    "print \"train data:\", train_data.shape, \"Test data:\", test_data.shape\n"
   ]
  },
  {
   "cell_type": "code",
   "execution_count": 164,
   "metadata": {
    "collapsed": false
   },
   "outputs": [],
   "source": [
    "#drop the columns we don't need\n",
    "cols_recoded = [\n",
    " 'AgeuponOutcome',\n",
    " 'AnimalType',\n",
    " 'Breed',\n",
    " 'Color',\n",
    " 'DateTime',\n",
    " 'Name',\n",
    " 'SexuponOutcome',\n",
    " 'Agecategory',\n",
    " 'Breedtype',\n",
    " 'Colortype',\n",
    " 'unknown',\n",
    " 'Ampm']\n",
    "\n",
    "\n",
    "train_data = train_data.drop(cols_recoded, axis=1)\n",
    "test_data = test_data.drop(cols_recoded, axis=1)\n",
    "\n",
    "other_cols = [\n",
    "    'ID',\n",
    "    'OutcomeSubtype',\n",
    "    'OutcomeType']\n",
    "\n",
    "train_data = train_data.drop(other_cols, axis=1)\n",
    "test_data = test_data.drop(other_cols, axis=1)"
   ]
  },
  {
   "cell_type": "code",
   "execution_count": 165,
   "metadata": {
    "collapsed": false
   },
   "outputs": [
    {
     "name": "stdout",
     "output_type": "stream",
     "text": [
      "Log Loss (each iteration) :\n",
      "0.866571206011\n",
      "0.873125987636\n",
      "0.847760488281\n",
      "0.876849516622\n",
      "0.857631764855\n",
      "0.862067369603\n",
      "Std Deviation Log Loss :\n",
      "0.00968689872444\n",
      "             precision    recall  f1-score   support\n",
      "\n",
      "   adoption       0.66      0.83      0.74     10769\n",
      "       died       0.00      0.00      0.00       197\n",
      " euthanasia       0.60      0.06      0.11      1555\n",
      "return_to_owner       0.48      0.44      0.46      4786\n",
      "   transfer       0.73      0.67      0.70      9422\n",
      "\n",
      "avg / total       0.64      0.65      0.63     26729\n",
      "\n",
      "Confusion matrix, without normalization\n",
      "[[8929    0    4 1192  644]\n",
      " [  19    0    4   11  163]\n",
      " [ 205    0   92  346  912]\n",
      " [2017    0   23 2095  651]\n",
      " [2331    0   31  704 6356]]\n"
     ]
    },
    {
     "data": {
      "image/png": "[encoded data removed]",
      "text/plain": [
       "<matplotlib.figure.Figure at 0x7ff4a7421050>"
      ]
     },
     "metadata": {},
     "output_type": "display_data"
    }
   ],
   "source": [
    "#plain and simple\n",
    "clf = LogisticRegression()\n",
    "fit_model(clf)"
   ]
  },
  {
   "cell_type": "code",
   "execution_count": 166,
   "metadata": {
    "collapsed": false
   },
   "outputs": [
    {
     "name": "stdout",
     "output_type": "stream",
     "text": [
      "Log Loss (each iteration) :\n",
      "0.864945898836\n",
      "0.871342982972\n",
      "0.845638976579\n",
      "0.874861226758\n",
      "0.858046260043\n",
      "0.859654312384\n",
      "Std Deviation Log Loss :\n",
      "0.00956700176051\n",
      "             precision    recall  f1-score   support\n",
      "\n",
      "   adoption       0.66      0.83      0.74     10769\n",
      "       died       0.00      0.00      0.00       197\n",
      " euthanasia       0.61      0.06      0.10      1555\n",
      "return_to_owner       0.48      0.44      0.46      4786\n",
      "   transfer       0.73      0.68      0.70      9422\n",
      "\n",
      "avg / total       0.65      0.65      0.63     26729\n",
      "\n",
      "Confusion matrix, without normalization\n",
      "[[8942    0    4 1191  632]\n",
      " [  20    0    4   11  162]\n",
      " [ 209    0   86  349  911]\n",
      " [2028    0   20 2096  642]\n",
      " [2337    0   26  699 6360]]\n"
     ]
    },
    {
     "data": {
      "image/png": "[encoded data removed]",
      "text/plain": [
       "<matplotlib.figure.Figure at 0x7ff4a73360d0>"
      ]
     },
     "metadata": {},
     "output_type": "display_data"
    }
   ],
   "source": [
    "#with L1 regularization\n",
    "clf = LogisticRegression(penalty=\"l1\")\n",
    "fit_model(clf)"
   ]
  },
  {
   "cell_type": "code",
   "execution_count": 167,
   "metadata": {
    "collapsed": false
   },
   "outputs": [
    {
     "name": "stdout",
     "output_type": "stream",
     "text": [
      "Log Loss (each iteration) :\n",
      "0.812653331362\n",
      "0.814555368901\n",
      "0.792427720046\n",
      "0.831743262894\n",
      "0.793576732398\n",
      "0.814144515308\n",
      "Std Deviation Log Loss :\n",
      "0.0135161142235\n",
      "             precision    recall  f1-score   support\n",
      "\n",
      "   adoption       0.69      0.84      0.76     10769\n",
      "       died       0.67      0.03      0.06       197\n",
      " euthanasia       0.63      0.13      0.22      1555\n",
      "return_to_owner       0.51      0.46      0.48      4786\n",
      "   transfer       0.75      0.72      0.74      9422\n",
      "\n",
      "avg / total       0.68      0.68      0.66     26729\n",
      "\n",
      "Confusion matrix, without normalization\n",
      "[[9000    0   13 1057  699]\n",
      " [  19    6    5   12  155]\n",
      " [ 221    0  202  335  797]\n",
      " [1960    0   31 2212  583]\n",
      " [1776    3   72  763 6808]]\n"
     ]
    },
    {
     "data": {
      "image/png": "[encoded data removed]",
      "text/plain": [
       "<matplotlib.figure.Figure at 0x7ff4b81c2750>"
      ]
     },
     "metadata": {},
     "output_type": "display_data"
    }
   ],
   "source": [
    "clf = RandomForestClassifier(n_estimators=1000, n_jobs=-1)\n",
    "fit_model(clf)"
   ]
  },
  {
   "cell_type": "code",
   "execution_count": 168,
   "metadata": {
    "collapsed": false
   },
   "outputs": [
    {
     "name": "stdout",
     "output_type": "stream",
     "text": [
      "Top features: \n",
      "['Ageyears' 'Hour' 'Dayofmonth' 'Weekofyear' 'Dayofweek' 'Month' 'Hasname'\n",
      " 'spayed female' 'neutered male' 'Year' 'intact female' 'intact male'\n",
      " 'baby' 'color_1' 'color_4' 'Iscat' 'color_31' 'breed_60' 'breed_148'\n",
      " 'adult' 'adolescent' 'col_single_color' 'col_double_color' 'color_25'\n",
      " 'senior' 'PM' 'AM' 'color_2' 'color_24' 'purebreed_mix' 'breed_104'\n",
      " 'breed_29' 'breed_119' 'breed_40' 'breed_131' 'breed_165' 'color_19'\n",
      " 'purebreed_purebreed' 'color_3' 'breed_90' 'purebreed' 'breed_144'\n",
      " 'color_30' 'breed_52' 'breed_71' 'color_7' 'breed_94' 'color_17' 'breed_9'\n",
      " 'color_8']\n"
     ]
    },
    {
     "data": {
      "image/png": "[encoded data removed]",
      "text/plain": [
       "<matplotlib.figure.Figure at 0x7ff4a0c08250>"
      ]
     },
     "metadata": {},
     "output_type": "display_data"
    }
   ],
   "source": [
    "draw_rf_importances(clf)"
   ]
  },
  {
   "cell_type": "markdown",
   "metadata": {},
   "source": [
    "## Feature Set V3"
   ]
  },
  {
   "cell_type": "code",
   "execution_count": 173,
   "metadata": {
    "collapsed": false
   },
   "outputs": [
    {
     "name": "stdout",
     "output_type": "stream",
     "text": [
      "Train data count: 26729\n",
      "Test data count: 11456\n",
      "Total data count: 38185\n"
     ]
    }
   ],
   "source": [
    "feature_columns = ['AnimalID', 'Name', 'DateTime', 'AnimalType', 'SexuponOutcome', \n",
    "                    'AgeuponOutcome', 'Breed', 'Color']\n",
    "\n",
    "train_features = train.loc[:, feature_columns]\n",
    "n_train_features = len(train_features.index)\n",
    "print 'Train data count: {}'.format(n_train_features)\n",
    "\n",
    "test_features = test.loc[:, feature_columns]\n",
    "n_test_features = len(test_features.index)\n",
    "print 'Test data count: {}'.format(n_test_features)\n",
    "\n",
    "features = pd.concat((train_features, test_features), ignore_index=True)\n",
    "print 'Total data count: {}'.format(len(features.index))"
   ]
  },
  {
   "cell_type": "markdown",
   "metadata": {},
   "source": [
    "#### Whether or not the animal has a name"
   ]
  },
  {
   "cell_type": "code",
   "execution_count": 174,
   "metadata": {
    "collapsed": true
   },
   "outputs": [],
   "source": [
    "features['HasName'] = features.Name.notnull().astype(float)"
   ]
  },
  {
   "cell_type": "markdown",
   "metadata": {},
   "source": [
    "#### Whether the animal is a dog or a cat. (Default is cat)"
   ]
  },
  {
   "cell_type": "code",
   "execution_count": 175,
   "metadata": {
    "collapsed": true
   },
   "outputs": [],
   "source": [
    "# features['IsDog'] = (features.AnimalType == 'Dog').astype(float)\n",
    "# # features.drop('AnimalType', axis=1, inplace=True)\n",
    "# features.head(5)"
   ]
  },
  {
   "cell_type": "markdown",
   "metadata": {},
   "source": [
    "#### Sex and spay/neuter statusa"
   ]
  },
  {
   "cell_type": "code",
   "execution_count": 176,
   "metadata": {
    "collapsed": true
   },
   "outputs": [],
   "source": [
    "# Cleaning sex\n",
    "# When sex is unknown, code \"None\" for both Sex and Fixed values. \n",
    "# This will get handled later when dummy-coding variables. The default\n",
    "# will be the \"unknown\" case and there will be separate features for\n",
    "# both male/female and fixed/intact (for a total of 4 dummy variables).\n",
    "features.loc[(features.SexuponOutcome == 'Unknown'), 'SexuponOutcome'] = None\n",
    "features['Sex'] = features.SexuponOutcome.str.split(' ').str[1]\n",
    "features['IsFixed'] = features.SexuponOutcome.str.split(' ').str[0]\n",
    "features.loc[(features.IsFixed.str.contains('Neutered|Spayed',na=False)), 'IsFixed'] = 'Fixed'\n",
    "\n",
    "features.loc[(features.Sex.isnull()), 'Sex'] = 'Unknown'\n",
    "features.loc[(features.IsFixed.isnull()), 'IsFixed'] = 'Unknown'\n",
    "#features.drop('SexuponOutcome', axis=1, inplace=True)"
   ]
  },
  {
   "cell_type": "markdown",
   "metadata": {},
   "source": [
    "#### Age - convert to continuous # of years"
   ]
  },
  {
   "cell_type": "code",
   "execution_count": 186,
   "metadata": {
    "collapsed": false
   },
   "outputs": [
    {
     "name": "stdout",
     "output_type": "stream",
     "text": [
      "Filling NA ages for cats with mean age: 1.35603498774\n",
      "Filling NA ages for dogs with mean age: 2.73844387021\n",
      "Minimum age: 0.0\n",
      "Maximum age: 22.0\n"
     ]
    }
   ],
   "source": [
    "# Cleaning age\n",
    "# Unknown values left as NaN\n",
    "# Otherwise, age is converted to years.  (Note precision loss as unit reported grows)\n",
    "features['AgeNum'] = pd.to_numeric(features['AgeuponOutcome'].str.split(' ').str[0])\n",
    "features['AgeUnit'] = features['AgeuponOutcome'].str.split(' ').str[1]\n",
    "features.loc[(features.AgeUnit.str.contains('year', na=False)), 'Age'] = features.AgeNum / 1.0\n",
    "features.loc[(features.AgeUnit.str.contains('month', na=False)), 'Age'] = features.AgeNum / 12.0\n",
    "features.loc[(features.AgeUnit.str.contains('week', na=False)), 'Age'] = features.AgeNum / (365.25 / 7)\n",
    "features.loc[(features.AgeUnit.str.contains('day', na=False)), 'Age'] = features.AgeNum / 365.25\n",
    "# features.drop(['AgeuponOutcome', 'AgeNum', 'AgeUnit'], axis=1, inplace=True)\n",
    "features.drop(['AgeNum', 'AgeUnit'], axis=1, inplace=True)\n",
    "\n",
    "# Adding a column to flag when the real age is not known\n",
    "features['AgeUnknown'] = features.AgeuponOutcome.isnull().astype(float)\n",
    "\n",
    "# Filling NA ages with per-species mean, which should hopefully at least get us an unbiased fill-in value\n",
    "cat_mean_age = features.loc[((features.AgeuponOutcome.notnull()) & (features.AnimalType == 'Cat')), 'Age'].mean()\n",
    "print 'Filling NA ages for cats with mean age: {}'.format(cat_mean_age)\n",
    "features.loc[((features.AgeuponOutcome.isnull()) & (features.AnimalType == 'Cat')), 'Age'] = cat_mean_age\n",
    "\n",
    "dog_mean_age = features.loc[((features.AgeuponOutcome.notnull()) & (features.AnimalType == 'Dog')), 'Age'].mean()\n",
    "print 'Filling NA ages for dogs with mean age: {}'.format(dog_mean_age)\n",
    "features.loc[((features.AgeuponOutcome.isnull()) & (features.AnimalType == 'Dog')), 'Age'] = dog_mean_age\n",
    "\n",
    "features['AgeSquared'] = features.Age * features.Age\n",
    "features['LogAge'] = np.log(features.Age + 1)\n",
    "\n",
    "print 'Minimum age: {}'.format(features.Age.min())\n",
    "print 'Maximum age: {}'.format(features.Age.max())\n",
    "\n",
    "## Rescaling age features\n",
    "## Commented out 'cuz it doesn't seem to help much\n",
    "# max_age = features.Age.max()\n",
    "# features.Age = features.Age / max_age\n",
    "\n",
    "# max_squared_age = features.AgeSquared.max()\n",
    "# features.AgeSquared = features.AgeSquared / max_squared_age\n",
    "\n",
    "# max_log_age = features.LogAge.max()\n",
    "# features.LogAge = features.LogAge / max_log_age\n",
    "\n",
    "#features.head(2)"
   ]
  },
  {
   "cell_type": "code",
   "execution_count": 187,
   "metadata": {
    "collapsed": false
   },
   "outputs": [],
   "source": [
    "# Cleaning breed\n",
    "# First just extracting whether it's a mix or not\n",
    "features['IsMix'] = features.Breed.str.contains('Mix|/').astype(float)\n",
    "\n",
    "features['CleanBreed'] = features.Breed.str.replace(' Mix', '')\n",
    "features['BreedBits'] = features.CleanBreed.str.split('/')\n",
    "\n",
    "features['Breed1'] = features.BreedBits.str[0]\n",
    "features['Breed2'] = features.loc[features.Breed.str.contains('/')].BreedBits.str[1]\n",
    "features.loc[(features.Breed2.isnull()), 'Breed2'] = 'None'\n",
    "\n",
    "\n",
    "#features.head(2)"
   ]
  },
  {
   "cell_type": "code",
   "execution_count": 191,
   "metadata": {
    "collapsed": false
   },
   "outputs": [],
   "source": [
    "# Leaving month and day as strings because I think they make more sense as categorical variables\n",
    "# than ordinal ones. For example, is January really \"less than\" December? It comes after it.\n",
    "# This will make the feature count larger since we have to do so much dummy coding, but it makes\n",
    "# it possible to have the model pick up on spikes that might not be related to the day's number\n",
    "# in any linear way - e.g., if there's a spike of activity at the beginning and end of each month.\n",
    "# \n",
    "# One issue there, though, is that it becomes a poor proxy for time in relation to the end of the\n",
    "# month, since months can be anywhere from 28-31 days long. I don't know that that will really \n",
    "# matter much, though, unless there is a hard spike on certain times. If I get bored I'll do\n",
    "# some plotting to look into that.\n",
    "# \n",
    "# Leaving year out of it because it'll create an extrapolation issue - we can't really use fixed\n",
    "# effects from past years to apply to future years.\n",
    "#\n",
    "# For time, I'm just getting hour of the day. I'm not sure there's much sense to \n",
    "# having greater resolution than that\n",
    "\n",
    "\n",
    "features['Month'] = features.DateTime.apply(lambda d: d.strftime('%B'))   # 'January', 'Feburary', . . .\n",
    "features['Day'] = features.DateTime.apply(lambda d: d.strftime('Day%d'))  # 'Day01', 'Day02', . . .\n",
    "features['WeekDay'] = features.DateTime.apply(lambda d: d.strftime('%A')) # 'Sunday', 'Monday', . . .  \n",
    "features['Hour'] = features.DateTime.apply(lambda d: d.strftime('Hour%H')) # 'Hour00', 'Hour01', . . . \n",
    "\n",
    "# features.drop(['DateTime'], axis=1, inplace=True)\n",
    "\n",
    "#features.head(2)"
   ]
  },
  {
   "cell_type": "code",
   "execution_count": 192,
   "metadata": {
    "collapsed": true
   },
   "outputs": [],
   "source": [
    "# Pulling out separate features for merle/tick/tabby/brindle/point\n",
    "features['IsMerle'] = features.Color.str.contains('Merle').astype(float)\n",
    "features['IsTick'] = features.Color.str.contains('Tick').astype(float)\n",
    "features['IsTabby'] = features.Color.str.contains('Tabby').astype(float)\n",
    "features['IsBrindle'] = features.Color.str.contains('Brindle').astype(float)\n",
    "features['IsPoint'] = features.Color.str.contains('Point').astype(float)\n",
    "features['IsTiger'] = features.Color.str.contains('Tiger').astype(float)\n",
    "\n",
    "# Then remove them\n",
    "features['CleanColor'] = features.Color.str.replace(' (Merle|Tick|Tabby|Brindle|Point|Tiger)', '')\n",
    "features['ColorBits'] = features.CleanColor.str.split('/')\n",
    "\n",
    "# And split to get rest\n",
    "features['Color1'] = features.ColorBits.str[0]\n",
    "features['Color2'] = features.loc[features.Color.str.contains('/')].ColorBits.str[1]\n",
    "features.loc[(features.Color2.isnull()), 'Color2'] = 'None'\n",
    "\n",
    "\n",
    "#features.loc[features.Color.str.contains('/')].head(10)\n",
    "#features.head(5)"
   ]
  },
  {
   "cell_type": "markdown",
   "metadata": {},
   "source": [
    "## Creating interaction variables\n",
    "##### I'm going to go overboard here\n",
    "\n",
    "## Coding data (using patsy)"
   ]
  },
  {
   "cell_type": "code",
   "execution_count": 195,
   "metadata": {
    "collapsed": true
   },
   "outputs": [],
   "source": [
    "# Pretty complete - as of 4/20 this is the one I used for the Kaggle submission\n",
    "# data = dmatrix('AnimalType + HasName + Sex + IsFixed + Age + AgeUnknown + AgeSquared + LogAge ' +\n",
    "#                '+ IsMix + Month + WeekDay + IsMerle + IsTick + IsTabby + IsBrindle ' +\n",
    "#                '+ IsPoint + IsTiger ' +\n",
    "#                '+ AnimalType:HasName + AnimalType:Sex + AnimalType:IsFixed + AnimalType:Age ' +\n",
    "#                '+ AnimalType:AgeSquared + AnimalType:LogAge + AnimalType:IsMix + AnimalType:Month ' +\n",
    "#                '+ AnimalType:WeekDay ' +\n",
    "#                '+ Sex:IsFixed + Sex:IsMix ' +\n",
    "#                '+ Breed1 + Breed2 + Color1 + Color2',  \n",
    "#                features, return_type='dataframe', NA_action='raise')\n",
    " \n",
    "# plus a bunch of other interactions\n",
    "data = dmatrix('AnimalType + HasName + Sex + IsFixed + Age + AgeUnknown + AgeSquared + LogAge ' +\n",
    "               '+ IsMix + Month + WeekDay + IsMerle + IsTick + IsTabby + IsBrindle ' +\n",
    "               '+ IsPoint + IsTiger ' +\n",
    "               '+ AnimalType:HasName + AnimalType:Sex + AnimalType:IsFixed + AnimalType:Age ' +\n",
    "               '+ AnimalType:AgeSquared + AnimalType:LogAge + AnimalType:IsMix ' + \n",
    "               '+ AnimalType:Month + AnimalType:WeekDay ' +\n",
    "               '+ AnimalType:Sex:IsFixed + AnimalType:Sex:Age + AnimalType:Sex:IsMix ' +\n",
    "               '+ AnimalType:IsFixed:IsMix + AnimalType:Sex:IsFixed:IsMix ' +\n",
    "               '+ Sex:IsFixed + Sex:IsMix ' +\n",
    "               '+ IsFixed:IsMix ' +\n",
    "               '+ Breed1 + Breed2 + Color1 + Color2',  \n",
    "               features, return_type='dataframe', NA_action='raise')"
   ]
  },
  {
   "cell_type": "code",
   "execution_count": 196,
   "metadata": {
    "collapsed": false
   },
   "outputs": [
    {
     "name": "stdout",
     "output_type": "stream",
     "text": [
      "Feature count: 536\n"
     ]
    }
   ],
   "source": [
    "# I've tried to keep it so that the dtype of all the columns we want to use\n",
    "# for training is float64, so we can just grab those\n",
    "numeric_features = data.loc[:, (data.dtypes == np.float64) | (data.dtypes == np.int64)]\n",
    "\n",
    "#print data.dtypes\n",
    "\n",
    "print 'Feature count: {}'.format(len(numeric_features.dtypes))"
   ]
  },
  {
   "cell_type": "code",
   "execution_count": 197,
   "metadata": {
    "collapsed": false
   },
   "outputs": [
    {
     "name": "stdout",
     "output_type": "stream",
     "text": [
      "# train rows is 26729 (should be 26729)\n",
      "# test rows is 11456 (should be 11456)\n"
     ]
    }
   ],
   "source": [
    "train_data = numeric_features[:n_train_features]\n",
    "n_train_data = len(train_data.index)\n",
    "\n",
    "test_data = numeric_features[n_train_features:]\n",
    "n_test_data = len(test_data.index)\n",
    "\n",
    "print '# train rows is {} (should be {})'.format(n_train_data, n_train_features)\n",
    "print '# test rows is {} (should be {})'.format(n_test_data, n_test_features)"
   ]
  },
  {
   "cell_type": "code",
   "execution_count": 199,
   "metadata": {
    "collapsed": false
   },
   "outputs": [
    {
     "name": "stdout",
     "output_type": "stream",
     "text": [
      "(21383, 536)\n",
      "(5346, 536)\n",
      "(21383,)\n",
      "(5346,)\n"
     ]
    }
   ],
   "source": [
    "# Using 80-20 split\n",
    "labels = train.OutcomeType\n",
    "\n",
    "train_set, test_set, train_labels, test_labels = \\\n",
    "    train_test_split(train_data, labels, test_size=0.2)\n",
    "    \n",
    "print train_set.shape\n",
    "print test_set.shape\n",
    "print train_labels.shape\n",
    "print test_labels.shape"
   ]
  },
  {
   "cell_type": "code",
   "execution_count": 202,
   "metadata": {
    "collapsed": true
   },
   "outputs": [],
   "source": [
    "train_data = train_set\n",
    "# This is to make use of the fit_model function above without too much modification.\n",
    "train_labels = pd.DataFrame(train_labels, dtype='category')['OutcomeType']"
   ]
  },
  {
   "cell_type": "code",
   "execution_count": 203,
   "metadata": {
    "collapsed": false
   },
   "outputs": [
    {
     "name": "stdout",
     "output_type": "stream",
     "text": [
      "Log Loss (each iteration) :\n",
      "0.825641958932\n",
      "0.89425173381\n",
      "0.841856226059\n",
      "0.8782911607\n",
      "0.8889188629\n",
      "0.877460858614\n",
      "Std Deviation Log Loss :\n",
      "0.025164303757\n",
      "             precision    recall  f1-score   support\n",
      "\n",
      "   Adoption       0.67      0.82      0.74      8661\n",
      "       Died       0.29      0.03      0.06       162\n",
      " Euthanasia       0.45      0.11      0.18      1244\n",
      "Return_to_owner       0.47      0.46      0.47      3771\n",
      "   Transfer       0.73      0.65      0.69      7545\n",
      "\n",
      "avg / total       0.64      0.65      0.64     21383\n",
      "\n",
      "Confusion matrix, without normalization\n",
      "[[7123    2    7  951  578]\n",
      " [  19    5    9    9  120]\n",
      " [ 159    2  141  290  652]\n",
      " [1492    0   36 1745  498]\n",
      " [1763    8  119  737 4918]]\n"
     ]
    },
    {
     "data": {
      "image/png": "[encoded data removed]",
      "text/plain": [
       "<matplotlib.figure.Figure at 0x7ff4a6c50110>"
      ]
     },
     "metadata": {},
     "output_type": "display_data"
    }
   ],
   "source": [
    "#target: .8278 @ d=24, n=2000\n",
    "clf = RandomForestClassifier(n_estimators=1000, n_jobs=4, max_depth=31)\n",
    "fit_model(clf)"
   ]
  },
  {
   "cell_type": "code",
   "execution_count": 204,
   "metadata": {
    "collapsed": false
   },
   "outputs": [
    {
     "name": "stdout",
     "output_type": "stream",
     "text": [
      "Top features: \n",
      "['Age' 'AgeSquared' 'LogAge' 'IsFixed[T.Intact]' 'IsFixed[T.Intact]:IsMix'\n",
      " 'HasName' 'AnimalType[T.Dog]:Age' 'AnimalType[T.Dog]:LogAge'\n",
      " 'AnimalType[T.Dog]:AgeSquared' 'Color2[T.None]'\n",
      " 'AnimalType[Cat]:Sex[T.Male]:Age' 'Color2[T.White]'\n",
      " 'AnimalType[T.Dog]:HasName' 'Color1[T.Black]'\n",
      " 'AnimalType[Dog]:Sex[T.Male]:Age' 'Sex[T.Male]:IsFixed[T.Intact]'\n",
      " 'Color1[T.Brown]' 'AnimalType[T.Dog]:IsFixed[T.Intact]'\n",
      " 'WeekDay[T.Saturday]' 'WeekDay[T.Sunday]' 'WeekDay[T.Monday]'\n",
      " 'WeekDay[T.Tuesday]' 'WeekDay[T.Thursday]' 'WeekDay[T.Wednesday]'\n",
      " 'Month[T.November]' 'Month[T.October]' 'Month[T.December]'\n",
      " 'AnimalType[T.Dog]:IsFixed[T.Intact]:IsMix' 'Color1[T.White]'\n",
      " 'Color1[T.Blue]' 'Month[T.July]' 'Month[T.June]' 'Breed1[T.Pit Bull]'\n",
      " 'Month[T.January]' 'AnimalType[Cat]:Sex[T.Male]:IsFixed[T.Intact]:IsMix'\n",
      " 'Breed1[T.Domestic Shorthair]' 'Month[T.May]' 'Month[T.August]'\n",
      " 'Breed1[T.Chihuahua Shorthair]' 'Month[T.September]' 'IsTabby'\n",
      " 'Breed2[T.None]' 'AnimalType[T.Dog]:IsMix' 'Month[T.February]'\n",
      " 'Sex[T.Male]:IsMix' 'Sex[T.Male]' 'Month[T.March]' 'Color1[T.Tan]'\n",
      " 'Breed1[T.Labrador Retriever]' 'Color2[T.Brown]']\n"
     ]
    },
    {
     "data": {
      "image/png": "[encoded data removed]",
      "text/plain": [
       "<matplotlib.figure.Figure at 0x7ff4a780bc50>"
      ]
     },
     "metadata": {},
     "output_type": "display_data"
    }
   ],
   "source": [
    "draw_rf_importances(clf)"
   ]
  },
  {
   "cell_type": "code",
   "execution_count": null,
   "metadata": {
    "collapsed": true
   },
   "outputs": [],
   "source": []
  },
  {
   "cell_type": "code",
   "execution_count": null,
   "metadata": {
    "collapsed": true
   },
   "outputs": [],
   "source": []
  }
 ],
 "metadata": {
  "kernelspec": {
   "display_name": "Python 2",
   "language": "python",
   "name": "python2"
  },
  "language_info": {
   "codemirror_mode": {
    "name": "ipython",
    "version": 2
   },
   "file_extension": ".py",
   "mimetype": "text/x-python",
   "name": "python",
   "nbconvert_exporter": "python",
   "pygments_lexer": "ipython2",
   "version": "2.7.6"
  }
 },
 "nbformat": 4,
 "nbformat_minor": 0
}
