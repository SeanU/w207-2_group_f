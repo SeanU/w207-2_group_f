{
 "cells": [
  {
   "cell_type": "markdown",
   "metadata": {},
   "source": [
    "# Shelter Animal Outcomes\n",
    "### Talieh, John, Sean, Subhashini"
   ]
  },
  {
   "cell_type": "code",
   "execution_count": 2,
   "metadata": {
    "collapsed": false
   },
   "outputs": [],
   "source": [
    "%matplotlib inline\n",
    "\n",
    "from datetime import date, datetime\n",
    "\n",
    "import numpy as np\n",
    "import matplotlib.pyplot as plt\n",
    "import pandas as pd\n",
    "\n",
    "from sklearn.cross_validation import train_test_split\n",
    "from sklearn.feature_extraction.text import CountVectorizer\n",
    "\n",
    "from sklearn.linear_model import LogisticRegression\n",
    "from sklearn.ensemble import RandomForestClassifier\n",
    "\n",
    "from sklearn.cross_validation import KFold\n",
    "\n",
    "from sklearn.metrics import confusion_matrix\n",
    "from sklearn import metrics\n",
    "from sklearn.metrics import classification_report\n",
    "from sklearn import cross_validation\n",
    "\n",
    "from patsy import dmatrices, dmatrix\n",
    "\n",
    "pd.set_option('display.max_columns', None)"
   ]
  },
  {
   "cell_type": "code",
   "execution_count": 3,
   "metadata": {
    "collapsed": false
   },
   "outputs": [],
   "source": [
    "train_data = pd.read_csv('train.csv', parse_dates=['DateTime'])\n",
    "test_data = pd.read_csv('test.csv', parse_dates=['DateTime'])\n",
    "\n",
    "n_train_data = len(train_data.index)"
   ]
  },
  {
   "cell_type": "markdown",
   "metadata": {},
   "source": [
    "## 1. Data Exploration"
   ]
  },
  {
   "cell_type": "markdown",
   "metadata": {},
   "source": [
    "### Data Description"
   ]
  },
  {
   "cell_type": "markdown",
   "metadata": {},
   "source": [
    "The provided data consists of the following fields:\n",
    "\n",
    "* **AnimalID:** An ID for each animal. Used for identifying results when making submissions to Kaggle.\n",
    "\n",
    "* **Name:** The name of each animal, if any.\n",
    "\n",
    "* **DateTime:** The date and time _on which the outcome occurred._ The date or time on which the animal was received by the shelter is not included in the data set.\n",
    "\n",
    "* **OutcomeType (train only):** The outcome we are trying to predict. There are four possible outcomes: adoption, transfer (e.g., to a rescue or another shelter), return to owner, euthanasia, or death for other reasons.\n",
    "\n",
    "* **OutcomeSubtype (train only):** More details on the nature of the outcome. This column is not included in the test set, and we are not scored for predicting it, so we generally ignored it.\n",
    "\n",
    "* **AnimalType:** Whether the animal is a dog or a cat.\n",
    "\n",
    "* **SexuponOutcome:** This feature contains information about both the animal's sex, and whether it has been spayed or neutered at the time of the outcome. The value may be NA.\n",
    "\n",
    "* **AgeuponOutcome:** The animal's age at the time of outcome, given as an integral number of days, weeks, months or years. The value may be NA.\n",
    "\n",
    "* **Breed:** The animal's breed. In the case of mixed breeds, it will be denoted as either a combination of two breeds separated by a slash (\"Dachshund/Beagle\"), or a single breed followed by the word Mix (\"Domestic Shorthair Mix\"). The value may be NA.\n",
    "\n",
    "* **Color:** The animal's color and color pattern. It may be a singe color (\"Tan\") or two colors separated by a slash (\"Brown/White\"), plus an optional word describing the color pattern (\"Orange Tabby\", \"Black/White Point\")."
   ]
  },
  {
   "cell_type": "code",
   "execution_count": 4,
   "metadata": {
    "collapsed": false
   },
   "outputs": [
    {
     "data": {
      "text/html": [
       "<div>\n",
       "<table border=\"1\" class=\"dataframe\">\n",
       "  <thead>\n",
       "    <tr style=\"text-align: right;\">\n",
       "      <th></th>\n",
       "      <th>AnimalID</th>\n",
       "      <th>Name</th>\n",
       "      <th>DateTime</th>\n",
       "      <th>OutcomeType</th>\n",
       "      <th>OutcomeSubtype</th>\n",
       "      <th>AnimalType</th>\n",
       "      <th>SexuponOutcome</th>\n",
       "      <th>AgeuponOutcome</th>\n",
       "      <th>Breed</th>\n",
       "      <th>Color</th>\n",
       "    </tr>\n",
       "  </thead>\n",
       "  <tbody>\n",
       "    <tr>\n",
       "      <th>0</th>\n",
       "      <td>A671945</td>\n",
       "      <td>Hambone</td>\n",
       "      <td>2014-02-12 18:22:00</td>\n",
       "      <td>Return_to_owner</td>\n",
       "      <td>NaN</td>\n",
       "      <td>Dog</td>\n",
       "      <td>Neutered Male</td>\n",
       "      <td>1 year</td>\n",
       "      <td>Shetland Sheepdog Mix</td>\n",
       "      <td>Brown/White</td>\n",
       "    </tr>\n",
       "    <tr>\n",
       "      <th>1</th>\n",
       "      <td>A656520</td>\n",
       "      <td>Emily</td>\n",
       "      <td>2013-10-13 12:44:00</td>\n",
       "      <td>Euthanasia</td>\n",
       "      <td>Suffering</td>\n",
       "      <td>Cat</td>\n",
       "      <td>Spayed Female</td>\n",
       "      <td>1 year</td>\n",
       "      <td>Domestic Shorthair Mix</td>\n",
       "      <td>Cream Tabby</td>\n",
       "    </tr>\n",
       "    <tr>\n",
       "      <th>2</th>\n",
       "      <td>A686464</td>\n",
       "      <td>Pearce</td>\n",
       "      <td>2015-01-31 12:28:00</td>\n",
       "      <td>Adoption</td>\n",
       "      <td>Foster</td>\n",
       "      <td>Dog</td>\n",
       "      <td>Neutered Male</td>\n",
       "      <td>2 years</td>\n",
       "      <td>Pit Bull Mix</td>\n",
       "      <td>Blue/White</td>\n",
       "    </tr>\n",
       "    <tr>\n",
       "      <th>3</th>\n",
       "      <td>A683430</td>\n",
       "      <td>NaN</td>\n",
       "      <td>2014-07-11 19:09:00</td>\n",
       "      <td>Transfer</td>\n",
       "      <td>Partner</td>\n",
       "      <td>Cat</td>\n",
       "      <td>Intact Male</td>\n",
       "      <td>3 weeks</td>\n",
       "      <td>Domestic Shorthair Mix</td>\n",
       "      <td>Blue Cream</td>\n",
       "    </tr>\n",
       "    <tr>\n",
       "      <th>4</th>\n",
       "      <td>A667013</td>\n",
       "      <td>NaN</td>\n",
       "      <td>2013-11-15 12:52:00</td>\n",
       "      <td>Transfer</td>\n",
       "      <td>Partner</td>\n",
       "      <td>Dog</td>\n",
       "      <td>Neutered Male</td>\n",
       "      <td>2 years</td>\n",
       "      <td>Lhasa Apso/Miniature Poodle</td>\n",
       "      <td>Tan</td>\n",
       "    </tr>\n",
       "  </tbody>\n",
       "</table>\n",
       "</div>"
      ],
      "text/plain": [
       "  AnimalID     Name            DateTime      OutcomeType OutcomeSubtype  \\\n",
       "0  A671945  Hambone 2014-02-12 18:22:00  Return_to_owner            NaN   \n",
       "1  A656520    Emily 2013-10-13 12:44:00       Euthanasia      Suffering   \n",
       "2  A686464   Pearce 2015-01-31 12:28:00         Adoption         Foster   \n",
       "3  A683430      NaN 2014-07-11 19:09:00         Transfer        Partner   \n",
       "4  A667013      NaN 2013-11-15 12:52:00         Transfer        Partner   \n",
       "\n",
       "  AnimalType SexuponOutcome AgeuponOutcome                        Breed  \\\n",
       "0        Dog  Neutered Male         1 year        Shetland Sheepdog Mix   \n",
       "1        Cat  Spayed Female         1 year       Domestic Shorthair Mix   \n",
       "2        Dog  Neutered Male        2 years                 Pit Bull Mix   \n",
       "3        Cat    Intact Male        3 weeks       Domestic Shorthair Mix   \n",
       "4        Dog  Neutered Male        2 years  Lhasa Apso/Miniature Poodle   \n",
       "\n",
       "         Color  \n",
       "0  Brown/White  \n",
       "1  Cream Tabby  \n",
       "2   Blue/White  \n",
       "3   Blue Cream  \n",
       "4          Tan  "
      ]
     },
     "execution_count": 4,
     "metadata": {},
     "output_type": "execute_result"
    }
   ],
   "source": [
    "train_data.head(5)"
   ]
  },
  {
   "cell_type": "code",
   "execution_count": 5,
   "metadata": {
    "collapsed": false
   },
   "outputs": [],
   "source": [
    "# Utility functions\n",
    "# From: http://stackoverflow.com/a/28688724\n",
    "Y = 2000 # dummy leap year to allow input X-02-29 (leap day)\n",
    "seasons = [('4-winter', (date(Y,  1,  1),  date(Y,  3, 20))),\n",
    "           ('1-spring', (date(Y,  3, 21),  date(Y,  6, 20))),\n",
    "           ('2-summer', (date(Y,  6, 21),  date(Y,  9, 22))),\n",
    "           ('3-autumn', (date(Y,  9, 23),  date(Y, 12, 20))),\n",
    "           ('4-winter', (date(Y, 12, 21),  date(Y, 12, 31)))]\n",
    "\n",
    "def get_season(now):\n",
    "    if isinstance(now, datetime):\n",
    "        now = now.date()\n",
    "    now = now.replace(year=Y)\n",
    "    return next(season for season, (start, end) in seasons\n",
    "                if start <= now <= end)"
   ]
  },
  {
   "cell_type": "markdown",
   "metadata": {},
   "source": [
    "### Combining the training and submission data."
   ]
  },
  {
   "cell_type": "markdown",
   "metadata": {},
   "source": [
    "For the sake of simplicity in data exploration and feature engineering, we are combining the train and test data into a single data frame to operate on for feature engineering, and then separating it back out again before training and testing. Jupyter notebooks are more manageable if most the work is done in a global scope, and that way of working doesn't lend itself as well to keeping the sets separate because we would then need to worry about managing state in a way that lets us apply our feature engineering to both data sets separately while still staying coherent.\n",
    "\n",
    "In real life this should not be done because it will adversely impact the generalizability of the data. However, the Kaggle competition is already different from real life in many ways. Generalizing well to future data is not one of the goals, so the test set is not a tool for estimating how accurate the model will be on future data the way it would be in a real-world situation. Instead, the test set is an end in and of itself, and any concerns about the validity of the test set score are tangential at best. Furthermore, the train and test sets include some variables that can only be known after the outcome has already been determined: The date and time of the outcome, the animal's age when the outcome occurs, and possibly also whether or not the animal has been spayed or neutered at the time of the outcome.\n",
    "\n",
    "For Kaggle purposes it may also help our score in cases where the distributions of some variables differ between the train and test sets. In practice we did not find any significant differences, but it was a consideration."
   ]
  },
  {
   "cell_type": "code",
   "execution_count": 6,
   "metadata": {
    "collapsed": true
   },
   "outputs": [],
   "source": [
    "feature_columns = ['AnimalID', 'Name', 'DateTime', 'AnimalType', 'SexuponOutcome', \n",
    "                    'AgeuponOutcome', 'Breed', 'Color', 'OutcomeType']\n",
    "\n",
    "train_features = train_data.loc[:, feature_columns]\n",
    "test_features = test_data.loc[:, feature_columns]\n",
    "\n",
    "data = pd.concat((train_features, test_features), ignore_index=True)"
   ]
  },
  {
   "cell_type": "code",
   "execution_count": 7,
   "metadata": {
    "collapsed": true
   },
   "outputs": [],
   "source": [
    "data['Season'] = data.DateTime.map(get_season)\n",
    "\n",
    "data['Sex X Species'] = data.SexuponOutcome + ' ' + data.AnimalType\n",
    "\n",
    "data['Month'] = data.DateTime.apply(lambda d: d.strftime('%m-%B'))   # 'January', 'Feburary', . . .\n",
    "data['WeekDay'] = data.DateTime.apply(lambda d: d.strftime('%w-%A')) # 'Sunday', 'Monday', . . .  "
   ]
  },
  {
   "cell_type": "code",
   "execution_count": 8,
   "metadata": {
    "collapsed": false
   },
   "outputs": [
    {
     "name": "stdout",
     "output_type": "stream",
     "text": [
      "Size of training set: 26729\n",
      "Size of submission set: 11456\n"
     ]
    }
   ],
   "source": [
    "train_data = data[:n_train_data]\n",
    "test_data = data[n_train_data:]\n",
    "\n",
    "print 'Size of training set: %d' % len(train_data.index)\n",
    "print 'Size of submission set: %d' % len(test_data.index)"
   ]
  },
  {
   "cell_type": "markdown",
   "metadata": {},
   "source": [
    "### Comparing train and test data distributions"
   ]
  },
  {
   "cell_type": "code",
   "execution_count": 9,
   "metadata": {
    "collapsed": false
   },
   "outputs": [
    {
     "data": {
      "text/html": [
       "<div>\n",
       "<table border=\"1\" class=\"dataframe\">\n",
       "  <thead>\n",
       "    <tr style=\"text-align: right;\">\n",
       "      <th></th>\n",
       "      <th>AnimalID</th>\n",
       "      <th>Name</th>\n",
       "      <th>DateTime</th>\n",
       "      <th>AnimalType</th>\n",
       "      <th>SexuponOutcome</th>\n",
       "      <th>AgeuponOutcome</th>\n",
       "      <th>Breed</th>\n",
       "      <th>Color</th>\n",
       "      <th>OutcomeType</th>\n",
       "      <th>Season</th>\n",
       "      <th>Sex X Species</th>\n",
       "      <th>Month</th>\n",
       "      <th>WeekDay</th>\n",
       "    </tr>\n",
       "  </thead>\n",
       "  <tbody>\n",
       "    <tr>\n",
       "      <th>count</th>\n",
       "      <td>26729</td>\n",
       "      <td>19038</td>\n",
       "      <td>26729</td>\n",
       "      <td>26729</td>\n",
       "      <td>26728</td>\n",
       "      <td>26711</td>\n",
       "      <td>26729</td>\n",
       "      <td>26729</td>\n",
       "      <td>26729</td>\n",
       "      <td>26729</td>\n",
       "      <td>26728</td>\n",
       "      <td>26729</td>\n",
       "      <td>26729</td>\n",
       "    </tr>\n",
       "    <tr>\n",
       "      <th>unique</th>\n",
       "      <td>26729</td>\n",
       "      <td>6374</td>\n",
       "      <td>22918</td>\n",
       "      <td>2</td>\n",
       "      <td>5</td>\n",
       "      <td>44</td>\n",
       "      <td>1380</td>\n",
       "      <td>366</td>\n",
       "      <td>5</td>\n",
       "      <td>4</td>\n",
       "      <td>10</td>\n",
       "      <td>12</td>\n",
       "      <td>7</td>\n",
       "    </tr>\n",
       "    <tr>\n",
       "      <th>top</th>\n",
       "      <td>A705677</td>\n",
       "      <td>Max</td>\n",
       "      <td>2015-08-11 00:00:00</td>\n",
       "      <td>Dog</td>\n",
       "      <td>Neutered Male</td>\n",
       "      <td>1 year</td>\n",
       "      <td>Domestic Shorthair Mix</td>\n",
       "      <td>Black/White</td>\n",
       "      <td>Adoption</td>\n",
       "      <td>3-autumn</td>\n",
       "      <td>Neutered Male Dog</td>\n",
       "      <td>10-October</td>\n",
       "      <td>6-Saturday</td>\n",
       "    </tr>\n",
       "    <tr>\n",
       "      <th>freq</th>\n",
       "      <td>1</td>\n",
       "      <td>136</td>\n",
       "      <td>19</td>\n",
       "      <td>15595</td>\n",
       "      <td>9779</td>\n",
       "      <td>3969</td>\n",
       "      <td>8810</td>\n",
       "      <td>2824</td>\n",
       "      <td>10769</td>\n",
       "      <td>7777</td>\n",
       "      <td>6714</td>\n",
       "      <td>2881</td>\n",
       "      <td>4348</td>\n",
       "    </tr>\n",
       "    <tr>\n",
       "      <th>first</th>\n",
       "      <td>NaN</td>\n",
       "      <td>NaN</td>\n",
       "      <td>2013-10-01 09:31:00</td>\n",
       "      <td>NaN</td>\n",
       "      <td>NaN</td>\n",
       "      <td>NaN</td>\n",
       "      <td>NaN</td>\n",
       "      <td>NaN</td>\n",
       "      <td>NaN</td>\n",
       "      <td>NaN</td>\n",
       "      <td>NaN</td>\n",
       "      <td>NaN</td>\n",
       "      <td>NaN</td>\n",
       "    </tr>\n",
       "    <tr>\n",
       "      <th>last</th>\n",
       "      <td>NaN</td>\n",
       "      <td>NaN</td>\n",
       "      <td>2016-02-21 19:17:00</td>\n",
       "      <td>NaN</td>\n",
       "      <td>NaN</td>\n",
       "      <td>NaN</td>\n",
       "      <td>NaN</td>\n",
       "      <td>NaN</td>\n",
       "      <td>NaN</td>\n",
       "      <td>NaN</td>\n",
       "      <td>NaN</td>\n",
       "      <td>NaN</td>\n",
       "      <td>NaN</td>\n",
       "    </tr>\n",
       "  </tbody>\n",
       "</table>\n",
       "</div>"
      ],
      "text/plain": [
       "       AnimalID   Name             DateTime AnimalType SexuponOutcome  \\\n",
       "count     26729  19038                26729      26729          26728   \n",
       "unique    26729   6374                22918          2              5   \n",
       "top     A705677    Max  2015-08-11 00:00:00        Dog  Neutered Male   \n",
       "freq          1    136                   19      15595           9779   \n",
       "first       NaN    NaN  2013-10-01 09:31:00        NaN            NaN   \n",
       "last        NaN    NaN  2016-02-21 19:17:00        NaN            NaN   \n",
       "\n",
       "       AgeuponOutcome                   Breed        Color OutcomeType  \\\n",
       "count           26711                   26729        26729       26729   \n",
       "unique             44                    1380          366           5   \n",
       "top            1 year  Domestic Shorthair Mix  Black/White    Adoption   \n",
       "freq             3969                    8810         2824       10769   \n",
       "first             NaN                     NaN          NaN         NaN   \n",
       "last              NaN                     NaN          NaN         NaN   \n",
       "\n",
       "          Season      Sex X Species       Month     WeekDay  \n",
       "count      26729              26728       26729       26729  \n",
       "unique         4                 10          12           7  \n",
       "top     3-autumn  Neutered Male Dog  10-October  6-Saturday  \n",
       "freq        7777               6714        2881        4348  \n",
       "first        NaN                NaN         NaN         NaN  \n",
       "last         NaN                NaN         NaN         NaN  "
      ]
     },
     "execution_count": 9,
     "metadata": {},
     "output_type": "execute_result"
    }
   ],
   "source": [
    "train_data.describe()"
   ]
  },
  {
   "cell_type": "markdown",
   "metadata": {},
   "source": [
    "### Utility functions for plotting"
   ]
  },
  {
   "cell_type": "code",
   "execution_count": 10,
   "metadata": {
    "collapsed": true
   },
   "outputs": [],
   "source": [
    "# Function to plot bar charts of categorical variables, with \n",
    "# train and test bars side-by-side. Hard-coded to use data from global env\n",
    "def barplot_testvtrain(field_name):\n",
    "    train_size = len(train_data.index) * 1.0\n",
    "    test_size = len(test_data.index) * 1.0\n",
    "\n",
    "    train_dist = train_data.groupby(field_name).size() / train_size\n",
    "    test_dist = test_data.groupby(field_name).size() / test_size\n",
    "    \n",
    "    indices = np.arange(train_dist.size)\n",
    "    width = .35\n",
    "    \n",
    "    fig, ax = plt.subplots()\n",
    "    plt.title('{} distribution'.format(field_name))\n",
    "    \n",
    "    train_rects = ax.bar(indices, train_dist, width, color='r')\n",
    "    test_rects = ax.bar(indices + width, test_dist, width, color='b')\n",
    "\n",
    "    ax.set_xticks(indices + width)\n",
    "    ax.set_xticklabels(train_dist.index, rotation=45)\n",
    "\n",
    "    ax.legend((train_rects[0], test_rects[0]), ('Train', 'Test'), loc=0)\n",
    "    plt.show()\n",
    "    \n",
    "# Function to generate stacked bar charts of outcome v. categorical variable,\n",
    "# hard-coded to use data from global env\n",
    "def barplot_stacked(field_name, rescale=True):\n",
    "    # Making a copy of the data to use for plotting.\n",
    "    # Copy is needed 'cuz I'm dropping NAs.\n",
    "    plot_data = pd.DataFrame()\n",
    "    plot_data[field_name] = train_data[field_name]\n",
    "    plot_data['OutcomeType'] = train_data.OutcomeType\n",
    "    plot_data = plot_data.dropna()\n",
    "\n",
    "    # List of outcomes in order to stack, together with assigned color\n",
    "    outcomes = [('Adoption', 'r'), \n",
    "                ('Transfer', 'b'), \n",
    "                ('Return_to_owner', 'g'), \n",
    "                ('Euthanasia', 'y'), \n",
    "                ('Died', 'm')]\n",
    "\n",
    "    # Getting information about the categories in the variable\n",
    "    categories = plot_data[field_name].unique()\n",
    "    categories.sort()\n",
    "    cat_counts = plot_data.groupby(field_name).size()\n",
    "    indices = np.arange(categories.size)\n",
    "    \n",
    "    width = .75\n",
    "    barsets = []\n",
    "    \n",
    "    # Series of 0s for all categories, added to distributions\n",
    "    # to ensure that there's an entry for every category.\n",
    "    zero = pd.Series({c:0 for c in categories})\n",
    "    # Keeps track of bottoms. Bottoms are just top of previous one.\n",
    "    bottoms = pd.Series({c:0 for c in categories})\n",
    "\n",
    "    fig, ax = plt.subplots()\n",
    "    if(rescale):\n",
    "        plt.title('Outcome rates by {}'.format(field_name))\n",
    "    else:\n",
    "        plt.title('Outcomes by {}'.format(field_name))\n",
    "\n",
    "    # Loop over outcomes, generate bars, and stack them\n",
    "    for outcome, c in outcomes:\n",
    "        dist = plot_data.loc[plot_data.OutcomeType == outcome] \\\n",
    "                         .groupby(field_name) \\\n",
    "                         .size()\n",
    "        if(rescale):\n",
    "            dist = dist / cat_counts\n",
    "                    \n",
    "        dist = zero.add(dist, 'index', fill_value=0.0)\n",
    "\n",
    "        # Saving barset for later because it's needed to draw the legend\n",
    "        bs = ax.bar(indices, dist, width, color=c, bottom = bottoms)\n",
    "        barsets.append(bs)\n",
    "        \n",
    "        # The bottom of the next round of bars will be the top of this one.\n",
    "        bottoms = bottoms.add(dist, 'index', fill_value=0.0)\n",
    "\n",
    "    # Drawing category labels\n",
    "    ax.set_xticks(indices + (width / 2))\n",
    "    ax.set_xticklabels(categories, rotation=90)\n",
    "    \n",
    "    if(rescale):\n",
    "        ax.set_ylim(0, 1)\n",
    "    # Drawing legend outside of plot\n",
    "    box = ax.get_position()\n",
    "    ax.set_position([box.x0, box.y0, box.width * 0.8, box.height])\n",
    "    ax.legend([bs[0] for bs in barsets], \n",
    "              [n[0] for n in outcomes], \n",
    "              loc='center left', \n",
    "              bbox_to_anchor=(1, 0.5))\n",
    "    \n",
    "    plt.show()"
   ]
  },
  {
   "cell_type": "markdown",
   "metadata": {},
   "source": [
    "### Comparing the training to the submission data to see if they are balanced."
   ]
  },
  {
   "cell_type": "markdown",
   "metadata": {},
   "source": [
    "Overall the distributions of the key variables we are using are roughly the same between the test and train sets. This gives us some confidence that we don't need to worry much about extrapolation."
   ]
  },
  {
   "cell_type": "code",
   "execution_count": 11,
   "metadata": {
    "collapsed": false
   },
   "outputs": [
    {
     "data": {
      "image/png": "[encoded data removed]",
      "text/plain": [
       "<matplotlib.figure.Figure at 0x7fe51f92d050>"
      ]
     },
     "metadata": {},
     "output_type": "display_data"
    },
    {
     "data": {
      "image/png": "[encoded data removed]",
      "text/plain": [
       "<matplotlib.figure.Figure at 0x7fe51f0dd610>"
      ]
     },
     "metadata": {},
     "output_type": "display_data"
    }
   ],
   "source": [
    "barplot_testvtrain('AnimalType')\n",
    "barplot_testvtrain('SexuponOutcome')"
   ]
  },
  {
   "cell_type": "code",
   "execution_count": 12,
   "metadata": {
    "collapsed": false
   },
   "outputs": [
    {
     "data": {
      "image/png": "[encoded data removed]",
      "text/plain": [
       "<matplotlib.figure.Figure at 0x7fe51f92d890>"
      ]
     },
     "metadata": {},
     "output_type": "display_data"
    },
    {
     "data": {
      "image/png": "[encoded data removed]",
      "text/plain": [
       "<matplotlib.figure.Figure at 0x7fe51f72bb10>"
      ]
     },
     "metadata": {},
     "output_type": "display_data"
    },
    {
     "data": {
      "image/png": "[encoded data removed]",
      "text/plain": [
       "<matplotlib.figure.Figure at 0x7fe51f644c90>"
      ]
     },
     "metadata": {},
     "output_type": "display_data"
    }
   ],
   "source": [
    "barplot_testvtrain('Season')\n",
    "barplot_testvtrain('Month')\n",
    "barplot_testvtrain('WeekDay')"
   ]
  },
  {
   "cell_type": "markdown",
   "metadata": {},
   "source": [
    "### Are there any immediately apparent trends in the data?"
   ]
  },
  {
   "cell_type": "markdown",
   "metadata": {},
   "source": [
    "Some initial analysis of the data indicates a number of predictive relationships. For example, while adoption and euthanasia rates are roughly the same for both species, cats are much more likely to be transferred and dogs are much more likely to be reunited with their owners.\n",
    "\n",
    "We don't see huge differences based on sex, but, not surprisingly, whether or not an animal has been fixed is strongly correlated with outcomes. Intact animals are vastly less likely to be adopted, possibly because of the additional cost of needing to buy the surgery if one adopts an intact animal. Possibly as a result,t hey are also much more likely to be euthanized. On the other hand, their chances of being transferred are vastly greater. It's uncertain why this should be, but one could speculate that it's because the shelter is not equipped to perform spay or neuter operations, and is transferring them to a facility that is.\n",
    "\n",
    "Digging a little deeper, we also find that for certain outcomes sex has a differential impact betwen the two species. For dogs, being intact has little impact on likelihood of being reunited with the owner. For intact cats, though, the odds of being reunited with an owner are effectively nil."
   ]
  },
  {
   "cell_type": "code",
   "execution_count": 13,
   "metadata": {
    "collapsed": false
   },
   "outputs": [
    {
     "data": {
      "image/png": "[encoded data removed]",
      "text/plain": [
       "<matplotlib.figure.Figure at 0x7fe51fa56b50>"
      ]
     },
     "metadata": {},
     "output_type": "display_data"
    },
    {
     "data": {
      "image/png": "[encoded data removed]",
      "text/plain": [
       "<matplotlib.figure.Figure at 0x7fe51f00b810>"
      ]
     },
     "metadata": {},
     "output_type": "display_data"
    },
    {
     "data": {
      "image/png": "[encoded data removed]",
      "text/plain": [
       "<matplotlib.figure.Figure at 0x7fe51ee7a9d0>"
      ]
     },
     "metadata": {},
     "output_type": "display_data"
    },
    {
     "data": {
      "image/png": "[encoded data removed]",
      "text/plain": [
       "<matplotlib.figure.Figure at 0x7fe51f5dec10>"
      ]
     },
     "metadata": {},
     "output_type": "display_data"
    }
   ],
   "source": [
    "barplot_stacked('AnimalType')\n",
    "barplot_stacked('SexuponOutcome')\n",
    "barplot_stacked('Sex X Species')\n",
    "barplot_stacked('Sex X Species', rescale=False)"
   ]
  },
  {
   "cell_type": "markdown",
   "metadata": {},
   "source": [
    "We also find some evidence of seasonality in the data. The per-season data indicates that adoption rates steadily increase, and transfer rates steadily decline, as the year progresses. The pattern largely persists when we look look at things on a monthly basis, but the cyclical pattern becomes more apparent.. On that scale there appears to be a distinct lull in adoptions in the spring, and a lesser one in the autumn.\n",
    "\n",
    "Unsurprisingly, looking at things by day of week reveals that people are more likely to adopt on the weekends. The relative likelihood of transfer diminishes. The absolute number of reunitings is roughly constant throughout the week, but the relative likelihood diminishes due to the large spike in weekend adoptions."
   ]
  },
  {
   "cell_type": "code",
   "execution_count": 14,
   "metadata": {
    "collapsed": false
   },
   "outputs": [
    {
     "data": {
      "image/png": "[encoded data removed]",
      "text/plain": [
       "<matplotlib.figure.Figure at 0x7fe51f03b850>"
      ]
     },
     "metadata": {},
     "output_type": "display_data"
    },
    {
     "data": {
      "image/png": "[encoded data removed]",
      "text/plain": [
       "<matplotlib.figure.Figure at 0x7fe51f724a10>"
      ]
     },
     "metadata": {},
     "output_type": "display_data"
    },
    {
     "data": {
      "image/png": "[encoded data removed]",
      "text/plain": [
       "<matplotlib.figure.Figure at 0x7fe51c2b9a10>"
      ]
     },
     "metadata": {},
     "output_type": "display_data"
    },
    {
     "data": {
      "image/png": "[encoded data removed]",
      "text/plain": [
       "<matplotlib.figure.Figure at 0x7fe51c056990>"
      ]
     },
     "metadata": {},
     "output_type": "display_data"
    },
    {
     "data": {
      "image/png": "[encoded data removed]",
      "text/plain": [
       "<matplotlib.figure.Figure at 0x7fe51c1770d0>"
      ]
     },
     "metadata": {},
     "output_type": "display_data"
    }
   ],
   "source": [
    "barplot_stacked('Season')\n",
    "barplot_stacked('Month')\n",
    "barplot_stacked('Month', rescale=False)\n",
    "barplot_stacked('WeekDay')\n",
    "barplot_stacked('WeekDay', rescale=False)"
   ]
  },
  {
   "cell_type": "markdown",
   "metadata": {},
   "source": [
    "## 2. Feature Selection and Model Testing\n",
    "\n",
    "### Multiple approaches to feature engineering were attempted"
   ]
  },
  {
   "cell_type": "markdown",
   "metadata": {},
   "source": [
    "**Common Utility Functions**"
   ]
  },
  {
   "cell_type": "code",
   "execution_count": 15,
   "metadata": {
    "collapsed": true
   },
   "outputs": [],
   "source": [
    "# Converts age to a # of years, or returns NA if input is NA\n",
    "def age_years(x):\n",
    "    # We want to skip nan's\n",
    "    try:\n",
    "        age = int(x.split(' ')[0])\n",
    "\n",
    "        if 'month' in x:\n",
    "            age /= 12.0\n",
    "\n",
    "        elif 'week' in x:\n",
    "            age /= 52.0\n",
    "\n",
    "        elif 'day' in x:\n",
    "            age /= 365.0\n",
    "\n",
    "        else:\n",
    "            age = float(age)\n",
    "\n",
    "        return age\n",
    "    except AttributeError:\n",
    "        return x\n",
    "\n",
    "def draw_cm(y_true, y_pred,label_names):\n",
    "    \n",
    "    def plot_confusion_matrix(cm, title='Confusion matrix', cmap=plt.cm.Blues):\n",
    "        plt.imshow(cm, interpolation='nearest', cmap=cmap)\n",
    "        plt.title(title)\n",
    "        plt.colorbar()\n",
    "        tick_marks = np.arange(len(label_names))\n",
    "        plt.xticks(tick_marks, label_names, rotation=45)\n",
    "        plt.yticks(tick_marks, label_names)\n",
    "        plt.tight_layout()\n",
    "        plt.ylabel('True label')\n",
    "        plt.xlabel('Predicted label')\n",
    "\n",
    "    cm = confusion_matrix(y_true, y_pred)\n",
    "    np.set_printoptions(precision=2)\n",
    "    print('Confusion matrix, without normalization')\n",
    "    print(cm)\n",
    "    plt.figure()\n",
    "    plot_confusion_matrix(cm)\n",
    "    \n",
    "# use K-fold cross validation with k=6\n",
    "\n",
    "def fit_model(clf):\n",
    "    labels =  train_labels.cat.categories\n",
    "    \n",
    "    kf = KFold(train_data.shape[0], n_folds=6)\n",
    "\n",
    "    ypp = []\n",
    "    mll = []\n",
    "    idx = 0\n",
    "    for train_index, test_index in kf:\n",
    "        X_train, X_test = train_data.iloc[train_index], train_data.iloc[test_index]\n",
    "        y_train, y_test = train_labels.iloc[train_index], train_labels.iloc[test_index]\n",
    "        #print X_train.shape, X_test.shape\n",
    "        clf.fit(X_train, y_train)\n",
    "        ypp.append(clf.predict_proba(X_test))\n",
    "        mll.append(metrics.log_loss(y_test, ypp[idx]))\n",
    "        idx += 1\n",
    "\n",
    "    print \"Log Loss (each iteration) :\\n\", '\\n'.join([str(x) for x in mll])\n",
    "    print \"Std Deviation Log Loss :\\n\", np.std(mll)\n",
    "    \n",
    "    # Get the highest probability value\n",
    "    y_pred = labels[np.argmax(np.vstack(ypp), axis=1)]\n",
    "    \n",
    "    print metrics.classification_report(train_labels, y_pred)\n",
    "    draw_cm(train_labels, y_pred, labels)\n",
    "    \n",
    "def draw_rf_importances(clf, n_features = 50):\n",
    "    importances = clf.feature_importances_\n",
    "    std = np.std([tree.feature_importances_ for tree in clf.estimators_],\n",
    "                 axis=0)\n",
    "\n",
    "    indices = np.argsort(importances)[::-1]\n",
    "\n",
    "    print 'Top features: '\n",
    "    print train_data.columns.values[indices[:n_features]]\n",
    "\n",
    "    # We have some many features let's \n",
    "    # just look at the first n_features\n",
    "    plt.figure(figsize=(10,10))\n",
    "    plt.title(\"Feature importances, first %d\" % n_features)\n",
    "    plt.bar(range(n_features),\n",
    "            importances[indices][:n_features],\n",
    "            color=\"g\",\n",
    "            yerr=std[indices][:n_features],\n",
    "            align=\"center\")\n",
    "\n",
    "    plt.xticks(range(n_features), indices, rotation=70)\n",
    "\n",
    "    plt.xlim([-1, n_features])\n",
    "    plt.xlabel('Feature Indices')\n",
    "    plt.grid()\n",
    "    plt.show()"
   ]
  },
  {
   "cell_type": "markdown",
   "metadata": {},
   "source": [
    "### This is common to all the approches to creating features"
   ]
  },
  {
   "cell_type": "code",
   "execution_count": 16,
   "metadata": {
    "collapsed": false
   },
   "outputs": [],
   "source": [
    "# read in fresh train and test data\n",
    "train = pd.read_csv('train.csv', parse_dates=['DateTime'])\n",
    "test = pd.read_csv('test.csv', parse_dates=['DateTime'])\n",
    "\n",
    "# get number of training elements\n",
    "train_num = train.shape[0]\n",
    "\n",
    "train.rename(columns={'AnimalID': 'ID'}, inplace=True)\n",
    "all_data = pd.concat((train, test), axis=0, ignore_index=True)\n",
    "\n",
    "\n",
    "# This is to make use of the fit_model function above without too much modification.\n",
    "train_labels = pd.DataFrame(train['OutcomeType'], dtype='category')['OutcomeType']"
   ]
  },
  {
   "cell_type": "markdown",
   "metadata": {},
   "source": [
    "## Merged feature set"
   ]
  },
  {
   "cell_type": "code",
   "execution_count": 17,
   "metadata": {
    "collapsed": false
   },
   "outputs": [
    {
     "data": {
      "text/html": [
       "<div>\n",
       "<table border=\"1\" class=\"dataframe\">\n",
       "  <thead>\n",
       "    <tr style=\"text-align: right;\">\n",
       "      <th></th>\n",
       "      <th>ID</th>\n",
       "      <th>HasName</th>\n",
       "      <th>Season</th>\n",
       "      <th>Month</th>\n",
       "      <th>WeekOfYear</th>\n",
       "      <th>WeekDay</th>\n",
       "      <th>Hour</th>\n",
       "      <th>AmPm</th>\n",
       "      <th>AnimalType</th>\n",
       "      <th>Sex</th>\n",
       "      <th>AgeYears</th>\n",
       "      <th>AgeCategory</th>\n",
       "      <th>IsMix</th>\n",
       "      <th>Breed1</th>\n",
       "      <th>Breed2</th>\n",
       "      <th>IsMerle</th>\n",
       "      <th>IsTick</th>\n",
       "      <th>IsTabby</th>\n",
       "      <th>IsBrindle</th>\n",
       "      <th>IsPoint</th>\n",
       "      <th>IsTiger</th>\n",
       "      <th>Color1</th>\n",
       "      <th>Color2</th>\n",
       "    </tr>\n",
       "  </thead>\n",
       "  <tbody>\n",
       "    <tr>\n",
       "      <th>0</th>\n",
       "      <td>A671945</td>\n",
       "      <td>True</td>\n",
       "      <td>4-winter</td>\n",
       "      <td>February</td>\n",
       "      <td>06</td>\n",
       "      <td>Wednesday</td>\n",
       "      <td>18</td>\n",
       "      <td>PM</td>\n",
       "      <td>Dog</td>\n",
       "      <td>Neutered Male</td>\n",
       "      <td>1</td>\n",
       "      <td>baby</td>\n",
       "      <td>True</td>\n",
       "      <td>Shetland Sheepdog</td>\n",
       "      <td>None</td>\n",
       "      <td>False</td>\n",
       "      <td>False</td>\n",
       "      <td>False</td>\n",
       "      <td>False</td>\n",
       "      <td>False</td>\n",
       "      <td>False</td>\n",
       "      <td>Brown</td>\n",
       "      <td>White</td>\n",
       "    </tr>\n",
       "    <tr>\n",
       "      <th>1</th>\n",
       "      <td>A656520</td>\n",
       "      <td>True</td>\n",
       "      <td>3-autumn</td>\n",
       "      <td>October</td>\n",
       "      <td>41</td>\n",
       "      <td>Sunday</td>\n",
       "      <td>12</td>\n",
       "      <td>PM</td>\n",
       "      <td>Cat</td>\n",
       "      <td>Spayed Female</td>\n",
       "      <td>1</td>\n",
       "      <td>adolescent</td>\n",
       "      <td>True</td>\n",
       "      <td>Domestic Shorthair</td>\n",
       "      <td>None</td>\n",
       "      <td>False</td>\n",
       "      <td>False</td>\n",
       "      <td>True</td>\n",
       "      <td>False</td>\n",
       "      <td>False</td>\n",
       "      <td>False</td>\n",
       "      <td>Cream</td>\n",
       "      <td>None</td>\n",
       "    </tr>\n",
       "  </tbody>\n",
       "</table>\n",
       "</div>"
      ],
      "text/plain": [
       "        ID HasName    Season     Month WeekOfYear    WeekDay Hour AmPm  \\\n",
       "0  A671945    True  4-winter  February         06  Wednesday   18   PM   \n",
       "1  A656520    True  3-autumn   October         41     Sunday   12   PM   \n",
       "\n",
       "  AnimalType            Sex  AgeYears AgeCategory IsMix              Breed1  \\\n",
       "0        Dog  Neutered Male         1        baby  True   Shetland Sheepdog   \n",
       "1        Cat  Spayed Female         1  adolescent  True  Domestic Shorthair   \n",
       "\n",
       "  Breed2 IsMerle IsTick IsTabby IsBrindle IsPoint IsTiger Color1 Color2  \n",
       "0   None   False  False   False     False   False   False  Brown  White  \n",
       "1   None   False  False    True     False   False   False  Cream   None  "
      ]
     },
     "execution_count": 17,
     "metadata": {},
     "output_type": "execute_result"
    }
   ],
   "source": [
    "fs = pd.DataFrame()\n",
    "\n",
    "# ID\n",
    "fs['ID'] = all_data['ID']\n",
    "\n",
    "# Name\n",
    "\n",
    "fs['HasName'] = all_data.Name.notnull()\n",
    "\n",
    "# Date\n",
    "\n",
    "fs['Season'] = all_data.DateTime.map(get_season)\n",
    "fs['Month'] = all_data.DateTime.apply(lambda d: d.strftime('%B')) # Full name of month\n",
    "fs['WeekOfYear'] = all_data.DateTime.apply(lambda d: d.strftime('%U')) # Week of the year\n",
    "fs['WeekDay'] = all_data.DateTime.apply(lambda d: d.strftime('%A')) # Full name of day\n",
    "fs['Hour'] = all_data.DateTime.apply(lambda d: d.strftime('%H'))\n",
    "fs['AmPm'] = all_data.DateTime.apply(lambda d: d.strftime('%p'))\n",
    "\n",
    "# AnimalType\n",
    "\n",
    "fs['AnimalType'] = all_data.AnimalType\n",
    "\n",
    "# SexuponOutcome\n",
    "\n",
    "fs['Sex'] = all_data.SexuponOutcome\n",
    "fs.loc[fs.Sex.isnull(), 'Sex'] = 'Unknown'\n",
    "\n",
    "# AgeuponOutcome\n",
    "\n",
    "fs['AgeYears'] = all_data.AgeuponOutcome.map(age_years)\n",
    "# fs['AgeYearsSquared'] = fs.AgeYears * fs.AgeYears\n",
    "# fs['LogAgeYears'] = np.log(fs.AgeYears)\n",
    "\n",
    "#create cat and dog age categories \n",
    "#source - http://www.akc.org/learn/family-dog/how-to-calculate-dog-years-to-human-years/\n",
    "#http://icatcare.org/advice/how-guides/how-tell-your-cat%E2%80%99s-age-human-years\n",
    "age_labels_dogs=['baby', 'adolescent', 'adult', 'senior']\n",
    "age_ranges_dogs=[0.0, 1.0, 2.0, 7.0, 30.0]\n",
    "age_ranges_cats=[0.0, 0.5, 2.0, 6.0, 10.0,15.0, 30.0]\n",
    "age_labels_cats=['baby', 'adolescent', 'adult','mature', 'senior', 'geriatric']\n",
    "\n",
    "\n",
    "#compute the dog age and cat age categories separately, then merge them\n",
    "fs['dog_ages'] = pd.cut(fs['AgeYears'][fs['AnimalType']=='Dog'], age_ranges_dogs,  labels=age_labels_dogs)\n",
    "fs['cat_ages'] = pd.cut(fs['AgeYears'][fs['AnimalType']=='Cat'], age_ranges_cats,  labels=age_labels_cats)\n",
    "#merge\n",
    "fs['AgeCategory'] = [fs['dog_ages'][x] \n",
    "                               if not pd.isnull(fs['dog_ages'][x]) \n",
    "                               else fs['cat_ages'][x] \n",
    "                                   for x in range(fs['dog_ages'].size)]\n",
    "\n",
    "# Drop the temp columns\n",
    "fs.drop(['dog_ages', 'cat_ages'], axis=1, inplace=True)\n",
    "\n",
    "fs.loc[fs.AgeYears.isnull(), 'AgeYears'] = 0\n",
    "fs.loc[fs.AgeCategory.isnull(), 'AgeCategory'] = 'Unknown'\n",
    "\n",
    "\n",
    "# Breed\n",
    "\n",
    "fs['IsMix'] = all_data.Breed.str.contains('Mix|/')\n",
    "fs['CleanBreed'] = all_data.Breed.str.replace(' Mix', '')\n",
    "fs['BreedBits'] = fs.CleanBreed.str.split('/')\n",
    "fs['Breed1'] = fs.BreedBits.str[0]\n",
    "fs['Breed2'] = fs.loc[fs.CleanBreed.str.contains('/')].BreedBits.str[1]\n",
    "fs.loc[(fs.Breed2.isnull()), 'Breed2'] = 'None'\n",
    "\n",
    "fs.drop(['CleanBreed', 'BreedBits'], axis=1, inplace=True)\n",
    "\n",
    "# Color\n",
    "\n",
    "# Pulling out separate features for merle/tick/tabby/brindle/point\n",
    "fs['IsMerle'] = all_data.Color.str.contains('Merle')\n",
    "fs['IsTick'] = all_data.Color.str.contains('Tick')\n",
    "fs['IsTabby'] = all_data.Color.str.contains('Tabby')\n",
    "fs['IsBrindle'] = all_data.Color.str.contains('Brindle')\n",
    "fs['IsPoint'] = all_data.Color.str.contains('Point')\n",
    "fs['IsTiger'] = all_data.Color.str.contains('Tiger')\n",
    "\n",
    "# Then remove them\n",
    "fs['CleanColor'] = all_data.Color.str.replace(' (Merle|Tick|Tabby|Brindle|Point|Tiger)', '')\n",
    "fs['ColorBits'] = fs.CleanColor.str.split('/')\n",
    "\n",
    "# And split to get rest\n",
    "fs['Color1'] = fs.ColorBits.str[0]\n",
    "fs['Color2'] = fs.loc[fs.CleanColor.str.contains('/')].ColorBits.str[1]\n",
    "fs.loc[(fs.Color2.isnull()), 'Color2'] = 'None'\n",
    "\n",
    "fs.drop(['CleanColor', 'ColorBits'], axis=1, inplace=True)\n",
    "\n",
    "fs.head(2)"
   ]
  },
  {
   "cell_type": "markdown",
   "metadata": {},
   "source": [
    "## Dummy coding features and generating some interactions"
   ]
  },
  {
   "cell_type": "code",
   "execution_count": 18,
   "metadata": {
    "collapsed": false
   },
   "outputs": [
    {
     "name": "stdout",
     "output_type": "stream",
     "text": [
      "Feature count: 595\n"
     ]
    }
   ],
   "source": [
    "fs_coded = dmatrix('AnimalType + HasName + Sex + AgeYears + AgeCategory + IsMix ' + \n",
    "                   '+ Season + Month + WeekOfYear + WeekDay + Hour + AmPm ' +\n",
    "                   '+ IsMerle + IsTick + IsTabby + IsBrindle ' +\n",
    "                   '+ IsPoint + IsTiger ' +\n",
    "                   '+ AnimalType:HasName + AnimalType:Sex + AnimalType:AgeYears ' +\n",
    "                   '+ AnimalType:AgeCategory + AnimalType:IsMix + AnimalType:Month ' +\n",
    "                   '+ AnimalType:WeekDay ' +\n",
    "                   '+ Sex:IsMix ' +\n",
    "                   '+ Breed1 + Breed2 + Color1 + Color2',  \n",
    "               fs, return_type='dataframe', NA_action='raise')\n",
    "\n",
    "print 'Feature count: {}'.format(len(fs_coded.dtypes))"
   ]
  },
  {
   "cell_type": "code",
   "execution_count": 19,
   "metadata": {
    "collapsed": false
   },
   "outputs": [
    {
     "name": "stdout",
     "output_type": "stream",
     "text": [
      "# train rows is 26729 (should be 26729)\n",
      "# test rows is 11456 (should be 11456)\n"
     ]
    }
   ],
   "source": [
    "train_data = fs_coded[:train_num]\n",
    "n_train_data = len(train_data.index)\n",
    "\n",
    "test_data = fs_coded[train_num:]\n",
    "n_test_data = len(test_data.index)\n",
    "\n",
    "print '# train rows is {} (should be {})'.format(n_train_data, train_num)\n",
    "print '# test rows is {} (should be {})'.format(n_test_data, fs_coded.shape[0] - train_num)"
   ]
  },
  {
   "cell_type": "code",
   "execution_count": 20,
   "metadata": {
    "collapsed": false
   },
   "outputs": [
    {
     "name": "stdout",
     "output_type": "stream",
     "text": [
      "Log Loss (each iteration) :\n",
      "0.789072359616\n",
      "0.799164298914\n",
      "0.78273163166\n",
      "0.806598033507\n",
      "0.780445761308\n",
      "0.792386939798\n",
      "Std Deviation Log Loss :\n",
      "0.00905654881237\n",
      "             precision    recall  f1-score   support\n",
      "\n",
      "   Adoption       0.69      0.84      0.76     10769\n",
      "       Died       0.75      0.03      0.06       197\n",
      " Euthanasia       0.69      0.11      0.19      1555\n",
      "Return_to_owner       0.49      0.48      0.49      4786\n",
      "   Transfer       0.76      0.71      0.73      9422\n",
      "\n",
      "avg / total       0.68      0.68      0.66     26729\n",
      "\n",
      "Confusion matrix, without normalization\n",
      "[[9028    0    5 1125  611]\n",
      " [  17    6    4   13  157]\n",
      " [ 235    0  175  346  799]\n",
      " [1960    0   14 2289  523]\n",
      " [1855    2   54  866 6645]]\n"
     ]
    },
    {
     "data": {
      "image/png": "[encoded data removed]",
      "text/plain": [
       "<matplotlib.figure.Figure at 0x7fe532f77450>"
      ]
     },
     "metadata": {},
     "output_type": "display_data"
    }
   ],
   "source": [
    "clf = RandomForestClassifier(n_estimators=1000, n_jobs=4, max_depth=31)\n",
    "fit_model(clf)"
   ]
  },
  {
   "cell_type": "markdown",
   "metadata": {},
   "source": [
    "### Retrain with entire dataset, classify submission data, and prepare submission"
   ]
  },
  {
   "cell_type": "code",
   "execution_count": 23,
   "metadata": {
    "collapsed": false
   },
   "outputs": [],
   "source": [
    "y_pred_sub = clf.fit(train_data, train_labels).predict_proba(test_data)"
   ]
  },
  {
   "cell_type": "code",
   "execution_count": 29,
   "metadata": {
    "collapsed": false
   },
   "outputs": [],
   "source": [
    "sub = pd.DataFrame(y_pred_sub, columns=['Adoption', 'Died', 'Euthanasia', 'Return_to_owner', 'Transfer'])\n",
    "sub.insert(0, 'ID', test.ID.astype(int))"
   ]
  },
  {
   "cell_type": "code",
   "execution_count": 30,
   "metadata": {
    "collapsed": false
   },
   "outputs": [
    {
     "data": {
      "text/html": [
       "<div>\n",
       "<table border=\"1\" class=\"dataframe\">\n",
       "  <thead>\n",
       "    <tr style=\"text-align: right;\">\n",
       "      <th></th>\n",
       "      <th>ID</th>\n",
       "      <th>Adoption</th>\n",
       "      <th>Died</th>\n",
       "      <th>Euthanasia</th>\n",
       "      <th>Return_to_owner</th>\n",
       "      <th>Transfer</th>\n",
       "    </tr>\n",
       "  </thead>\n",
       "  <tbody>\n",
       "    <tr>\n",
       "      <th>0</th>\n",
       "      <td>1</td>\n",
       "      <td>0.096677</td>\n",
       "      <td>0.001208</td>\n",
       "      <td>0.040442</td>\n",
       "      <td>0.156568</td>\n",
       "      <td>0.705106</td>\n",
       "    </tr>\n",
       "    <tr>\n",
       "      <th>1</th>\n",
       "      <td>2</td>\n",
       "      <td>0.676413</td>\n",
       "      <td>0.001588</td>\n",
       "      <td>0.014396</td>\n",
       "      <td>0.186891</td>\n",
       "      <td>0.120712</td>\n",
       "    </tr>\n",
       "    <tr>\n",
       "      <th>2</th>\n",
       "      <td>3</td>\n",
       "      <td>0.260164</td>\n",
       "      <td>0.000112</td>\n",
       "      <td>0.039224</td>\n",
       "      <td>0.283684</td>\n",
       "      <td>0.416815</td>\n",
       "    </tr>\n",
       "    <tr>\n",
       "      <th>3</th>\n",
       "      <td>4</td>\n",
       "      <td>0.084021</td>\n",
       "      <td>0.022937</td>\n",
       "      <td>0.057310</td>\n",
       "      <td>0.141479</td>\n",
       "      <td>0.694252</td>\n",
       "    </tr>\n",
       "    <tr>\n",
       "      <th>4</th>\n",
       "      <td>5</td>\n",
       "      <td>0.488488</td>\n",
       "      <td>0.000872</td>\n",
       "      <td>0.024240</td>\n",
       "      <td>0.344179</td>\n",
       "      <td>0.142221</td>\n",
       "    </tr>\n",
       "  </tbody>\n",
       "</table>\n",
       "</div>"
      ],
      "text/plain": [
       "   ID  Adoption      Died  Euthanasia  Return_to_owner  Transfer\n",
       "0   1  0.096677  0.001208    0.040442         0.156568  0.705106\n",
       "1   2  0.676413  0.001588    0.014396         0.186891  0.120712\n",
       "2   3  0.260164  0.000112    0.039224         0.283684  0.416815\n",
       "3   4  0.084021  0.022937    0.057310         0.141479  0.694252\n",
       "4   5  0.488488  0.000872    0.024240         0.344179  0.142221"
      ]
     },
     "execution_count": 30,
     "metadata": {},
     "output_type": "execute_result"
    }
   ],
   "source": [
    "sub.head()"
   ]
  },
  {
   "cell_type": "code",
   "execution_count": 31,
   "metadata": {
    "collapsed": true
   },
   "outputs": [],
   "source": [
    "sub.to_csv(\"submission_final.csv\", index=False)"
   ]
  },
  {
   "cell_type": "markdown",
   "metadata": {},
   "source": [
    "### Some additional features and models experimented with"
   ]
  },
  {
   "cell_type": "markdown",
   "metadata": {},
   "source": [
    "### Feature Set V1"
   ]
  },
  {
   "cell_type": "code",
   "execution_count": null,
   "metadata": {
    "collapsed": false
   },
   "outputs": [],
   "source": [
    "# create a new data frame to store our new features.\n",
    "fsv1 = pd.DataFrame()\n",
    "\n",
    "#We need an index to work with\n",
    "fsv1['ID'] = all_data['ID']\n",
    "\n",
    "# is it a cat?\n",
    "fsv1['is_cat'] = all_data['AnimalType'].map(lambda x: 1 if 'Cat' in x else 0) \n",
    "\n",
    "# color stuff\n",
    "fsv1 = fsv1.join(all_data['Color'].apply(\n",
    "        lambda x: pd.Series({'color_1':x.split('/')[0], 'color_2':x.split('/')[1]}\n",
    "                            if len(x.split('/')) == 2 else {'color_1':x, 'color_2':'NaN'})))\n",
    "\n",
    "# Convert the date into seasons\n",
    "\n",
    "fsv1['Season'] = data.DateTime.map(get_season)\n",
    "fsv1 = fsv1.join(pd.get_dummies(all_data['DateTime'].map(get_season)))\n",
    "\n",
    "# Add in the breed information\n",
    "fsv1 = fsv1.join(all_data['Breed'].apply(lambda x: get_breed_1(x)))\n",
    "\n",
    "fsv1['age_years'] = all_data['AgeuponOutcome'].map(age_years)\n",
    "\n",
    "# what is the gender, I am coding all unknowns as -999\n",
    "fsv1['is_female'] = all_data['SexuponOutcome'].map(gender)\n",
    "\n",
    "fsv1['is_fixed'] = all_data['SexuponOutcome'].map(fixed)"
   ]
  },
  {
   "cell_type": "markdown",
   "metadata": {},
   "source": [
    "***In this case it's ok to dummy code the breed across the entire data set because there are only three possible values ***"
   ]
  },
  {
   "cell_type": "code",
   "execution_count": null,
   "metadata": {
    "collapsed": false
   },
   "outputs": [],
   "source": [
    "fsv1 = fsv1.join(pd.get_dummies(fsv1['Breed']))"
   ]
  },
  {
   "cell_type": "markdown",
   "metadata": {},
   "source": [
    "***But because there are a wide assortment of colors, it seems to make more sense to split the data up and avoid information leakage.***"
   ]
  },
  {
   "cell_type": "code",
   "execution_count": null,
   "metadata": {
    "collapsed": false
   },
   "outputs": [],
   "source": [
    "# Lets break things back up before continuing \n",
    "X_train_all = fsv1.iloc[:train_num]\n",
    "y_train_all = all_data['OutcomeType'][:train_num]\n",
    "\n",
    "# Submission data\n",
    "X_test_all = fsv1.iloc[train_num:]\n",
    "ids_test = all_data['ID'][train_num:].values\n",
    "\n",
    "X_train_all.shape, y_train_all.shape, X_test_all.shape, ids_test.shape\n",
    "\n",
    "X_train, X_test, y_train, y_test = train_test_split(\n",
    "    X_train_all, y_train_all, test_size=0.30, random_state=23)"
   ]
  },
  {
   "cell_type": "code",
   "execution_count": null,
   "metadata": {
    "collapsed": false
   },
   "outputs": [],
   "source": [
    "# vectorize the colors using our training data\n",
    "cv = CountVectorizer(analyzer='word')\n",
    "cv.fit(X_train['color_1'])"
   ]
  },
  {
   "cell_type": "code",
   "execution_count": null,
   "metadata": {
    "collapsed": false
   },
   "outputs": [],
   "source": [
    "X_train = X_train.join(pd.DataFrame(\n",
    "        cv.transform(X_train['color_1']).todense(),\n",
    "        index=X_train.index.values,\n",
    "        columns=[x+'_1' for x in cv.get_feature_names()]))"
   ]
  },
  {
   "cell_type": "code",
   "execution_count": null,
   "metadata": {
    "collapsed": false
   },
   "outputs": [],
   "source": [
    "X_test = X_test.join(pd.DataFrame(\n",
    "        cv.transform(X_test['color_1']).todense(),\n",
    "        index=X_test.index.values,\n",
    "        columns=[x+'_1' for x in cv.get_feature_names()]))"
   ]
  },
  {
   "cell_type": "code",
   "execution_count": null,
   "metadata": {
    "collapsed": false
   },
   "outputs": [],
   "source": [
    "# We want to drop the original non-binary columns now.\n",
    "cols_to_drop = ['color_1',\n",
    "                'color_2',\n",
    "                'Breed',\n",
    "                'Season',\n",
    "                'ID']\n",
    "\n",
    "X_train = X_train.drop(cols_to_drop, axis=1)\n",
    "X_test = X_test.drop(cols_to_drop, axis=1)\n",
    "\n",
    "X_train = X_train.fillna(value=-999)\n",
    "X_test = X_test.fillna(value=-999)"
   ]
  },
  {
   "cell_type": "code",
   "execution_count": null,
   "metadata": {
    "collapsed": false
   },
   "outputs": [],
   "source": [
    "# Quick Test\n",
    "lr = LogisticRegression(random_state=23, max_iter=100)\n",
    "y_pred = lr.fit(X_train, y_train).predict(X_test)\n",
    "print np.mean(y_pred == y_test)"
   ]
  },
  {
   "cell_type": "code",
   "execution_count": null,
   "metadata": {
    "collapsed": false
   },
   "outputs": [],
   "source": [
    "train_data = X_train\n",
    "# This is to make use of the fit_model function above without too much modification.\n",
    "train_labels = pd.DataFrame(y_train, dtype='category')['OutcomeType']\n",
    "ypp = fit_model(lr)"
   ]
  },
  {
   "cell_type": "markdown",
   "metadata": {},
   "source": [
    "### Feature Set V2"
   ]
  },
  {
   "cell_type": "code",
   "execution_count": null,
   "metadata": {
    "collapsed": false
   },
   "outputs": [],
   "source": [
    "all_data = pd.concat((train, test), axis=0, ignore_index=True)"
   ]
  },
  {
   "cell_type": "code",
   "execution_count": null,
   "metadata": {
    "collapsed": false
   },
   "outputs": [],
   "source": [
    "all_data['OutcomeType']= all_data['OutcomeType'].str.lower()\n",
    "all_data['OutcomeType']= all_data['OutcomeType'].str.strip()\n",
    "all_data['OutcomeType']= all_data['OutcomeType'].astype('category')\n",
    "#11456 null values in the outcome type; all correspond to test data\n",
    "print \"Null values in OutcomeType:\", sum(pd.isnull(all_data['OutcomeType'])) "
   ]
  },
  {
   "cell_type": "markdown",
   "metadata": {},
   "source": [
    "**Name, AnimalType,SexUponoutcome*** are recoded to categories and dummy variables created where necessary"
   ]
  },
  {
   "cell_type": "code",
   "execution_count": null,
   "metadata": {
    "collapsed": false
   },
   "outputs": [],
   "source": [
    "#does it have a name?\n",
    "all_data['Name'] = all_data['Name'].str.strip()\n",
    "all_data['Hasname'] = all_data['Name'].map(lambda x: 1 if not pd.isnull(x) and x else 0)\n",
    "print all_data['Hasname'].value_counts()"
   ]
  },
  {
   "cell_type": "code",
   "execution_count": null,
   "metadata": {
    "collapsed": false
   },
   "outputs": [],
   "source": [
    "all_data['AnimalType'] = all_data['AnimalType'].str.lower()\n",
    "all_data['AnimalType'] = all_data['AnimalType'].str.strip()\n",
    "all_data['Iscat'] = all_data['AnimalType'].map(lambda x: 1 if x=='cat' else 0)\n",
    "#no missing values\n",
    "print \"Null Values in AnimalType:\", sum(pd.isnull(all_data['Iscat']))  "
   ]
  },
  {
   "cell_type": "markdown",
   "metadata": {},
   "source": [
    "**For age**, create 2 variables: \n",
    "- one a continuous float value for age in years \n",
    "- the other a categorical value for various life stages."
   ]
  },
  {
   "cell_type": "code",
   "execution_count": null,
   "metadata": {
    "collapsed": false
   },
   "outputs": [],
   "source": [
    "all_data['SexuponOutcome'] = all_data['SexuponOutcome'].str.lower()\n",
    "all_data['SexuponOutcome'] = all_data['SexuponOutcome'].str.strip()\n",
    "all_data['SexuponOutcome'] = all_data['SexuponOutcome'].astype('category')\n",
    "print all_data['SexuponOutcome'].value_counts()\n",
    "#missing value, convert to Unknown category\n",
    "all_data['SexuponOutcome'][pd.isnull(all_data['SexuponOutcome'])] = \"unknown\"\n",
    "print \"Null values in SexuponOutcome:\", sum(pd.isnull(all_data['SexuponOutcome']))\n",
    "\n",
    "all_data = pd.concat((all_data,pd.get_dummies(all_data['SexuponOutcome'])), axis=1)"
   ]
  },
  {
   "cell_type": "code",
   "execution_count": null,
   "metadata": {
    "collapsed": false
   },
   "outputs": [],
   "source": [
    "all_data['AgeuponOutcome'] = all_data['AgeuponOutcome'].str.lower()\n",
    "all_data['AgeuponOutcome'] = all_data['AgeuponOutcome'].str.strip()\n",
    "all_data['Ageyears'] = map(age_years_2, all_data['AgeuponOutcome'])\n",
    "all_data['Ageyears'].describe()\n",
    "\n",
    "#24 values are unknkown\n",
    "print \"Null values in AgeuponOutcome:\", sum(pd.isnull(all_data['AgeuponOutcome'])) \n",
    "#all nulls were coded to 0\n",
    "print \"Null values in Ageyears:\", sum(pd.isnull(all_data['Ageyears'])) "
   ]
  },
  {
   "cell_type": "code",
   "execution_count": null,
   "metadata": {
    "collapsed": false
   },
   "outputs": [],
   "source": [
    "\n",
    "#create cat and dog age categories \n",
    "#source - http://www.akc.org/learn/family-dog/how-to-calculate-dog-years-to-human-years/\n",
    "#http://icatcare.org/advice/how-guides/how-tell-your-cat%E2%80%99s-age-human-years\n",
    "age_labels_dogs=['baby', 'adolescent', 'adult', 'senior']\n",
    "age_ranges_dogs=[0.0, 1.0, 2.0, 7.0, 30.0]\n",
    "age_ranges_cats=[0.0, 0.5, 2.0, 6.0, 10.0,15.0, 30.0]\n",
    "age_labels_cats=['baby', 'adolescent', 'adult','mature', 'senior', 'geriatric']\n",
    "\n",
    "\n",
    "#compute the dog age and cat age categories separately, then merge them\n",
    "all_data['dog_ages'] = pd.cut(all_data['Ageyears'][all_data['AnimalType']=='dog'], age_ranges_dogs,  labels=age_labels_dogs)\n",
    "all_data['cat_ages'] = pd.cut(all_data['Ageyears'][all_data['AnimalType']=='cat'], age_ranges_cats,  labels=age_labels_cats)\n",
    "#merge\n",
    "all_data['Agecategory'] = [all_data['dog_ages'][x] \n",
    "                               if not pd.isnull(all_data['dog_ages'][x]) \n",
    "                               else all_data['cat_ages'][x] \n",
    "                                   for x in range(all_data['dog_ages'].size)]\n",
    "\n",
    "all_data['Agecategory'] = all_data['Agecategory'].astype('category')\n",
    "print all_data['Agecategory'].value_counts()\n",
    "\n",
    "#drop the temp columns\n",
    "all_data.drop(['dog_ages', 'cat_ages'], axis=1, inplace=True)\n",
    "\n",
    "#the AgeuponOutcome had 24 missing values, whereas the Agecategory has 59. The extra nulls are due to age=0\n",
    "print \"Null values in Agecategory:\", sum(pd.isnull(all_data['Agecategory']))\n",
    "#all_data['AgeuponOutcome'][pd.isnull(all_data['Agecategory'])]\n",
    "\n",
    "all_data = pd.concat((all_data, pd.get_dummies(all_data['Agecategory'])), axis=1)\n"
   ]
  },
  {
   "cell_type": "markdown",
   "metadata": {},
   "source": [
    "**Datetime field** is split up into several numerical variables, and one categorical variable AM/PM.\n",
    "- Hour of day [00,23]\n",
    "- Day of the week (0=Sunday,1=Monday, ..)\n",
    "- Day of the month [00,32]\n",
    "- Month [00-12]\n",
    "- Week of the year [00,53]\n",
    "- Two digit year"
   ]
  },
  {
   "cell_type": "code",
   "execution_count": null,
   "metadata": {
    "collapsed": true
   },
   "outputs": [],
   "source": [
    "all_data['Hour'] = all_data.DateTime.apply(lambda d: d.strftime('%H')).astype('int') # [00,23]\n",
    "all_data['Ampm'] = all_data.DateTime.apply(lambda d: d.strftime('%p')) # Am/pm\n",
    "all_data['Dayofweek'] = all_data.DateTime.apply(lambda d: d.strftime('%w')).astype('int') # [0(sunday),6]\n",
    "all_data['Dayofmonth'] = all_data.DateTime.apply(lambda d: d.strftime('%d')).astype('int') # 01,02,..31\n",
    "all_data['Month'] = all_data.DateTime.apply(lambda d: d.strftime('%m')).astype('int')   # Month as a number\n",
    "all_data['Weekofyear'] = all_data.DateTime.apply(lambda d: d.strftime('%U')).astype('int')  # [00,53]\n",
    "all_data['Year'] = all_data.DateTime.apply(lambda d: d.strftime('%y')).astype('int') # two digit year\n",
    "\n",
    "all_data.Hour.value_counts()\n",
    "all_data.Ampm.value_counts()\n",
    "all_data.Dayofweek.value_counts()\n",
    "all_data.Dayofmonth.value_counts()\n",
    "all_data.Month.value_counts()\n",
    "all_data.Weekofyear.value_counts()\n",
    "all_data.Year.value_counts()\n",
    "\n",
    "dummies = pd.get_dummies(all_data['Ampm'])\n",
    "all_data = pd.concat((all_data, dummies), axis=1)"
   ]
  },
  {
   "cell_type": "markdown",
   "metadata": {},
   "source": [
    "**Breed and Color** are coded in 2 separate ways:\n",
    "1. Create a categorical meta variable for breed (purebreed, mixed, etc) and color (single, double, etc)\n",
    "2. Use CountVectorizer to encode Breed and Color. \n",
    "\n",
    "Whereas Breed has around 138 unique categories and color has 366, once they are vectorized we get around 200 breed-related featues and 32 color-related features."
   ]
  },
  {
   "cell_type": "code",
   "execution_count": null,
   "metadata": {
    "collapsed": false
   },
   "outputs": [],
   "source": [
    "all_data['Breed'] = all_data['Breed'].str.lower()\n",
    "all_data['Breed'] = all_data['Breed'].str.strip()\n",
    "\n",
    "#breed type\n",
    "all_data['Breedtype'] = all_data['Breed'].map(get_breed_1)\n",
    "all_data['Breedtype'].value_counts()\n",
    "\n",
    "all_data = pd.concat((all_data, pd.get_dummies(all_data['Breedtype'])), axis=1)\n",
    "\n",
    "all_data['Color'] = all_data['Color'].str.lower()\n",
    "all_data['Color'] = all_data['Color'].str.strip()\n",
    "\n",
    "all_data['Colortype'] = all_data['Color'].map(get_color)\n",
    "all_data['Colortype'].value_counts()\n",
    "\n",
    "#no missing values\n",
    "print \"Null values in Color:\", sum(pd.isnull(all_data['Color']))\n",
    "print \"Null values in ColorType:\", sum(pd.isnull(all_data['Colortype']))\n",
    "\n",
    "all_data = pd.concat((all_data, pd.get_dummies(all_data['Colortype'], prefix='col')), axis=1)\n"
   ]
  },
  {
   "cell_type": "code",
   "execution_count": null,
   "metadata": {
    "collapsed": true
   },
   "outputs": [],
   "source": [
    "vec = CountVectorizer(min_df=10)\n",
    "breeds = vec.fit_transform(all_data['Breed'])\n",
    "breeds = breeds.toarray()\n",
    "breeds.shape\n",
    "#create new features from breed names\n",
    "for ii in range(breeds.shape[1]):\n",
    "    colname = 'breed_%d' %ii\n",
    "    all_data[colname] = pd.Series(breeds[:,ii])\n",
    "\n",
    "#--------------------------------------------------------------------------------------------------\n",
    "\n",
    "\n",
    "vec = CountVectorizer(min_df=10)\n",
    "colors = vec.fit_transform(all_data['Color'])\n",
    "colors = colors.toarray()\n",
    "colors.shape\n",
    "#create new features from breed names\n",
    "for ii in range(colors.shape[1]):\n",
    "    colname = 'color_%d' %ii\n",
    "    all_data[colname] = pd.Series(colors[:,ii])"
   ]
  },
  {
   "cell_type": "markdown",
   "metadata": {},
   "source": [
    "######  That's it for feature engineering. Now split the train and test data back."
   ]
  },
  {
   "cell_type": "code",
   "execution_count": null,
   "metadata": {
    "collapsed": false
   },
   "outputs": [],
   "source": [
    "train_data = all_data.iloc[:train_num]\n",
    "test_data = all_data.iloc[train_num:]\n",
    "test_ids = all_data['ID'][train_num:].values\n",
    "train_labels = train_data.OutcomeType\n",
    "\n",
    "print \"train data:\", train_data.shape, \"Test data:\", test_data.shape\n"
   ]
  },
  {
   "cell_type": "code",
   "execution_count": null,
   "metadata": {
    "collapsed": false
   },
   "outputs": [],
   "source": [
    "#drop the columns we don't need\n",
    "cols_recoded = [\n",
    " 'AgeuponOutcome',\n",
    " 'AnimalType',\n",
    " 'Breed',\n",
    " 'Color',\n",
    " 'DateTime',\n",
    " 'Name',\n",
    " 'SexuponOutcome',\n",
    " 'Agecategory',\n",
    " 'Breedtype',\n",
    " 'Colortype',\n",
    " 'unknown',\n",
    " 'Ampm']\n",
    "\n",
    "\n",
    "train_data = train_data.drop(cols_recoded, axis=1)\n",
    "test_data = test_data.drop(cols_recoded, axis=1)\n",
    "\n",
    "other_cols = [\n",
    "    'ID',\n",
    "    'OutcomeSubtype',\n",
    "    'OutcomeType']\n",
    "\n",
    "train_data = train_data.drop(other_cols, axis=1)\n",
    "test_data = test_data.drop(other_cols, axis=1)"
   ]
  },
  {
   "cell_type": "code",
   "execution_count": null,
   "metadata": {
    "collapsed": false
   },
   "outputs": [],
   "source": [
    "#plain and simple\n",
    "clf = LogisticRegression()\n",
    "fit_model(clf)"
   ]
  },
  {
   "cell_type": "code",
   "execution_count": null,
   "metadata": {
    "collapsed": false
   },
   "outputs": [],
   "source": [
    "#with L1 regularization\n",
    "clf = LogisticRegression(penalty=\"l1\")\n",
    "fit_model(clf)"
   ]
  },
  {
   "cell_type": "code",
   "execution_count": null,
   "metadata": {
    "collapsed": false
   },
   "outputs": [],
   "source": [
    "clf = RandomForestClassifier(n_estimators=1000, n_jobs=-1)\n",
    "fit_model(clf)"
   ]
  },
  {
   "cell_type": "code",
   "execution_count": null,
   "metadata": {
    "collapsed": false
   },
   "outputs": [],
   "source": [
    "draw_rf_importances(clf)"
   ]
  }
 ],
 "metadata": {
  "kernelspec": {
   "display_name": "Python 2",
   "language": "python",
   "name": "python2"
  },
  "language_info": {
   "codemirror_mode": {
    "name": "ipython",
    "version": 2
   },
   "file_extension": ".py",
   "mimetype": "text/x-python",
   "name": "python",
   "nbconvert_exporter": "python",
   "pygments_lexer": "ipython2",
   "version": "2.7.6"
  }
 },
 "nbformat": 4,
 "nbformat_minor": 0
}
