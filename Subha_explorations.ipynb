{
 "cells": [
  {
   "cell_type": "markdown",
   "metadata": {},
   "source": [
    "# Shelter Animals Outcomes (Kaggle)"
   ]
  },
  {
   "cell_type": "code",
   "execution_count": 53,
   "metadata": {
    "collapsed": true
   },
   "outputs": [],
   "source": [
    "%matplotlib inline\n",
    "\n",
    "import pandas as pd\n",
    "import numpy as np\n",
    "import matplotlib.pyplot as plt\n",
    "\n",
    "import pandas as pd\n",
    "import numpy as np\n",
    "from datetime import date, datetime\n",
    "# SK-learn libraries for feature extraction from text.\n",
    "from sklearn.feature_extraction.text import *\n",
    "\n",
    "from sklearn.cross_validation import KFold\n",
    "from sklearn.grid_search import GridSearchCV\n",
    "\n",
    "from sklearn.pipeline import Pipeline\n",
    "from sklearn.neighbors import KNeighborsClassifier\n",
    "from sklearn.linear_model import LogisticRegression\n",
    "from sklearn.naive_bayes import BernoulliNB\n",
    "from sklearn.naive_bayes import MultinomialNB\n",
    "from sklearn.grid_search import GridSearchCV\n",
    "\n",
    "from sklearn import tree\n",
    "from sklearn.tree import DecisionTreeClassifier\n",
    "from sklearn.ensemble import RandomForestClassifier \n",
    "from sklearn.ensemble import AdaBoostClassifier\n",
    "\n",
    "# SK-learn libraries for evaluation.\n",
    "from sklearn.metrics import confusion_matrix\n",
    "from sklearn import metrics\n",
    "from sklearn.metrics import classification_report\n",
    "from sklearn import cross_validation\n",
    "\n",
    "from matplotlib.colors import ListedColormap\n",
    "from sklearn.decomposition import PCA\n",
    "from sklearn.cluster import KMeans\n",
    "from sklearn.mixture import GMM\n",
    "from matplotlib.colors import LogNorm\n",
    "from scipy.spatial.distance import cdist\n",
    "\n"
   ]
  },
  {
   "cell_type": "markdown",
   "metadata": {},
   "source": [
    "**Utility functions**"
   ]
  },
  {
   "cell_type": "code",
   "execution_count": 3,
   "metadata": {
    "collapsed": true
   },
   "outputs": [],
   "source": [
    "def age_years(x):\n",
    "    if(pd.isnull(x)):\n",
    "        return 0\n",
    "    \n",
    "    age = int(x.split(' ')[0])\n",
    "        \n",
    "    if 'month' in x:\n",
    "        age /= 12.0\n",
    "\n",
    "    elif 'week' in x:\n",
    "        age /= 52.0\n",
    "\n",
    "    elif 'day' in x:\n",
    "        age /= 365.0\n",
    "\n",
    "    elif 'year' in x:\n",
    "        age = age\n",
    "    else:\n",
    "        age = 0\n",
    "\n",
    "    return age\n",
    "\n",
    "def get_breed(line):\n",
    "    #special case this miscoded value : should be Black and Tan hound Mix (Black and Tan hound is a breed)\n",
    "    if line == 'Black/Tan Hound Mix':\n",
    "        return 'purebreed_mix'\n",
    "        \n",
    "    if '/' in line:\n",
    "        breed2 = line.split('/')[1]\n",
    "        if 'unknown' in breed2:\n",
    "            return 'purebreed_unknown'\n",
    "        else:\n",
    "            return 'purebreed_purebreed'\n",
    "    elif 'unknown' in line:\n",
    "        return \"unknown\"\n",
    "    elif 'mix' in line:\n",
    "      return \"purebreed_mix\"\n",
    "    else:\n",
    "        return \"purebreed\"\n",
    "\n",
    "\n",
    "def get_color(x):\n",
    "    if pd.isnull(x):\n",
    "        return x\n",
    "    colors = x.strip().split('/')\n",
    "    if len(colors) == 1:\n",
    "        return \"single_color\"\n",
    "    elif len(colors) == 2:\n",
    "        return \"double_color\"\n",
    "    else:\n",
    "        return \"twoplus_color\" "
   ]
  },
  {
   "cell_type": "code",
   "execution_count": 4,
   "metadata": {
    "collapsed": false
   },
   "outputs": [
    {
     "data": {
      "text/html": [
       "<div>\n",
       "<table border=\"1\" class=\"dataframe\">\n",
       "  <thead>\n",
       "    <tr style=\"text-align: right;\">\n",
       "      <th></th>\n",
       "      <th>AnimalID</th>\n",
       "      <th>Name</th>\n",
       "      <th>DateTime</th>\n",
       "      <th>OutcomeType</th>\n",
       "      <th>OutcomeSubtype</th>\n",
       "      <th>AnimalType</th>\n",
       "      <th>SexuponOutcome</th>\n",
       "      <th>AgeuponOutcome</th>\n",
       "      <th>Breed</th>\n",
       "      <th>Color</th>\n",
       "    </tr>\n",
       "  </thead>\n",
       "  <tbody>\n",
       "    <tr>\n",
       "      <th>count</th>\n",
       "      <td>26729</td>\n",
       "      <td>19038</td>\n",
       "      <td>26729</td>\n",
       "      <td>26729</td>\n",
       "      <td>13117</td>\n",
       "      <td>26729</td>\n",
       "      <td>26728</td>\n",
       "      <td>26711</td>\n",
       "      <td>26729</td>\n",
       "      <td>26729</td>\n",
       "    </tr>\n",
       "    <tr>\n",
       "      <th>unique</th>\n",
       "      <td>26729</td>\n",
       "      <td>6374</td>\n",
       "      <td>22918</td>\n",
       "      <td>5</td>\n",
       "      <td>16</td>\n",
       "      <td>2</td>\n",
       "      <td>5</td>\n",
       "      <td>44</td>\n",
       "      <td>1380</td>\n",
       "      <td>366</td>\n",
       "    </tr>\n",
       "    <tr>\n",
       "      <th>top</th>\n",
       "      <td>A705677</td>\n",
       "      <td>Max</td>\n",
       "      <td>2015-08-11 00:00:00</td>\n",
       "      <td>Adoption</td>\n",
       "      <td>Partner</td>\n",
       "      <td>Dog</td>\n",
       "      <td>Neutered Male</td>\n",
       "      <td>1 year</td>\n",
       "      <td>Domestic Shorthair Mix</td>\n",
       "      <td>Black/White</td>\n",
       "    </tr>\n",
       "    <tr>\n",
       "      <th>freq</th>\n",
       "      <td>1</td>\n",
       "      <td>136</td>\n",
       "      <td>19</td>\n",
       "      <td>10769</td>\n",
       "      <td>7816</td>\n",
       "      <td>15595</td>\n",
       "      <td>9779</td>\n",
       "      <td>3969</td>\n",
       "      <td>8810</td>\n",
       "      <td>2824</td>\n",
       "    </tr>\n",
       "    <tr>\n",
       "      <th>first</th>\n",
       "      <td>NaN</td>\n",
       "      <td>NaN</td>\n",
       "      <td>2013-10-01 09:31:00</td>\n",
       "      <td>NaN</td>\n",
       "      <td>NaN</td>\n",
       "      <td>NaN</td>\n",
       "      <td>NaN</td>\n",
       "      <td>NaN</td>\n",
       "      <td>NaN</td>\n",
       "      <td>NaN</td>\n",
       "    </tr>\n",
       "    <tr>\n",
       "      <th>last</th>\n",
       "      <td>NaN</td>\n",
       "      <td>NaN</td>\n",
       "      <td>2016-02-21 19:17:00</td>\n",
       "      <td>NaN</td>\n",
       "      <td>NaN</td>\n",
       "      <td>NaN</td>\n",
       "      <td>NaN</td>\n",
       "      <td>NaN</td>\n",
       "      <td>NaN</td>\n",
       "      <td>NaN</td>\n",
       "    </tr>\n",
       "  </tbody>\n",
       "</table>\n",
       "</div>"
      ],
      "text/plain": [
       "       AnimalID   Name             DateTime OutcomeType OutcomeSubtype  \\\n",
       "count     26729  19038                26729       26729          13117   \n",
       "unique    26729   6374                22918           5             16   \n",
       "top     A705677    Max  2015-08-11 00:00:00    Adoption        Partner   \n",
       "freq          1    136                   19       10769           7816   \n",
       "first       NaN    NaN  2013-10-01 09:31:00         NaN            NaN   \n",
       "last        NaN    NaN  2016-02-21 19:17:00         NaN            NaN   \n",
       "\n",
       "       AnimalType SexuponOutcome AgeuponOutcome                   Breed  \\\n",
       "count       26729          26728          26711                   26729   \n",
       "unique          2              5             44                    1380   \n",
       "top           Dog  Neutered Male         1 year  Domestic Shorthair Mix   \n",
       "freq        15595           9779           3969                    8810   \n",
       "first         NaN            NaN            NaN                     NaN   \n",
       "last          NaN            NaN            NaN                     NaN   \n",
       "\n",
       "              Color  \n",
       "count         26729  \n",
       "unique          366  \n",
       "top     Black/White  \n",
       "freq           2824  \n",
       "first           NaN  \n",
       "last            NaN  "
      ]
     },
     "execution_count": 4,
     "metadata": {},
     "output_type": "execute_result"
    }
   ],
   "source": [
    "\n",
    "# read in train and test data\n",
    "train = pd.read_csv('C:\\\\Subha\\\\WS207-ML\\\\Kaggle\\\\git\\\\train.csv', parse_dates=['DateTime'])\n",
    "test = pd.read_csv('C:\\\\Subha\\\\WS207-ML\\\\Kaggle\\\\git\\\\test.csv', parse_dates=['DateTime'])\n",
    "\n",
    "\n",
    "train.describe()"
   ]
  },
  {
   "cell_type": "markdown",
   "metadata": {},
   "source": [
    "**Combine train and test data into one for feature engineering; later we will split it again**\n"
   ]
  },
  {
   "cell_type": "code",
   "execution_count": 6,
   "metadata": {
    "collapsed": false
   },
   "outputs": [
    {
     "name": "stdout",
     "output_type": "stream",
     "text": [
      "train data: (26729, 10)\n",
      "test data: (11456, 8)\n",
      "all data: (38185, 10)\n"
     ]
    }
   ],
   "source": [
    "# get number of training elements\n",
    "train_num = train.shape[0]\n",
    "train.rename(columns={'AnimalID': 'ID'}, inplace=True)\n",
    "all_data = pd.concat((train, test), axis=0, ignore_index=True)\n",
    "\n",
    "print \"train data:\", train.shape     #26,729 rows\n",
    "print \"test data:\", test.shape      #11,456\n",
    "print \"all data:\", all_data.shape  #38,185\n"
   ]
  },
  {
   "cell_type": "code",
   "execution_count": 8,
   "metadata": {
    "collapsed": false
   },
   "outputs": [
    {
     "name": "stdout",
     "output_type": "stream",
     "text": [
      "Null values in OutcomeType: 11456\n"
     ]
    }
   ],
   "source": [
    "all_data['OutcomeType']= all_data['OutcomeType'].str.lower()\n",
    "all_data['OutcomeType']= all_data['OutcomeType'].str.strip()\n",
    "all_data['OutcomeType']= all_data['OutcomeType'].astype('category')\n",
    "#11456 null values in the outcome type; all correspond to test data\n",
    "print \"Null values in OutcomeType:\", sum(pd.isnull(all_data['OutcomeType'])) \n"
   ]
  },
  {
   "cell_type": "markdown",
   "metadata": {},
   "source": [
    "**Name, AnimalType,SexUponoutcome*** are recoded to categories and dummy variables created where necessary"
   ]
  },
  {
   "cell_type": "code",
   "execution_count": 9,
   "metadata": {
    "collapsed": false
   },
   "outputs": [
    {
     "name": "stdout",
     "output_type": "stream",
     "text": [
      "1    27269\n",
      "0    10916\n",
      "Name: Hasname, dtype: int64\n"
     ]
    }
   ],
   "source": [
    "#does it have a name?\n",
    "all_data['Name'] = all_data['Name'].str.strip()\n",
    "all_data['Hasname'] = all_data['Name'].map(lambda x: 1 if not pd.isnull(x) and x else 0)\n",
    "print all_data['Hasname'].value_counts()"
   ]
  },
  {
   "cell_type": "code",
   "execution_count": 10,
   "metadata": {
    "collapsed": false
   },
   "outputs": [
    {
     "name": "stdout",
     "output_type": "stream",
     "text": [
      "Null Values in AnimalType: 0\n"
     ]
    }
   ],
   "source": [
    "all_data['AnimalType'] = all_data['AnimalType'].str.lower()\n",
    "all_data['AnimalType'] = all_data['AnimalType'].str.strip()\n",
    "all_data['Iscat'] = all_data['AnimalType'].map(lambda x: 1 if x=='cat' else 0)\n",
    "#no missing values\n",
    "print \"Null Values in AnimalType:\", sum(pd.isnull(all_data['Iscat']))  \n"
   ]
  },
  {
   "cell_type": "code",
   "execution_count": 13,
   "metadata": {
    "collapsed": false
   },
   "outputs": [
    {
     "name": "stdout",
     "output_type": "stream",
     "text": [
      "neutered male    14014\n",
      "spayed female    12633\n",
      "intact female     5004\n",
      "intact male       4985\n",
      "unknown           1549\n",
      "dtype: int64\n",
      "Null values in SexuponOutcome: 0\n"
     ]
    }
   ],
   "source": [
    "all_data['SexuponOutcome'] = all_data['SexuponOutcome'].str.lower()\n",
    "all_data['SexuponOutcome'] = all_data['SexuponOutcome'].str.strip()\n",
    "all_data['SexuponOutcome'] = all_data['SexuponOutcome'].astype('category')\n",
    "print all_data['SexuponOutcome'].value_counts()\n",
    "#missing value, convert to Unknown category\n",
    "all_data['SexuponOutcome'][pd.isnull(all_data['SexuponOutcome'])] = \"unknown\"\n",
    "print \"Null values in SexuponOutcome:\", sum(pd.isnull(all_data['SexuponOutcome']))\n",
    "\n",
    "all_data = pd.concat((all_data,pd.get_dummies(all_data['SexuponOutcome'])), axis=1)\n"
   ]
  },
  {
   "cell_type": "markdown",
   "metadata": {},
   "source": [
    "**For age**, create 2 variables: \n",
    "- one a continuous float value for age in years \n",
    "- the other a categorical value for various life stages."
   ]
  },
  {
   "cell_type": "code",
   "execution_count": 15,
   "metadata": {
    "collapsed": false
   },
   "outputs": [
    {
     "name": "stdout",
     "output_type": "stream",
     "text": [
      "Null values in AgeuponOutcome: 24\n",
      "Null values in Ageyears: 0\n"
     ]
    }
   ],
   "source": [
    "all_data['AgeuponOutcome'] = all_data['AgeuponOutcome'].str.lower()\n",
    "all_data['AgeuponOutcome'] = all_data['AgeuponOutcome'].str.strip()\n",
    "all_data['Ageyears'] = map(age_years, all_data['AgeuponOutcome'])\n",
    "all_data['Ageyears'].describe()\n",
    "\n",
    "#24 values are unknkown\n",
    "print \"Null values in AgeuponOutcome:\", sum(pd.isnull(all_data['AgeuponOutcome'])) \n",
    "#all nulls were coded to 0\n",
    "print \"Null values in Ageyears:\", sum(pd.isnull(all_data['Ageyears'])) "
   ]
  },
  {
   "cell_type": "code",
   "execution_count": 14,
   "metadata": {
    "collapsed": false
   },
   "outputs": [
    {
     "name": "stdout",
     "output_type": "stream",
     "text": [
      "Null values in Age: 0\n",
      "baby          20346\n",
      "adolescent     7742\n",
      "adult          7030\n",
      "senior         2342\n",
      "mature          624\n",
      "geriatric        42\n",
      "dtype: int64\n",
      "Null values in Agecategory: 59\n"
     ]
    }
   ],
   "source": [
    "\n",
    "#create cat and dog age categories \n",
    "#source - http://www.akc.org/learn/family-dog/how-to-calculate-dog-years-to-human-years/\n",
    "#http://icatcare.org/advice/how-guides/how-tell-your-cat%E2%80%99s-age-human-years\n",
    "age_labels_dogs=['baby', 'adolescent', 'adult', 'senior']\n",
    "age_ranges_dogs=[0.0, 1.0, 2.0, 7.0, 30.0]\n",
    "age_ranges_cats=[0.0, 0.5, 2.0, 6.0, 10.0,15.0, 30.0]\n",
    "age_labels_cats=['baby', 'adolescent', 'adult','mature', 'senior', 'geriatric']\n",
    "\n",
    "\n",
    "#compute the dog age and cat age categories separately, then merge them\n",
    "all_data['dog_ages'] = pd.cut(all_data['Ageyears'][all_data['AnimalType']=='dog'], age_ranges_dogs,  labels=age_labels_dogs)\n",
    "all_data['cat_ages'] = pd.cut(all_data['Ageyears'][all_data['AnimalType']=='cat'], age_ranges_cats,  labels=age_labels_cats)\n",
    "#merge\n",
    "all_data['Agecategory'] = [all_data['dog_ages'][x] \n",
    "                               if not pd.isnull(all_data['dog_ages'][x]) \n",
    "                               else all_data['cat_ages'][x] \n",
    "                                   for x in range(all_data['dog_ages'].size)]\n",
    "\n",
    "all_data['Agecategory'] = all_data['Agecategory'].astype('category')\n",
    "print all_data['Agecategory'].value_counts()\n",
    "\n",
    "#drop the temp columns\n",
    "all_data.drop(['dog_ages', 'cat_ages'], axis=1, inplace=True)\n",
    "\n",
    "#the AgeuponOutcome had 24 missing values, whereas the Agecategory has 59. The extra nulls are due to age=0\n",
    "print \"Null values in Agecategory:\", sum(pd.isnull(all_data['Agecategory']))\n",
    "#all_data['AgeuponOutcome'][pd.isnull(all_data['Agecategory'])]\n",
    "\n",
    "all_data = pd.concat((all_data, pd.get_dummies(all_data['Agecategory'])), axis=1)\n",
    "\n"
   ]
  },
  {
   "cell_type": "markdown",
   "metadata": {},
   "source": [
    "**Datetime field** is split up into several numerical variables, and one categorical variable AM/PM.\n",
    "- Hour of day [00,23]\n",
    "- Day of the week (0=Sunday,1=Monday, ..)\n",
    "- Day of the month [00,32]\n",
    "- Month [00-12]\n",
    "- Week of the year [00,53]\n",
    "- Two digit year\n"
   ]
  },
  {
   "cell_type": "code",
   "execution_count": 17,
   "metadata": {
    "collapsed": true
   },
   "outputs": [],
   "source": [
    "all_data['Hour'] = all_data.DateTime.apply(lambda d: d.strftime('%H')).astype('int') # [00,23]\n",
    "all_data['Ampm'] = all_data.DateTime.apply(lambda d: d.strftime('%p')) # Am/pm\n",
    "all_data['Dayofweek'] = all_data.DateTime.apply(lambda d: d.strftime('%w')).astype('int') # [0(sunday),6]\n",
    "all_data['Dayofmonth'] = all_data.DateTime.apply(lambda d: d.strftime('%d')).astype('int') # 01,02,..31\n",
    "all_data['Month'] = all_data.DateTime.apply(lambda d: d.strftime('%m')).astype('int')   # Month as a number\n",
    "all_data['Weekofyear'] = all_data.DateTime.apply(lambda d: d.strftime('%U')).astype('int')  # [00,53]\n",
    "all_data['Year'] = all_data.DateTime.apply(lambda d: d.strftime('%y')).astype('int') # two digit year\n",
    "\n",
    "all_data.Hour.value_counts()\n",
    "all_data.Ampm.value_counts()\n",
    "all_data.Dayofweek.value_counts()\n",
    "all_data.Dayofmonth.value_counts()\n",
    "all_data.Month.value_counts()\n",
    "all_data.Weekofyear.value_counts()\n",
    "all_data.Year.value_counts()\n",
    "\n",
    "dummies = pd.get_dummies(all_data['Ampm'])\n",
    "all_data = pd.concat((all_data, dummies), axis=1)\n"
   ]
  },
  {
   "cell_type": "markdown",
   "metadata": {},
   "source": [
    "**Breed and Color** are coded in 2 separate ways:\n",
    "1. Create a categorical meta variable for breed (purebreed, mixed, etc) and color (single, double, etc)\n",
    "2. Use CountVectorizer to encode Breed and Color. \n",
    "\n",
    "Whereas Breed has around 138 unique categories and color has 366, once they are vectorized we get around 200 breed-related featues and 32 color-related features."
   ]
  },
  {
   "cell_type": "code",
   "execution_count": 16,
   "metadata": {
    "collapsed": false
   },
   "outputs": [
    {
     "name": "stdout",
     "output_type": "stream",
     "text": [
      "Null values in Color: 0\n",
      "Null values in ColorType: 0\n"
     ]
    }
   ],
   "source": [
    "all_data['Breed'] = all_data['Breed'].str.lower()\n",
    "all_data['Breed'] = all_data['Breed'].str.strip()\n",
    "\n",
    "#breed type\n",
    "all_data['Breedtype'] = all_data['Breed'].map(get_breed)\n",
    "all_data['Breedtype'].value_counts()\n",
    "\n",
    "all_data = pd.concat((all_data, pd.get_dummies(all_data['Breedtype'])), axis=1)\n",
    "\n",
    "all_data['Color'] = all_data['Color'].str.lower()\n",
    "all_data['Color'] = all_data['Color'].str.strip()\n",
    "\n",
    "all_data['Colortype'] = all_data['Color'].map(get_color)\n",
    "all_data['Colortype'].value_counts()\n",
    "\n",
    "#no missing values\n",
    "print \"Null values in Color:\", sum(pd.isnull(all_data['Color']))\n",
    "print \"Null values in ColorType:\", sum(pd.isnull(all_data['Colortype']))\n",
    "\n",
    "all_data = pd.concat((all_data, pd.get_dummies(all_data['Colortype'], prefix='col')), axis=1)\n"
   ]
  },
  {
   "cell_type": "code",
   "execution_count": 18,
   "metadata": {
    "collapsed": true
   },
   "outputs": [],
   "source": [
    "vec = CountVectorizer(min_df=10)\n",
    "breeds = vec.fit_transform(all_data['Breed'])\n",
    "breeds = breeds.toarray()\n",
    "breeds.shape\n",
    "#create new features from breed names\n",
    "for ii in range(breeds.shape[1]):\n",
    "    colname = 'breed_%d' %ii\n",
    "    all_data[colname] = pd.Series(breeds[:,ii])\n",
    "\n",
    "#--------------------------------------------------------------------------------------------------\n",
    "\n",
    "\n",
    "vec = CountVectorizer(min_df=10)\n",
    "colors = vec.fit_transform(all_data['Color'])\n",
    "colors = colors.toarray()\n",
    "colors.shape\n",
    "#create new features from breed names\n",
    "for ii in range(colors.shape[1]):\n",
    "    colname = 'color_%d' %ii\n",
    "    all_data[colname] = pd.Series(colors[:,ii])\n",
    "\n"
   ]
  },
  {
   "cell_type": "markdown",
   "metadata": {},
   "source": [
    "######  That's it for feature engineering. Now split the train and test data back."
   ]
  },
  {
   "cell_type": "code",
   "execution_count": 19,
   "metadata": {
    "collapsed": false
   },
   "outputs": [
    {
     "name": "stdout",
     "output_type": "stream",
     "text": [
      "train data: (26729, 268) Test data: (11456, 268)\n"
     ]
    }
   ],
   "source": [
    "train_data = all_data.iloc[:train_num]\n",
    "test_data = all_data.iloc[train_num:]\n",
    "test_ids = all_data['ID'][train_num:].values\n",
    "train_labels = train_data.OutcomeType\n",
    "\n",
    "print \"train data:\", train_data.shape, \"Test data:\", test_data.shape\n"
   ]
  },
  {
   "cell_type": "code",
   "execution_count": 24,
   "metadata": {
    "collapsed": false
   },
   "outputs": [],
   "source": [
    "#drop the columns we don't need\n",
    "cols_recoded = [\n",
    " 'AgeuponOutcome',\n",
    " 'AnimalType',\n",
    " 'Breed',\n",
    " 'Color',\n",
    " 'DateTime',\n",
    " 'Name',\n",
    " 'SexuponOutcome',\n",
    " 'Agecategory',\n",
    " 'Breedtype',\n",
    " 'Colortype',\n",
    " 'unknown',\n",
    " 'Ampm']\n",
    "\n",
    "\n",
    "train_data = train_data.drop(cols_recoded, axis=1)\n",
    "test_data = test_data.drop(cols_recoded, axis=1)\n",
    "\n",
    "other_cols = [\n",
    "  'ID',\n",
    " 'OutcomeSubtype',\n",
    " 'OutcomeType']\n",
    "train_data = train_data.drop(other_cols, axis=1)\n",
    "test_data = test_data.drop(other_cols, axis=1)\n"
   ]
  },
  {
   "cell_type": "code",
   "execution_count": 26,
   "metadata": {
    "collapsed": false
   },
   "outputs": [
    {
     "name": "stdout",
     "output_type": "stream",
     "text": [
      "['Hasname', 'Iscat', 'intact female', 'intact male', 'neutered male', 'spayed female', 'intact female', 'intact male', 'neutered male', 'spayed female', 'intact female', 'intact male', 'neutered male', 'spayed female', 'Ageyears', 'adolescent', 'adult', 'baby', 'geriatric', 'mature', 'senior', 'purebreed', 'purebreed_mix', 'purebreed_purebreed', 'purebreed_unknown', 'col_double_color', 'col_single_color', 'Hour', 'Dayofweek', 'Dayofmonth', 'Month', 'Weekofyear', 'Year', 'AM', 'PM', 'breed_0', 'breed_1', 'breed_2', 'breed_3', 'breed_4', 'breed_5', 'breed_6', 'breed_7', 'breed_8', 'breed_9', 'breed_10', 'breed_11', 'breed_12', 'breed_13', 'breed_14', 'breed_15', 'breed_16', 'breed_17', 'breed_18', 'breed_19', 'breed_20', 'breed_21', 'breed_22', 'breed_23', 'breed_24', 'breed_25', 'breed_26', 'breed_27', 'breed_28', 'breed_29', 'breed_30', 'breed_31', 'breed_32', 'breed_33', 'breed_34', 'breed_35', 'breed_36', 'breed_37', 'breed_38', 'breed_39', 'breed_40', 'breed_41', 'breed_42', 'breed_43', 'breed_44', 'breed_45', 'breed_46', 'breed_47', 'breed_48', 'breed_49', 'breed_50', 'breed_51', 'breed_52', 'breed_53', 'breed_54', 'breed_55', 'breed_56', 'breed_57', 'breed_58', 'breed_59', 'breed_60', 'breed_61', 'breed_62', 'breed_63', 'breed_64', 'breed_65', 'breed_66', 'breed_67', 'breed_68', 'breed_69', 'breed_70', 'breed_71', 'breed_72', 'breed_73', 'breed_74', 'breed_75', 'breed_76', 'breed_77', 'breed_78', 'breed_79', 'breed_80', 'breed_81', 'breed_82', 'breed_83', 'breed_84', 'breed_85', 'breed_86', 'breed_87', 'breed_88', 'breed_89', 'breed_90', 'breed_91', 'breed_92', 'breed_93', 'breed_94', 'breed_95', 'breed_96', 'breed_97', 'breed_98', 'breed_99', 'breed_100', 'breed_101', 'breed_102', 'breed_103', 'breed_104', 'breed_105', 'breed_106', 'breed_107', 'breed_108', 'breed_109', 'breed_110', 'breed_111', 'breed_112', 'breed_113', 'breed_114', 'breed_115', 'breed_116', 'breed_117', 'breed_118', 'breed_119', 'breed_120', 'breed_121', 'breed_122', 'breed_123', 'breed_124', 'breed_125', 'breed_126', 'breed_127', 'breed_128', 'breed_129', 'breed_130', 'breed_131', 'breed_132', 'breed_133', 'breed_134', 'breed_135', 'breed_136', 'breed_137', 'breed_138', 'breed_139', 'breed_140', 'breed_141', 'breed_142', 'breed_143', 'breed_144', 'breed_145', 'breed_146', 'breed_147', 'breed_148', 'breed_149', 'breed_150', 'breed_151', 'breed_152', 'breed_153', 'breed_154', 'breed_155', 'breed_156', 'breed_157', 'breed_158', 'breed_159', 'breed_160', 'breed_161', 'breed_162', 'breed_163', 'breed_164', 'breed_165', 'breed_166', 'breed_167', 'breed_168', 'breed_169', 'breed_170', 'breed_171', 'breed_172', 'breed_173', 'breed_174', 'breed_175', 'breed_176', 'breed_177', 'breed_178', 'breed_179', 'breed_180', 'breed_181', 'color_0', 'color_1', 'color_2', 'color_3', 'color_4', 'color_5', 'color_6', 'color_7', 'color_8', 'color_9', 'color_10', 'color_11', 'color_12', 'color_13', 'color_14', 'color_15', 'color_16', 'color_17', 'color_18', 'color_19', 'color_20', 'color_21', 'color_22', 'color_23', 'color_24', 'color_25', 'color_26', 'color_27', 'color_28', 'color_29', 'color_30', 'color_31', 'color_32']\n",
      "Number of features: 250\n"
     ]
    }
   ],
   "source": [
    "#the final feature set\n",
    "print [item for item in train_data.columns]\n",
    "print \"Number of features:\", train_data.shape[1]"
   ]
  },
  {
   "cell_type": "markdown",
   "metadata": {},
   "source": [
    "### Now we are ready to fit models!"
   ]
  },
  {
   "cell_type": "code",
   "execution_count": 40,
   "metadata": {
    "collapsed": true
   },
   "outputs": [],
   "source": [
    "\n",
    "def draw_cm(y_true, y_pred,label_names):\n",
    "    \n",
    "    def plot_confusion_matrix(cm, title='Confusion matrix', cmap=plt.cm.Blues):\n",
    "        plt.imshow(cm, interpolation='nearest', cmap=cmap)\n",
    "        plt.title(title)\n",
    "        plt.colorbar()\n",
    "        tick_marks = np.arange(len(label_names))\n",
    "        plt.xticks(tick_marks, label_names, rotation=45)\n",
    "        plt.yticks(tick_marks, label_names)\n",
    "        plt.tight_layout()\n",
    "        plt.ylabel('True label')\n",
    "        plt.xlabel('Predicted label')\n",
    "\n",
    "    cm = confusion_matrix(y_true, y_pred)\n",
    "    np.set_printoptions(precision=2)\n",
    "    print('Confusion matrix, without normalization')\n",
    "    print(cm)\n",
    "    plt.figure()\n",
    "    plot_confusion_matrix(cm)"
   ]
  },
  {
   "cell_type": "code",
   "execution_count": 41,
   "metadata": {
    "collapsed": true
   },
   "outputs": [],
   "source": [
    "# use K-fold cross validation with k=6\n",
    "\n",
    "def fit_model(clf):\n",
    "    labels =  train_labels.cat.categories\n",
    "\n",
    "    kf = KFold(train_data.shape[0], n_folds=6)\n",
    "    # prediction probabilities number of samples, by number of classes\n",
    "    y_pred_proba = np.zeros((len(train_labels),len(set(train_labels))))\n",
    "\n",
    "    for train_index, test_index in kf:\n",
    "        X_train, X_test = train_data.iloc[train_index], train_data.iloc[test_index]\n",
    "        y_train, y_test = train_labels.iloc[train_index], train_labels.iloc[test_index]\n",
    "        print X_train.shape, X_test.shape\n",
    "        clf.fit(X_train, y_train)\n",
    "        y_pred_proba[test_index] = clf.predict_proba(X_test)\n",
    "\n",
    "    print \"Log Loss:\", metrics.log_loss(train_labels, y_pred_proba)    \n",
    "    y_pred = [labels[row.argmax()] for row in y_pred_proba]\n",
    "    print metrics.classification_report(train_labels, y_pred)\n",
    "    draw_cm(train_labels, y_pred,labels)"
   ]
  },
  {
   "cell_type": "markdown",
   "metadata": {},
   "source": [
    "** Logistic Regression **"
   ]
  },
  {
   "cell_type": "code",
   "execution_count": 42,
   "metadata": {
    "collapsed": false
   },
   "outputs": [
    {
     "name": "stdout",
     "output_type": "stream",
     "text": [
      "(22274, 250) (4455, 250)\n",
      "(22274, 250) (4455, 250)\n",
      "(22274, 250) (4455, 250)\n",
      "(22274, 250) (4455, 250)\n",
      "(22274, 250) (4455, 250)\n",
      "(22275, 250) (4454, 250)\n",
      "Log Loss: 0.863701820372\n",
      "             precision    recall  f1-score   support\n",
      "\n",
      "   adoption       0.66      0.83      0.74     10769\n",
      "       died       0.00      0.00      0.00       197\n",
      " euthanasia       0.59      0.06      0.11      1555\n",
      "return_to_owner       0.48      0.44      0.46      4786\n",
      "   transfer       0.73      0.67      0.70      9422\n",
      "\n",
      "avg / total       0.64      0.65      0.63     26729\n",
      "\n",
      "Confusion matrix, without normalization\n",
      "[[8933    0    4 1193  639]\n",
      " [  19    0    4   11  163]\n",
      " [ 205    0   91  347  912]\n",
      " [2017    0   23 2096  650]\n",
      " [2331    0   31  706 6354]]\n"
     ]
    },
    {
     "data": {
      "image/png": "[encoded data removed]",
      "text/plain": [
       "<matplotlib.figure.Figure at 0x9cc9198>"
      ]
     },
     "metadata": {},
     "output_type": "display_data"
    }
   ],
   "source": [
    "#plain and simple\n",
    "clf = LogisticRegression()\n",
    "fit_model(clf)"
   ]
  },
  {
   "cell_type": "code",
   "execution_count": 30,
   "metadata": {
    "collapsed": false
   },
   "outputs": [
    {
     "name": "stdout",
     "output_type": "stream",
     "text": [
      "(22274, 250) (4455, 250)\n",
      "(22274, 250) (4455, 250)\n",
      "(22274, 250) (4455, 250)\n",
      "(22274, 250) (4455, 250)\n",
      "(22274, 250) (4455, 250)\n",
      "(22275, 250) (4454, 250)\n",
      "Log Loss: 0.862414973565\n",
      "             precision    recall  f1-score   support\n",
      "\n",
      "   adoption       0.66      0.83      0.74     10769\n",
      "       died       0.00      0.00      0.00       197\n",
      " euthanasia       0.62      0.06      0.10      1555\n",
      "return_to_owner       0.48      0.44      0.46      4786\n",
      "   transfer       0.73      0.68      0.70      9422\n",
      "\n",
      "avg / total       0.65      0.65      0.63     26729\n",
      "\n"
     ]
    }
   ],
   "source": [
    "#with L1 regularization\n",
    "clf = LogisticRegression(penalty=\"l1\")\n",
    "fit_model(clf)"
   ]
  },
  {
   "cell_type": "markdown",
   "metadata": {},
   "source": [
    "** Random Forest**"
   ]
  },
  {
   "cell_type": "code",
   "execution_count": 31,
   "metadata": {
    "collapsed": false
   },
   "outputs": [
    {
     "name": "stdout",
     "output_type": "stream",
     "text": [
      "(22274, 250) (4455, 250)\n",
      "(22274, 250) (4455, 250)\n",
      "(22274, 250) (4455, 250)\n",
      "(22274, 250) (4455, 250)\n",
      "(22274, 250) (4455, 250)\n",
      "(22275, 250) (4454, 250)\n",
      "Log Loss: 0.818807799522\n",
      "             precision    recall  f1-score   support\n",
      "\n",
      "   adoption       0.69      0.84      0.76     10769\n",
      "       died       0.75      0.03      0.06       197\n",
      " euthanasia       0.58      0.13      0.21      1555\n",
      "return_to_owner       0.50      0.44      0.47      4786\n",
      "   transfer       0.75      0.72      0.73      9422\n",
      "\n",
      "avg / total       0.67      0.68      0.66     26729\n",
      "\n"
     ]
    }
   ],
   "source": [
    "clf = RandomForestClassifier(n_estimators=1000, n_jobs=-1)\n",
    "fit_model(clf)"
   ]
  },
  {
   "cell_type": "markdown",
   "metadata": {},
   "source": [
    "** AdaBoost classifier **"
   ]
  },
  {
   "cell_type": "code",
   "execution_count": 43,
   "metadata": {
    "collapsed": false
   },
   "outputs": [
    {
     "name": "stdout",
     "output_type": "stream",
     "text": [
      "(22274, 250) (4455, 250)\n",
      "(22274, 250) (4455, 250)\n",
      "(22274, 250) (4455, 250)\n",
      "(22274, 250) (4455, 250)\n",
      "(22274, 250) (4455, 250)\n",
      "(22275, 250) (4454, 250)\n",
      "Log Loss: 1.5533640347\n",
      "             precision    recall  f1-score   support\n",
      "\n",
      "   adoption       0.68      0.49      0.57     10769\n",
      "       died       0.03      0.36      0.06       197\n",
      " euthanasia       0.21      0.37      0.27      1555\n",
      "return_to_owner       0.30      0.71      0.43      4786\n",
      "   transfer       0.65      0.20      0.31      9422\n",
      "\n",
      "avg / total       0.57      0.42      0.43     26729\n",
      "\n",
      "Confusion matrix, without normalization\n",
      "[[5303   32  220 4755  459]\n",
      " [  14   70   45   17   51]\n",
      " [ 104  134  577  474  266]\n",
      " [ 915    4  223 3407  237]\n",
      " [1426 1780 1714 2581 1921]]\n"
     ]
    },
    {
     "data": {
      "image/png": "[encoded data removed]",
      "text/plain": [
       "<matplotlib.figure.Figure at 0x4a890eb8>"
      ]
     },
     "metadata": {},
     "output_type": "display_data"
    }
   ],
   "source": [
    "#takes several minutes to train!\n",
    "clf = AdaBoostClassifier(base_estimator=DecisionTreeClassifier(max_depth=2), n_estimators=1000)\n",
    "fit_model(clf)"
   ]
  },
  {
   "cell_type": "markdown",
   "metadata": {},
   "source": [
    "clf = AdaBoostClassifier(base_estimator=DecisionTreeClassifier(max_depth=1), n_estimators=500)\n",
    "fit_model(clf)"
   ]
  },
  {
   "cell_type": "markdown",
   "metadata": {},
   "source": [
    "**Multinomial Naive Bayes**"
   ]
  },
  {
   "cell_type": "code",
   "execution_count": 45,
   "metadata": {
    "collapsed": false
   },
   "outputs": [
    {
     "name": "stdout",
     "output_type": "stream",
     "text": [
      "(22274, 250) (4455, 250)\n",
      "(22274, 250) (4455, 250)\n",
      "(22274, 250) (4455, 250)\n",
      "(22274, 250) (4455, 250)\n",
      "(22274, 250) (4455, 250)\n",
      "(22275, 250) (4454, 250)\n",
      "Log Loss: 1.65466256912\n",
      "             precision    recall  f1-score   support\n",
      "\n",
      "   adoption       0.66      0.73      0.70     10769\n",
      "       died       0.03      0.01      0.01       197\n",
      " euthanasia       0.27      0.23      0.25      1555\n",
      "return_to_owner       0.42      0.51      0.46      4786\n",
      "   transfer       0.75      0.60      0.66      9422\n",
      "\n",
      "avg / total       0.62      0.61      0.61     26729\n",
      "\n",
      "Confusion matrix, without normalization\n",
      "[[7892    7  219 1968  683]\n",
      " [  13    1   14   14  155]\n",
      " [ 159    3  361  369  663]\n",
      " [1563    8  335 2460  420]\n",
      " [2267   21  384 1106 5644]]\n"
     ]
    },
    {
     "data": {
      "image/png": "[encoded data removed]",
      "text/plain": [
       "<matplotlib.figure.Figure at 0x40f3f2b0>"
      ]
     },
     "metadata": {},
     "output_type": "display_data"
    }
   ],
   "source": [
    "clf = MultinomialNB()\n",
    "fit_model(clf)\n",
    "\n",
    "#has decent accuracy but bad log loss"
   ]
  },
  {
   "cell_type": "markdown",
   "metadata": {},
   "source": [
    "**K Neighbors**"
   ]
  },
  {
   "cell_type": "code",
   "execution_count": 50,
   "metadata": {
    "collapsed": false
   },
   "outputs": [],
   "source": [
    "#GridSearchC is not working here, need to debug\n",
    "\n",
    "#neighbors = {'n_neighbors': range(1,30)}    \n",
    "#knn = KNeighborsClassifier() #1.44 for all values!\n",
    "#clf = GridSearchCV(knn, neighbors, n_jobs = 2, scoring='log_loss')\n",
    "#fit_model(clf)"
   ]
  },
  {
   "cell_type": "markdown",
   "metadata": {},
   "source": [
    "### Submission"
   ]
  },
  {
   "cell_type": "code",
   "execution_count": null,
   "metadata": {
    "collapsed": true
   },
   "outputs": [],
   "source": [
    "#train on the entire training set with the chosen model\n",
    "clf_sub = RandomForestClassifier(n_estimators=1000, n_jobs=3)\n",
    "y_pred_sub = clf.fit(train_data, train_labels).predict_proba(test_data)\n",
    "\n",
    "\n",
    "# Prepare the submission file\n",
    "sub = pd.DataFrame(y_pred_sub, columns=['Adoption', 'Died', 'Euthanasia', 'Return_to_owner', 'Transfer'])\n",
    "sub.insert(0, 'ID', test_ids.astype(int))\n",
    "\n",
    "sub.head()\n",
    "\n",
    "sub.to_csv(\"C:\\\\Subha\\\\WS207-ML\\\\Kaggle\\\\git\\\\submission.csv\", index=False)"
   ]
  },
  {
   "cell_type": "code",
   "execution_count": null,
   "metadata": {
    "collapsed": true
   },
   "outputs": [],
   "source": []
  },
  {
   "cell_type": "markdown",
   "metadata": {},
   "source": [
    "######  Finally, a shot at Gaussian mixture models"
   ]
  },
  {
   "cell_type": "code",
   "execution_count": 54,
   "metadata": {
    "collapsed": false
   },
   "outputs": [
    {
     "name": "stdout",
     "output_type": "stream",
     "text": [
      "Total Explained variance for the first 50 components:\n",
      "[ 0.69  0.91  0.94  0.97  0.98  0.98  0.98  0.99  0.99  0.99  0.99  0.99\n",
      "  0.99  0.99  0.99  0.99  0.99  0.99  0.99  0.99  1.    1.    1.    1.    1.\n",
      "  1.    1.    1.    1.    1.    1.    1.    1.    1.    1.    1.    1.    1.\n",
      "  1.    1.    1.    1.    1.    1.    1.    1.    1.    1.    1.    1.  ]\n"
     ]
    },
    {
     "data": {
      "text/plain": [
       "<matplotlib.collections.PathCollection at 0x46b70e48>"
      ]
     },
     "execution_count": 54,
     "metadata": {},
     "output_type": "execute_result"
    },
    {
     "data": {
      "image/png": "[encoded data removed]",
      "text/plain": [
       "<matplotlib.figure.Figure at 0x46bb1748>"
      ]
     },
     "metadata": {},
     "output_type": "display_data"
    }
   ],
   "source": [
    "\n",
    "#visualize the trainining data in 2d\n",
    "pca = PCA()\n",
    "pca.fit(train_data)\n",
    "print \"Total Explained variance for the first 50 components:\"\n",
    "res = np.cumsum(pca.explained_variance_ratio_)\n",
    "print res[:50]\n",
    "\n",
    "pca2d = PCA(n_components=2)\n",
    "train_2d = pca2d.fit_transform(train_data)\n",
    "\n",
    "cm_bright = ListedColormap(['red', 'orange', 'blue', 'white', 'black'])\n",
    "plt.figure(figsize=(12, 4))\n",
    "plt.scatter(train_2d[:,0], train_2d[:,1], c=train_labels.cat.codes, cmap=cm_bright)"
   ]
  },
  {
   "cell_type": "code",
   "execution_count": 58,
   "metadata": {
    "collapsed": false
   },
   "outputs": [
    {
     "name": "stdout",
     "output_type": "stream",
     "text": [
      "(21383, 251)\n",
      "(5346, 251)\n",
      "(21383,)\n",
      "(5346,)\n"
     ]
    }
   ],
   "source": [
    "\n",
    "#train- test set split\n",
    "\n",
    "#add the OutcomeType column back since we will need it for grouping\n",
    "train_data['OutcomeType'] = train_labels\n",
    "\n",
    "\n",
    "trainset, testset, trainset_labels, testset_labels = \\\n",
    "    cross_validation.train_test_split(train_data, train_labels, test_size=0.2)\n",
    "    \n",
    "print trainset.shape\n",
    "print testset.shape\n",
    "print trainset_labels.shape\n",
    "print testset_labels.shape\n"
   ]
  },
  {
   "cell_type": "code",
   "execution_count": 59,
   "metadata": {
    "collapsed": false
   },
   "outputs": [
    {
     "name": "stdout",
     "output_type": "stream",
     "text": [
      "adoption \t\t8672\n",
      "died \t\t162\n",
      "euthanasia \t\t1239\n",
      "return_to_owner \t\t3832\n",
      "transfer \t\t7478\n"
     ]
    }
   ],
   "source": [
    "#group by outcome type\n",
    "outcome_groups = trainset.groupby('OutcomeType')\n",
    "for name, group in outcome_groups:\n",
    "    print name, \"\\t\\t\", len(group)\n",
    "\n",
    "adoption_grp = outcome_groups.get_group('adoption')\n",
    "died_grp = outcome_groups.get_group('died')\n",
    "euth_grp = outcome_groups.get_group('euthanasia')\n",
    "return_grp = outcome_groups.get_group('return_to_owner')\n",
    "transfer_grp = outcome_groups.get_group('transfer')\n",
    "\n",
    "#drop the outcometype column again; else the models will choke on string data\n",
    "trainset = trainset.drop('OutcomeType', axis=1)\n",
    "testset = testset.drop('OutcomeType', axis=1)\n",
    "\n",
    "adoption_grp = adoption_grp.drop('OutcomeType', axis=1)\n",
    "died_grp = died_grp.drop('OutcomeType', axis=1)\n",
    "euth_grp = euth_grp.drop('OutcomeType', axis=1)\n",
    "return_grp = return_grp.drop('OutcomeType', axis=1)\n",
    "transfer_grp = transfer_grp.drop('OutcomeType', axis=1)\n"
   ]
  },
  {
   "cell_type": "code",
   "execution_count": 60,
   "metadata": {
    "collapsed": true
   },
   "outputs": [],
   "source": [
    "#get the principal components\n",
    "\n",
    "pca = PCA(n_components=5)\n",
    "pca.fit(trainset)\n",
    "\n",
    "adoption_grp_pca = pca.transform(adoption_grp)\n",
    "died_grp_pca = pca.transform(died_grp)\n",
    "euth_grp_pca = pca.transform(euth_grp)\n",
    "return_grp_pca = pca.transform(return_grp)\n",
    "transfer_grp_pca = pca.transform(transfer_grp)\n",
    "\n",
    "testset_pca = pca.transform(testset)"
   ]
  },
  {
   "cell_type": "code",
   "execution_count": 62,
   "metadata": {
    "collapsed": false
   },
   "outputs": [],
   "source": [
    "#now fit a GMM\n",
    "gmm_adoption = GMM(n_components=4, covariance_type='full')\n",
    "gmm_adoption.fit(adoption_grp_pca)\n",
    "\n",
    "gmm_died = GMM(n_components=4, covariance_type='full')\n",
    "gmm_died.fit(died_grp_pca)\n",
    "\n",
    "gmm_euth = GMM(n_components=4, covariance_type='full')\n",
    "gmm_euth.fit(euth_grp_pca)\n",
    "\n",
    "gmm_return = GMM(n_components=4, covariance_type='full')\n",
    "gmm_return.fit(return_grp_pca)\n",
    "\n",
    "gmm_transfer = GMM(n_components=4, covariance_type='full')\n",
    "gmm_transfer.fit(transfer_grp_pca)\n",
    "\n",
    "testset_proba = np.zeros((len(testset_labels),len(set(testset_labels))))    \n",
    "\n",
    "#calculate the probabily of the predicted label on test data\n",
    "testset_proba[:,0] = gmm_adoption.score(testset_pca)\n",
    "testset_proba[:,1] = gmm_died.score(testset_pca)\n",
    "testset_proba[:,2] = gmm_euth.score(testset_pca)\n",
    "testset_proba[:,3] = gmm_return.score(testset_pca)\n",
    "testset_proba[:,4] = gmm_transfer.score(testset_pca)\n",
    "\n"
   ]
  },
  {
   "cell_type": "code",
   "execution_count": 63,
   "metadata": {
    "collapsed": false
   },
   "outputs": [
    {
     "name": "stdout",
     "output_type": "stream",
     "text": [
      "Log Loss: 1.45328550085\n",
      "             precision    recall  f1-score   support\n",
      "\n",
      "   adoption       0.62      0.46      0.53      2097\n",
      "       died       0.03      0.54      0.05        35\n",
      " euthanasia       0.10      0.25      0.14       316\n",
      "return_to_owner       0.32      0.47      0.38       954\n",
      "   transfer       0.56      0.27      0.36      1944\n",
      "\n",
      "avg / total       0.51      0.38      0.42      5346\n",
      "\n"
     ]
    }
   ],
   "source": [
    "testset_proba = np.exp(testset_proba)\n",
    "\n",
    "labels = testset_labels.categories\n",
    "print \"Log Loss:\", metrics.log_loss(testset_labels, testset_proba)  \n",
    "testset_pred = [labels[row.argmax()] for row in testset_proba]\n",
    "print metrics.classification_report(testset_labels, testset_pred)"
   ]
  }
 ],
 "metadata": {
  "kernelspec": {
   "display_name": "Python 2",
   "language": "python",
   "name": "python2"
  },
  "language_info": {
   "codemirror_mode": {
    "name": "ipython",
    "version": 2
   },
   "file_extension": ".py",
   "mimetype": "text/x-python",
   "name": "python",
   "nbconvert_exporter": "python",
   "pygments_lexer": "ipython2",
   "version": "2.7.11"
  }
 },
 "nbformat": 4,
 "nbformat_minor": 0
}
