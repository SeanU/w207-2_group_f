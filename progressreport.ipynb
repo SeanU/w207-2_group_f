{
 "cells": [
  {
   "cell_type": "markdown",
   "metadata": {},
   "source": [
    "# Shelter Animals Outcomes Kaggle competition - Progress report"
   ]
  },
  {
   "cell_type": "markdown",
   "metadata": {},
   "source": [
    "#### Group F : Sean Underwood, John Tuthill, Talieh Hajzargarbashi, Subhashini Raghunathan"
   ]
  },
  {
   "cell_type": "markdown",
   "metadata": {},
   "source": [
    "Our group has selected the Shelter Animals Outcomes Kaggle competition (https://www.kaggle.com/c/shelter-animal-outcomes).\n",
    "This dataset contains around 26,000 observations on 9 variables desribing the animal (cats and dogs only) and its outcome. The goal of the competition is to predict the pets' outcome.\n",
    "\n",
    "Although the feature set appears small, there is quite a  bit of scope for feature engineering. In fact, we found with our experiments that the choice of ML algorithm matters less than the choice of features."
   ]
  },
  {
   "cell_type": "markdown",
   "metadata": {},
   "source": [
    "#### Feature Engineering"
   ]
  },
  {
   "cell_type": "markdown",
   "metadata": {},
   "source": [
    "The dataset has the following variables:\n",
    "- AnimalID: unique identifier\n",
    "- Name: Missing in many cases; some animals are likely given names and others are not\n",
    "- DateTime:\tof the outcome\n",
    "- OutcomeType: The variable to be predicted; one of (Adoption, Died, Euthanasia, Transfer, Return to Owner)\n",
    "- OutcomeSubtype: Further information on the outcome. this field is not provided in the test dataset, so we will ignore it.\n",
    "- AnimalType: Cat or Dog\n",
    "- SexuponOutcome: Contains 2 pieces of information: Male/Female and Neutered/Spayed\n",
    "- AgeuponOutcome\n",
    "- Breed: This could be a mix of 2 breeds, a single breed, etc. There are over a thousand unique breed names and many many more combinations.\n",
    "- Color: Upto 2 colors\n",
    "\n",
    "\n",
    "We have experimented so far with binarizing the feature variables. With some it was quite straightforward (e.g. AnimalType, SexUponOutcome). For others like Breed, binarizing creates potentially thousands of new features and has the potential to overfit because of the sparseness of observations in each category. "
   ]
  },
  {
   "cell_type": "markdown",
   "metadata": {},
   "source": [
    "#### Algorithms"
   ]
  },
  {
   "cell_type": "markdown",
   "metadata": {},
   "source": [
    "The process we are following is outlined below:\n",
    "- split the training data into a training and development set\n",
    "- train models on the training data subset; score on the development set\n",
    "- performing error analysis on the development prediction results\n",
    "- select a model based on best accuracy on training subset\n",
    "- train the selected model on the entire training data\n",
    "- get predictions for the test data and submit for Kaggle evaluation.\n",
    "\n",
    "\n",
    "For our intial submission we trained a logistic regression on a binarized feature set. This gave us an accuracy of about 0.66 on the dev data and an overall Kaggle score of 0.93. Subsequently we tried other algorithms (SVMs, Random Forest, AdaBoost) and also experimented with feature engineering. This gave us similar results for accuracy on the dev data but lower Kaggle scores than our intial submission. We concluded that Logistic Regression is probably the best algorithm for this dataset, and improvements can be made through further feature engineering."
   ]
  },
  {
   "cell_type": "markdown",
   "metadata": {},
   "source": [
    "#### Next Steps"
   ]
  },
  {
   "cell_type": "markdown",
   "metadata": {},
   "source": [
    "We will focus on feature engineering. Some ideas in this direction are:\n",
    "- re-group the Breed variable based on external information about the breed. E.g. wikipedia has a list of dog groupings that are much smaller than the number of breeds. We could pull this data and incorporate it. \n",
    "- extract more information from the DateTime field - e.g. time of day, day of week, month, year, date etc. Some of these we have already tried.\n"
   ]
  },
  {
   "cell_type": "markdown",
   "metadata": {},
   "source": [
    "###### Kaggle entry details\n",
    "\n",
    "Our code and this report are checked in to https://github.com/SeanU/w207-2_group_f\n",
    "\n",
    "Our team name is \"Cats and Dogs\" and we are currently placed 149th/249 with a score of 0.93\n"
   ]
  }
 ],
 "metadata": {
  "kernelspec": {
   "display_name": "Python 2",
   "language": "python",
   "name": "python2"
  },
  "language_info": {
   "codemirror_mode": {
    "name": "ipython",
    "version": 2
   },
   "file_extension": ".py",
   "mimetype": "text/x-python",
   "name": "python",
   "nbconvert_exporter": "python",
   "pygments_lexer": "ipython2",
   "version": "2.7.11"
  }
 },
 "nbformat": 4,
 "nbformat_minor": 0
}
